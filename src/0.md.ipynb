{
 "cells": [
  {
   "cell_type": "code",
   "execution_count": 1,
   "metadata": {},
   "outputs": [
    {
     "data": {
      "text/html": [
       "<style>\n",
       ".jp-mod-presentationMode {\n",
       "    --jp-notebook-padding: 0;\n",
       "}\n",
       ".jp-RenderedHTMLCommon pre code {\n",
       "    opacity: 0.25;\n",
       "}\n",
       ".jp-Placeholder-content .jp-MoreHorizIcon {\n",
       "    background-size: 32px;\n",
       "}\n",
       "</style><style>\n",
       ".jp-mod-presentationMode .jp-SideBar,\n",
       ".jp-mod-presentationMode #jp-top-panel {\n",
       "    opacity: 0.0;\n",
       "    transition: all 0.2s;\n",
       "}\n",
       ".jp-mod-presentationMode .jp-SideBar:hover,\n",
       ".jp-mod-presentationMode #jp-top-panel:hover {\n",
       "    opacity: 0.9;\n",
       "    transition: all 0.2s;\n",
       "}</style><style>\n",
       ".jp-mod-presentationMode.jp-ApplicationShell,\n",
       ".jp-mod-presentationMode .p-TabBar-content{\n",
       "    background-color: var(--jp-layout-color0);\n",
       "}\n",
       "</style><style>\n",
       ".jp-mod-presentationMode .p-DockPanel-widget,\n",
       ".jp-mod-presentationMode #jp-left-stack{\n",
       "    border-color: transparent;\n",
       "}\n",
       ".jp-mod-presentationMode .jp-Toolbar-item,\n",
       ".jp-mod-presentationMode .jp-Toolbar {\n",
       "    opacity: 0.1;\n",
       "    transition: all 0.2s;\n",
       "}\n",
       ".jp-mod-presentationMode .jp-Toolbar-item:hover,\n",
       ".jp-mod-presentationMode .jp-Toolbar:hover {\n",
       "    opacity: 0.9;\n",
       "    transition: all 0.2s;\n",
       "}\n",
       "\n",
       ".jp-mod-presentationMode .jp-InputArea {\n",
       "    flex-direction: column;\n",
       "}\n",
       "\n",
       "</style><style>\n",
       ".jp-mod-presentationMode .jp-Notebook .jp-Cell .jp-InputPrompt, \n",
       ".jp-mod-presentationMode .jp-Notebook .jp-Cell .jp-OutputPrompt {\n",
       "    flex: 0 0 2rem !important;\n",
       "    opacity: 0;\n",
       "}\n",
       ".jp-mod-presentationMode .jp-Notebook .jp-Cell.jp-mod-active .jp-OutputPrompt,\n",
       ".jp-mod-presentationMode .jp-Notebook .jp-Cell.jp-mod-active .jp-OutputPrompt {\n",
       "    opacity: 0.5;\n",
       "}\n",
       ".jp-mod-presentationMode .jp-Notebook .jp-Cell .jp-InputPrompt, \n",
       ".jp-mod-presentationMode .jp-Notebook .jp-Cell .jp-OutputPrompt\n",
       "\n",
       ".jp-mod-presentationMode hr {\n",
       "    opacity: 0.1;\n",
       "}\n",
       "</style>\n",
       "    <style>\n",
       "    .jp-TableOfContents-content h1, \n",
       "    .jp-TableOfContents-content h2 {\n",
       "        margin-bottom: var(--jp-ui-font-size0);\n",
       "    }\n",
       "    </style>\n",
       "    \n",
       "    <style>\n",
       "    .jp-mod-presentationMode {\n",
       "        --jp-content-heading-line-height: 1.25 !important;\n",
       "    }\n",
       "    </style>\n",
       "    \n",
       "    <style>\n",
       "    .jp-mod-presentationMode #jp-main-status-bar {\n",
       "        opacity: 0.06;\n",
       "        transition: all 0.2s;\n",
       "    }\n",
       "    .jp-mod-presentationMode #jp-main-status-bar:hover {\n",
       "        opacity: 0.8;\n",
       "        transition: all 0.2s;\n",
       "    }\n",
       "    </style>\n",
       "    "
      ],
      "text/plain": [
       "<IPython.core.display.HTML object>"
      ]
     },
     "metadata": {},
     "output_type": "display_data"
    }
   ],
   "source": [
    "%reload_ext pidgin.shell\n",
    "%reload_ext pidgin.display\n",
    "import deathbeds.__style__"
   ]
  },
  {
   "cell_type": "code",
   "execution_count": 2,
   "metadata": {},
   "outputs": [],
   "source": [
    "    import mistune, IPython, pandas\n",
    "    ip = get_ipython()"
   ]
  },
  {
   "cell_type": "markdown",
   "metadata": {},
   "source": [
    "## `career` provides information about me."
   ]
  },
  {
   "cell_type": "code",
   "execution_count": 3,
   "metadata": {},
   "outputs": [],
   "source": [
    "    \n",
    "    class career:\n",
    "\n",
    "---\n",
    "# My career is in scientific computing research\n",
    "\n",
    "My entire career as a scientific I have been using computers to draw my discovers within data.  I started in materials science\n",
    "where data is different, non-euclidean and microscopic.\n",
    "\n",
    "---\n",
    ">\n",
    " # Multi-scale and time materials data\n",
    "\n",
    " ![](https://image.slidesharecdn.com/flamel-ss-141210102438-conversion-gate02/95/flamel-materials-informatics-course-roundup-15-638.jpg)\n",
    "\n",
    "---\n",
    "I've worn a lot of hats.\n",
    "---\n",
    "- |\n",
    "    * Researcher\n",
    "    * Scientist\n",
    "    * Teacher\n",
    "- |\n",
    "    * Data Scientist\n",
    "    * Community Manager\n",
    "    * Data Engineer\n",
    "    * User Experience\n",
    "    * Marketing\n",
    "    * Artist\n",
    "    * Software Developer\n",
    "    * Project Manager\n",
    "\n",
    "- >\n",
    "    {{career.companies}}\n",
    "\n",
    "---\n",
    "   \n",
    "        class companies:\n",
    "* [Quansight](https://www.quansight.com/)\n",
    "* [Bastille](https://www.bastille.net/)\n",
    "* [Anaconda](https://anaconda.org/)\n",
    "* [Georgia Tech](https://matin.gatech.edu/)\n",
    "<br/>\n",
    "    \n",
    "    career;"
   ]
  },
  {
   "cell_type": "markdown",
   "metadata": {},
   "source": [
    "### `deathbeds` is a side projects\n",
    "\n",
    "`deathbeds` is a blog that synthesizes ideas about data, interactive computing & literate programming together in Jupyter notebooks."
   ]
  },
  {
   "cell_type": "code",
   "execution_count": 4,
   "metadata": {},
   "outputs": [],
   "source": [
    "    \n",
    "    class deathbeds:\n",
    "---\n",
    "- >\n",
    "    [`deathbeds`](https://deathbeds.github.io) is a code collective that records their work using Project Jupyter notebooks.\n",
    "- >\n",
    "    ![](https://avatars0.githubusercontent.com/u/35347142?s=400&v=4)\n",
    "---\n",
    "\"{{deathbeds.url}}\"\n",
    "\n",
    "---\n",
    "Currently, there are __{{len(deathbeds.posts)}}__ posts about interactive programming, literate programming, data science, and open source software.\n",
    "---\n",
    "\n",
    "        url=\\\n",
    "http://nbviewer.jupyter.org/github/deathbeds/deathbeds.github.io/tree/master/deathbeds/\n",
    "    \n",
    "        posts = pandas.read_html(url)[0].Name.pipe(lambda s: s[s.apply(lambda x: x[0].isnumeric())])\n",
    "        \n",
    "    deathbeds;"
   ]
  },
  {
   "cell_type": "markdown",
   "metadata": {},
   "source": [
    "## I'm `tony`"
   ]
  },
  {
   "cell_type": "code",
   "execution_count": 5,
   "metadata": {},
   "outputs": [],
   "source": [
    "\n",
    "    class tony:\n",
    "---\n",
    "\"# I make stuff in notebooks\n",
    "\n",
    "---\"\n",
    "---\n",
    "- - \"## I'm obsessed with letters\"\n",
    "  - \"![](https://user-images.githubusercontent.com/4236275/47722110-0413a900-dc28-11e8-8012-afef08206966.png)\"\n",
    "    \n",
    "- >\n",
    "    {{deathbeds}}\n",
    "        ...\n",
    "# And I am obsessed with letters.\n",
    "\n",
    "    tony;"
   ]
  },
  {
   "cell_type": "markdown",
   "metadata": {},
   "source": [
    "## In `history` we look a little bit at my long term habits as a programmer."
   ]
  },
  {
   "cell_type": "code",
   "execution_count": 6,
   "metadata": {},
   "outputs": [],
   "source": [
    "    \n",
    "    class history:\n",
    "---\n",
    "- >\n",
    "    {{history.maple}}\n",
    "    \n",
    "    <hr/>\n",
    "---\n",
    ">\n",
    " # Multi-scale and time materials data\n",
    "\n",
    " ![](https://image.slidesharecdn.com/flamel-ss-141210102438-conversion-gate02/95/flamel-materials-informatics-course-roundup-15-638.jpg)\n",
    "---\n",
    "Jekyll was my intermediate to Open source python.  I brushed up on my html, javascript.  I learned some d3.\n",
    "Describe jekyll\n",
    "---\n",
    "http://materials-informatics-lab.github.io\n",
    "---\n",
    "\"# A history of my programming language preferences.\n",
    "\n",
    "After leaving academic research science I was forced to transition to open source software.\n",
    "\n",
    "[![image](https://user-images.githubusercontent.com/4236275/47723867-ce70bf00-dc2b-11e8-9f38-8f8df927bc03.png)](https://www.slideshare.net/tonyfast1/flamel-materials-informatics-course-roundup)\n",
    "\n",
    "> This diagrams are from a `pandas` demonstration presented to Munmun's class.\n",
    "<hr/>\"\n",
    "---\n",
    "\"## My Matlab thesis code was transformed into Python code.\n",
    "\n",
    "{{'http://pymks.org/en/latest/rst/README.html'}}\n",
    "\n",
    "<hr/>\"\n",
    "---\n",
    "\"Now I just work in notebooks.\n",
    "\n",
    "![image](https://user-images.githubusercontent.com/4236275/47723874-d466a000-dc2b-11e8-8d18-9f6724721625.png)\"\n",
    "---\n",
    "For the past 4 years, the vast majority of my work is accessible on Github.\n",
    "\n",
    "        \n",
    "        class maple:\n",
    "## Maple\n",
    "\n",
    "Maple is a symbollic programming language with a notebook style interface.\n",
    "\n",
    "### [Application of microstructure sensitive design to structural components produced from hexagonal polycrystalline metals](https://www.sciencedirect.com/science/article/pii/S0927025607003369 \"2007\")\n",
    "\n",
    "![](https://ars.els-cdn.com/content/image/1-s2.0-S0927025607003369-gr4.jpg)    \n",
    "\n",
    "\n",
    "    history;"
   ]
  },
  {
   "cell_type": "markdown",
   "metadata": {},
   "source": [
    "## There are different `brands` of notebooks"
   ]
  },
  {
   "cell_type": "code",
   "execution_count": 7,
   "metadata": {},
   "outputs": [],
   "source": [
    "    \n",
    "    class brands:\n",
    "---\n",
    "\"# My Two Favorite Brands of Notebooks\"\n",
    "---\n",
    "- https://rhodiapads.com/images/dotpad.jpg\n",
    "- http://jupyter.org/\n",
    "\n",
    "---\n",
    "\"# There are other editors _for computers_.\"\n",
    "\n",
    "---\n",
    "- https://jupyterlab.readthedocs.io/en/stable/\n",
    "- https://jupyter-notebook.readthedocs.io/en/stable/\n",
    "- https://nteract.io/\n",
    "---\n",
    "- http://jupyter.org/hub\n",
    "- https://research.google.com/colaboratory/faq.html\n",
    "- https://cocalc.com/\n",
    "---\n",
    "# [A quick look at colab](https://colab.research.google.com)\n",
    "\n",
    "    brands;"
   ]
  },
  {
   "cell_type": "markdown",
   "metadata": {},
   "source": [
    "## Jupyter is an open source `community`\n",
    "\n",
    "At some libraries io data and download data from anaconda maybe."
   ]
  },
  {
   "cell_type": "code",
   "execution_count": 33,
   "metadata": {},
   "outputs": [],
   "source": [
    "    \n",
    "    class community:\n",
    "---\n",
    "\"# Jupyter is a community & ecosytem.\"\n",
    "---\n",
    "- http://jupyter.org/community\n",
    "- \"[![](https://jupyter.readthedocs.io/en/latest/_images/repos_map.png)](https://jupyter.readthedocs.io/en/latest/architecture/visual_overview.html)\"\n",
    "---\n",
    "- https://libcce.github.io/TriangleJupyter/2018/10/23/announcing-full-program.html\n",
    "- https://atl-jugheads.github.io/jupyter-day-atlanta-ii/\n",
    "- https://jupyterday-atlanta-2016.github.io/\n",
    "---\n",
    "\"[![](https://cdn-images-1.medium.com/max/2000/1*OSsa7iznmO0xoicq3uZHhg.png)](https://www.youtube.com/watch?v=Ql2f1eF52P8&list=PL055Epbe6d5b572IRmYAHkUgcq3y6K3Ae)\"\n",
    "---\n",
    "https://www.meetup.com/Atlanta-Jupyter-User-Group/\n",
    "---\n",
    "\n",
    "    community;"
   ]
  },
  {
   "cell_type": "markdown",
   "metadata": {},
   "source": [
    "## There are over 3 million notebooks on Github"
   ]
  },
  {
   "cell_type": "code",
   "execution_count": 34,
   "metadata": {},
   "outputs": [],
   "source": [
    "    \n",
    "    class nbestimate:\n",
    "---\n",
    "- \"{{nbestimate.short}}\\n\\n{{nbestimate.df}}\"\n",
    "- \"{{nbestimate.link}}\"\n",
    "---\n",
    "\n",
    "        short =\\\n",
    "[`nbestimate`](nbestimate.link) An estimate of the number of notebooks on github.\n",
    "    \n",
    "        link =\\\n",
    "http://nbviewer.jupyter.org/github/parente/nbestimate/blob/master/estimate.ipynb\n",
    "        \n",
    "        #df = pandas.read_html(link, parse_dates=True)[0].pipe(\n",
    "        #    lambda df: pandas.DataFrame(df.values, columns=['date', 'hits'])\n",
    "        #).set_index('date').T"
   ]
  },
  {
   "cell_type": "markdown",
   "metadata": {},
   "source": [
    "## There are enough notebooks to perform big data studies or notebooks tendencies."
   ]
  },
  {
   "cell_type": "code",
   "execution_count": 35,
   "metadata": {},
   "outputs": [],
   "source": [
    "    \n",
    "    class millionb:\n",
    "---\n",
    "\"# <del>We</del> Analyzed 1 Million Jupyter Notebooks — Now You Can Too \"\n",
    "---\n",
    "- \"![](https://cdn-images-1.medium.com/max/1200/1*AquKZXRbdFxzY74sTj34VA.png)\"\n",
    "- \"http://adamrule.com/files/papers/chi_2018_computational_notebooks_camera_ready.pdf\"\n",
    "---\n",
    "\"> We will discover later that the data format of the notebook makes this study possible.\"\n",
    "---\n",
    "    \n",
    "    github =\\\n",
    "https://github.com/activityhistory/jupyter_on_github\n",
    "        "
   ]
  },
  {
   "cell_type": "markdown",
   "metadata": {},
   "source": [
    "## Open source software provides access to many disciplines\n",
    "\n",
    "Open source software & jupyter are `popular` across many domains."
   ]
  },
  {
   "cell_type": "code",
   "execution_count": 36,
   "metadata": {},
   "outputs": [],
   "source": [
    "    \n",
    "    class popular:\n",
    "---\n",
    "- \"# [Nature Why Jupyter is data scientists’ computational notebook of choice](https://www.nature.com/articles/d41586-018-07196-1)\"\n",
    "---\n",
    "This presentation describes why notebooks seem to meet the needs of so many scientists, teachers, analysts, and journalists.\n",
    "\n",
    "A few places where Jupyter is becoming popular\n",
    "\n",
    "- economist\n",
    "- Paul Romer Nobel Prize\n",
    "- [five thirty eight](https://fivethirtyeight.com/)\n",
    "- atlantic \n",
    "- data8\n",
    "- [Nature Why Jupyter is data scientists’ computational notebook of choice](https://www.nature.com/articles/d41586-018-07196-1)\n",
    "- columbia journalism\n",
    "- ligo\n",
    "- [Jupyter Education Forum](https://groups.google.com/forum/#!forum/jupyter-education)\n",
    "- acm award\n",
    "\n",
    "---\n",
    "\"Each discipline speaks a different language.  Science are data are multi lingual.\"\n",
    "\n",
    "    popular;"
   ]
  },
  {
   "cell_type": "markdown",
   "metadata": {},
   "source": [
    "## Notebooks have existed long enough to have a history  \n",
    "\n",
    "`teaching` is one of the spaces where the early adopters can hand us down lessons."
   ]
  },
  {
   "cell_type": "code",
   "execution_count": 37,
   "metadata": {},
   "outputs": [],
   "source": [
    "    \n",
    "    class teaching:\n",
    "- > \n",
    "    > Barba, who has implemented notebooks in every course she has taught since 2013, related at a keynote address in 2014 that notebooks allow her students to interactively engage with — and absorb material from — lessons in a way that lectures cannot match. “IPython notebooks are really a killer app for teaching computing in science and engineering,” she said.\n",
    "- https://cdn.oreillystatic.com/en/assets/1/event/285/Jupyter%20graduates%20Presentation.pdf\n",
    "- https://nbgrader.readthedocs.io/en/stable/\n",
    "    \n",
    "    teaching;"
   ]
  },
  {
   "cell_type": "markdown",
   "metadata": {},
   "source": [
    "Might do an oriole hting here."
   ]
  },
  {
   "cell_type": "markdown",
   "metadata": {},
   "source": [
    "## Open source provides access to companies"
   ]
  },
  {
   "cell_type": "code",
   "execution_count": 38,
   "metadata": {},
   "outputs": [],
   "source": [
    "    \n",
    "    class cloud:\n",
    "# Jupyter in the cloud\n",
    "\n",
    "Talk about how people are cloud hosted notebooks.  This avoids a lot of installation issues.\n",
    "\n",
    "Colab binder jupyterhub\n",
    "carol jupyter talk.\n",
    "\n",
    "Reproducibility is real"
   ]
  },
  {
   "cell_type": "markdown",
   "metadata": {},
   "source": [
    "## Open source provides access to bad actors."
   ]
  },
  {
   "cell_type": "code",
   "execution_count": 39,
   "metadata": {},
   "outputs": [],
   "source": [
    "    \n",
    "    class growth:\n",
    "---\n",
    "What does all of this mean?\n",
    "\n",
    "Corporate adoption and use will grow.  More organizes will share notebooks and install Jupyter hubs.\n",
    "\n",
    "---\n",
    "- https://blog.tidelift.com/open-source-is-everywhere-survey-results-part-1\n",
    "- https://stackoverflow.blog/2017/09/06/incredible-growth-python/\n",
    "---\n",
    "\"[![](https://cdn-images-1.medium.com/max/2000/1*WOEEJizYnO8ibtU2l9jWbA.jpeg)](https://medium.com/netflix-techblog/notebook-innovation-591ee3221233)\"\n",
    "---\n",
    "\n",
    "---\n",
    "Open source is inescapable.  We need flexible development environments and programming styles to future our research software.\n",
    "---\n",
    "    \n",
    "    growth;"
   ]
  },
  {
   "cell_type": "markdown",
   "metadata": {},
   "source": [
    "## [[2017] Jupyter receives the ACM Software System Award](https://blog.jupyter.org/jupyter-receives-the-acm-software-system-award-d433b0dfe3a2)\n",
    "\n",
    "Project Jupyter recently wound up in the annals of computer science history."
   ]
  },
  {
   "cell_type": "code",
   "execution_count": 1,
   "metadata": {},
   "outputs": [
    {
     "ename": "IndentationError",
     "evalue": "expected an indented block (<ipython-input-1-16e541e313b6>, line 2)",
     "output_type": "error",
     "traceback": [
      "\u001b[1;36m  File \u001b[1;32m\"<ipython-input-1-16e541e313b6>\"\u001b[1;36m, line \u001b[1;32m2\u001b[0m\n\u001b[1;33m    https://en.wikipedia.org/wiki/ACM_Software_System_Award\u001b[0m\n\u001b[1;37m        ^\u001b[0m\n\u001b[1;31mIndentationError\u001b[0m\u001b[1;31m:\u001b[0m expected an indented block\n"
     ]
    }
   ],
   "source": [
    "    class acm:\n",
    "https://en.wikipedia.org/wiki/ACM_Software_System_Award"
   ]
  },
  {
   "cell_type": "code",
   "execution_count": 41,
   "metadata": {},
   "outputs": [
    {
     "data": {
      "text/markdown": [
       "---\n",
       "---\n",
       "---\n",
       "---\n",
       "---\n",
       "---\n",
       "---\n",
       "---\n",
       "---\n",
       "---\n",
       "---\n",
       "---\n",
       "---\n",
       "---\n",
       "---\n"
      ],
      "text/plain": [
       "<IPython.core.display.Markdown object>"
      ]
     },
     "metadata": {},
     "output_type": "display_data"
    },
    {
     "data": {
      "text/html": [
       "<div style=\"display: flex; flex-direction: column\"><div style=\"flex: 1\"><p>My entire career as a scientific I have been using computers to draw my discovers within data.  I started in materials science where data is different, non-euclidean and microscopic.</p>\n",
       "</div><div style=\"flex: 1\"><h1>Multi-scale and time materials data</h1>\n",
       "<p><img src=\"https://image.slidesharecdn.com/flamel-ss-141210102438-conversion-gate02/95/flamel-materials-informatics-course-roundup-15-638.jpg\" alt=\"\" /></p>\n",
       "</div><div style=\"flex: 1\"><p>I've worn a lot of hats.</p>\n",
       "</div><div style=\"flex: 1\"><div style=\"display: flex; flex-direction: row\"><div style=\"flex: 1\"><ul>\n",
       "<li>Researcher</li>\n",
       "<li>Scientist</li>\n",
       "<li>Teacher</li>\n",
       "</ul>\n",
       "</div><div style=\"flex: 1\"><ul>\n",
       "<li>Data Scientist</li>\n",
       "<li>Community Manager</li>\n",
       "<li>Data Engineer</li>\n",
       "<li>User Experience</li>\n",
       "<li>Marketing</li>\n",
       "<li>Artist</li>\n",
       "<li>Software Developer</li>\n",
       "<li>Project Manager</li>\n",
       "</ul>\n",
       "</div><div style=\"flex: 1\"><ul>\n",
       "<li><a href=\"https://www.quansight.com/\">Quansight</a></li>\n",
       "<li><a href=\"https://www.bastille.net/\">Bastille</a></li>\n",
       "<li><a href=\"https://anaconda.org/\">Anaconda</a></li>\n",
       "<li><a href=\"https://matin.gatech.edu/\">Georgia Tech</a></li>\n",
       "</ul>\n",
       "<br/>\n",
       "</div></div></div></div>"
      ],
      "text/plain": [
       "__main__.career"
      ]
     },
     "metadata": {},
     "output_type": "display_data"
    },
    {
     "data": {
      "text/markdown": [
       "---\n",
       "---\n",
       "---\n",
       "---\n",
       "---\n",
       "---\n",
       "---\n",
       "---\n",
       "---\n",
       "---\n",
       "---\n",
       "---\n",
       "---\n",
       "---\n",
       "---\n"
      ],
      "text/plain": [
       "<IPython.core.display.Markdown object>"
      ]
     },
     "metadata": {},
     "output_type": "display_data"
    },
    {
     "data": {
      "text/html": [
       "<div style=\"display: flex; flex-direction: column\"><div style=\"flex: 1\"><div style=\"display: flex; flex-direction: row\"><div style=\"flex: 1\"><h2>Maple</h2>\n",
       "<p>Maple is a symbollic programming language with a notebook style interface.</p>\n",
       "<h3><a href=\"https://www.sciencedirect.com/science/article/pii/S0927025607003369\" title=\"2007\">Application of microstructure sensitive design to structural components produced from hexagonal polycrystalline metals</a></h3>\n",
       "<p><img src=\"https://ars.els-cdn.com/content/image/1-s2.0-S0927025607003369-gr4.jpg\" alt=\"\" /></p>\n",
       "<hr/>\n",
       "</div></div></div><div style=\"flex: 1\"><h1>Multi-scale and time materials data</h1>\n",
       "<p><img src=\"https://image.slidesharecdn.com/flamel-ss-141210102438-conversion-gate02/95/flamel-materials-informatics-course-roundup-15-638.jpg\" alt=\"\" /></p>\n",
       "</div><div style=\"flex: 1\"><p>Jekyll was my intermediate to Open source python.  I brushed up on my html, javascript.  I learned some d3. Describe jekyll</p>\n",
       "</div><div style=\"flex: 1\"><iframe style=\"height: 400px; width: 100%\" src=\"http://materials-informatics-lab.github.io\"></iframe></div><div style=\"flex: 1\"><h1>A history of my programming language preferences.</h1>\n",
       "<p>After leaving academic research science I was forced to transition to open source software.\n",
       "<a href=\"https://www.slideshare.net/tonyfast1/flamel-materials-informatics-course-roundup\"><img src=\"https://user-images.githubusercontent.com/4236275/47723867-ce70bf00-dc2b-11e8-9f38-8f8df927bc03.png\" alt=\"image\" /></a></p>\n",
       "<blockquote>\n",
       "<p>This diagrams are from a <code>pandas</code> demonstration presented to Munmun's class. <hr/></p>\n",
       "</blockquote>\n",
       "</div><div style=\"flex: 1\"><h2>My Matlab thesis code was transformed into Python code.</h2>\n",
       "<iframe style=\"height: 400px; width: 100%\" src=\"http://pymks.org/en/latest/rst/README.html\"></iframe>\n",
       "<hr/>\n",
       "</div><div style=\"flex: 1\"><p>Now I just work in notebooks.\n",
       "<img src=\"https://user-images.githubusercontent.com/4236275/47723874-d466a000-dc2b-11e8-8d18-9f6724721625.png\" alt=\"image\" /></p>\n",
       "</div><div style=\"flex: 1\"><p>For the past 4 years, the vast majority of my work is accessible on Github.</p>\n",
       "</div></div>"
      ],
      "text/plain": [
       "__main__.history"
      ]
     },
     "metadata": {},
     "output_type": "display_data"
    },
    {
     "data": {
      "text/markdown": [
       "---\n",
       "---\n",
       "---\n",
       "---\n",
       "---\n",
       "---\n",
       "---\n",
       "---\n",
       "---\n",
       "---\n",
       "---\n",
       "---\n",
       "---\n",
       "---\n",
       "---\n"
      ],
      "text/plain": [
       "<IPython.core.display.Markdown object>"
      ]
     },
     "metadata": {},
     "output_type": "display_data"
    },
    {
     "data": {
      "text/html": [
       "<div style=\"display: flex; flex-direction: column\"><div style=\"flex: 1\"><h1>I make stuff in notebooks</h1>\n",
       "<hr />\n",
       "</div><div style=\"flex: 1\"><div style=\"display: flex; flex-direction: row\"><div style=\"flex: 1\"><div style=\"display: flex; flex-direction: column\"><div style=\"flex: 1\"><h2>I'm obsessed with letters</h2>\n",
       "</div><div style=\"flex: 1\"><p><img src=\"https://user-images.githubusercontent.com/4236275/47722110-0413a900-dc28-11e8-8012-afef08206966.png\" alt=\"\" /></p>\n",
       "</div></div></div><div style=\"flex: 1\"><div style=\"display: flex; flex-direction: column\"><div style=\"flex: 1\"><div style=\"display: flex; flex-direction: row\"><div style=\"flex: 1\"><p><a href=\"https://deathbeds.github.io\"><code>deathbeds</code></a> is a code collective that records their work using Project Jupyter notebooks.</p>\n",
       "</div><div style=\"flex: 1\"><p><img src=\"https://avatars0.githubusercontent.com/u/35347142?s=400&amp;v=4\" alt=\"\" /></p>\n",
       "</div></div></div><div style=\"flex: 1\"><iframe style=\"height: 400px; width: 100%\" src=\"http://nbviewer.jupyter.org/github/deathbeds/deathbeds.github.io/tree/master/deathbeds/\"></iframe>\n",
       "</div><div style=\"flex: 1\"><p>Currently, there are <strong>88</strong> posts about interactive programming, literate programming, data science, and open source software.</p>\n",
       "</div></div>\n",
       "    ...\n",
       "</div></div></div></div>"
      ],
      "text/plain": [
       "__main__.tony"
      ]
     },
     "metadata": {},
     "output_type": "display_data"
    },
    {
     "data": {
      "text/markdown": [
       "---\n",
       "---\n",
       "---\n",
       "---\n",
       "---\n",
       "---\n",
       "---\n",
       "---\n",
       "---\n",
       "---\n",
       "---\n",
       "---\n",
       "---\n",
       "---\n",
       "---\n"
      ],
      "text/plain": [
       "<IPython.core.display.Markdown object>"
      ]
     },
     "metadata": {},
     "output_type": "display_data"
    },
    {
     "data": {
      "text/html": [
       "<div style=\"display: flex; flex-direction: column\"><div style=\"flex: 1\"><h1>My Two Favorite Brands of Notebooks</h1>\n",
       "</div><div style=\"flex: 1\"><div style=\"display: flex; flex-direction: row\"><div style=\"flex: 1\"><img src=\"https://rhodiapads.com/images/dotpad.jpg\"></img></div><div style=\"flex: 1\"><iframe style=\"height: 400px; width: 100%\" src=\"http://jupyter.org/\"></iframe></div></div></div><div style=\"flex: 1\"><h1>There are other editors <em>for computers</em>.</h1>\n",
       "</div><div style=\"flex: 1\"><div style=\"display: flex; flex-direction: row\"><div style=\"flex: 1\"><iframe style=\"height: 400px; width: 100%\" src=\"https://jupyterlab.readthedocs.io/en/stable/\"></iframe></div><div style=\"flex: 1\"><iframe style=\"height: 400px; width: 100%\" src=\"https://jupyter-notebook.readthedocs.io/en/stable/\"></iframe></div><div style=\"flex: 1\"><iframe style=\"height: 400px; width: 100%\" src=\"https://nteract.io/\"></iframe></div></div></div><div style=\"flex: 1\"><div style=\"display: flex; flex-direction: row\"><div style=\"flex: 1\"><iframe style=\"height: 400px; width: 100%\" src=\"http://jupyter.org/hub\"></iframe></div><div style=\"flex: 1\"><iframe style=\"height: 400px; width: 100%\" src=\"https://research.google.com/colaboratory/faq.html\"></iframe></div><div style=\"flex: 1\"><iframe style=\"height: 400px; width: 100%\" src=\"https://cocalc.com/\"></iframe></div></div></div><div style=\"flex: 1\">None</div></div>"
      ],
      "text/plain": [
       "__main__.brands"
      ]
     },
     "metadata": {},
     "output_type": "display_data"
    },
    {
     "data": {
      "text/markdown": [
       "---\n",
       "---\n",
       "---\n",
       "---\n",
       "---\n",
       "---\n",
       "---\n",
       "---\n",
       "---\n",
       "---\n",
       "---\n",
       "---\n",
       "---\n",
       "---\n",
       "---\n"
      ],
      "text/plain": [
       "<IPython.core.display.Markdown object>"
      ]
     },
     "metadata": {},
     "output_type": "display_data"
    },
    {
     "data": {
      "text/html": [
       "<div style=\"display: flex; flex-direction: column\"><div style=\"flex: 1\"><h1>Jupyter is a community &amp; ecosytem.</h1>\n",
       "</div><div style=\"flex: 1\"><div style=\"display: flex; flex-direction: row\"><div style=\"flex: 1\"><iframe style=\"height: 400px; width: 100%\" src=\"http://jupyter.org/community\"></iframe></div><div style=\"flex: 1\"><p><a href=\"https://jupyter.readthedocs.io/en/latest/architecture/visual_overview.html\"><img src=\"https://jupyter.readthedocs.io/en/latest/_images/repos_map.png\" alt=\"\" /></a></p>\n",
       "</div></div></div><div style=\"flex: 1\"><div style=\"display: flex; flex-direction: row\"><div style=\"flex: 1\"><iframe style=\"height: 400px; width: 100%\" src=\"https://libcce.github.io/TriangleJupyter/2018/10/23/announcing-full-program.html\"></iframe></div><div style=\"flex: 1\"><iframe style=\"height: 400px; width: 100%\" src=\"https://atl-jugheads.github.io/jupyter-day-atlanta-ii/\"></iframe></div><div style=\"flex: 1\"><iframe style=\"height: 400px; width: 100%\" src=\"https://jupyterday-atlanta-2016.github.io/\"></iframe></div></div></div><div style=\"flex: 1\"><p><a href=\"https://www.youtube.com/watch?v=Ql2f1eF52P8&amp;list=PL055Epbe6d5b572IRmYAHkUgcq3y6K3Ae\"><img src=\"https://cdn-images-1.medium.com/max/2000/1*OSsa7iznmO0xoicq3uZHhg.png\" alt=\"\" /></a></p>\n",
       "</div><div style=\"flex: 1\"><iframe style=\"height: 400px; width: 100%\" src=\"https://www.meetup.com/Atlanta-Jupyter-User-Group/\"></iframe></div></div>"
      ],
      "text/plain": [
       "__main__.community"
      ]
     },
     "metadata": {},
     "output_type": "display_data"
    },
    {
     "data": {
      "text/markdown": [
       "---\n",
       "---\n",
       "---\n",
       "---\n",
       "---\n",
       "---\n",
       "---\n",
       "---\n",
       "---\n",
       "---\n",
       "---\n",
       "---\n",
       "---\n",
       "---\n",
       "---\n"
      ],
      "text/plain": [
       "<IPython.core.display.Markdown object>"
      ]
     },
     "metadata": {},
     "output_type": "display_data"
    },
    {
     "data": {
      "text/html": [
       "<div style=\"display: flex; flex-direction: column\"><div style=\"flex: 1\"><div style=\"display: flex; flex-direction: row\"><div style=\"flex: 1\"><h1><a href=\"https://www.nature.com/articles/d41586-018-07196-1\">Nature Why Jupyter is data scientists’ computational notebook of choice</a></h1>\n",
       "</div></div></div><div style=\"flex: 1\"><p>This presentation describes why notebooks seem to meet the needs of so many scientists, teachers, analysts, and journalists.\n",
       "A few places where Jupyter is becoming popular</p>\n",
       "<ul>\n",
       "<li>economist - Paul Romer Nobel Prize - <a href=\"https://fivethirtyeight.com/\">five thirty eight</a> - atlantic - data8 - <a href=\"https://www.nature.com/articles/d41586-018-07196-1\">Nature Why Jupyter is data scientists’ computational notebook of choice</a> - columbia journalism - ligo - <a href=\"https://groups.google.com/forum/#%21forum/jupyter-education\">Jupyter Education Forum</a> - acm award</li>\n",
       "</ul>\n",
       "</div><div style=\"flex: 1\"><p>Each discipline speaks a different language.  Science are data are multi lingual.</p>\n",
       "</div></div>"
      ],
      "text/plain": [
       "__main__.popular"
      ]
     },
     "metadata": {},
     "output_type": "display_data"
    },
    {
     "data": {
      "text/markdown": [
       "---\n",
       "---\n",
       "---\n",
       "---\n",
       "---\n",
       "---\n",
       "---\n",
       "---\n",
       "---\n",
       "---\n",
       "---\n",
       "---\n",
       "---\n",
       "---\n",
       "---\n"
      ],
      "text/plain": [
       "<IPython.core.display.Markdown object>"
      ]
     },
     "metadata": {},
     "output_type": "display_data"
    },
    {
     "data": {
      "text/html": [
       "<div style=\"display: flex; flex-direction: row\"><div style=\"flex: 1\"><blockquote>\n",
       "<p>Barba, who has implemented notebooks in every course she has taught since 2013, related at a keynote address in 2014 that notebooks allow her students to interactively engage with — and absorb material from — lessons in a way that lectures cannot match. “IPython notebooks are really a killer app for teaching computing in science and engineering,” she said.</p>\n",
       "</blockquote>\n",
       "</div><div style=\"flex: 1\"><iframe style=\"height: 400px; width: 100%\" src=\"https://cdn.oreillystatic.com/en/assets/1/event/285/Jupyter%20graduates%20Presentation.pdf\"></iframe></div><div style=\"flex: 1\"><iframe style=\"height: 400px; width: 100%\" src=\"https://nbgrader.readthedocs.io/en/stable/\n",
       "teaching;\"></iframe></div></div>"
      ],
      "text/plain": [
       "__main__.teaching"
      ]
     },
     "metadata": {},
     "output_type": "display_data"
    },
    {
     "data": {
      "text/markdown": [
       "---\n",
       "---\n",
       "---\n",
       "---\n",
       "---\n",
       "---\n",
       "---\n",
       "---\n",
       "---\n",
       "---\n",
       "---\n",
       "---\n",
       "---\n",
       "---\n",
       "---\n"
      ],
      "text/plain": [
       "<IPython.core.display.Markdown object>"
      ]
     },
     "metadata": {},
     "output_type": "display_data"
    },
    {
     "data": {
      "text/html": [
       "<div style=\"display: flex; flex-direction: column\"><div style=\"flex: 1\"><div style=\"display: flex; flex-direction: row\"><div style=\"flex: 1\"><p><a href=\"nbestimate.link\"><code>nbestimate</code></a> An estimate of the number of notebooks on github.</p>\n",
       "</div><div style=\"flex: 1\"><iframe style=\"height: 400px; width: 100%\" src=\"http://nbviewer.jupyter.org/github/parente/nbestimate/blob/master/estimate.ipynb\"></iframe>\n",
       "</div></div></div></div>"
      ],
      "text/plain": [
       "__main__.nbestimate"
      ]
     },
     "metadata": {},
     "output_type": "display_data"
    },
    {
     "data": {
      "text/markdown": [
       "---\n",
       "---\n",
       "---\n",
       "---\n",
       "---\n",
       "---\n",
       "---\n",
       "---\n",
       "---\n",
       "---\n",
       "---\n",
       "---\n",
       "---\n",
       "---\n",
       "---\n"
      ],
      "text/plain": [
       "<IPython.core.display.Markdown object>"
      ]
     },
     "metadata": {},
     "output_type": "display_data"
    },
    {
     "data": {
      "text/html": [
       "<div style=\"display: flex; flex-direction: column\"><div style=\"flex: 1\"><h1><del>We</del> Analyzed 1 Million Jupyter Notebooks — Now You Can Too</h1>\n",
       "</div><div style=\"flex: 1\"><div style=\"display: flex; flex-direction: row\"><div style=\"flex: 1\"><p><img src=\"https://cdn-images-1.medium.com/max/1200/1*AquKZXRbdFxzY74sTj34VA.png\" alt=\"\" /></p>\n",
       "</div><div style=\"flex: 1\"><iframe style=\"height: 400px; width: 100%\" src=\"http://adamrule.com/files/papers/chi_2018_computational_notebooks_camera_ready.pdf\"></iframe></div></div></div><div style=\"flex: 1\"><blockquote>\n",
       "<p>We will discover later that the data format of the notebook makes this study possible.</p>\n",
       "</blockquote>\n",
       "</div></div>"
      ],
      "text/plain": [
       "__main__.millionb"
      ]
     },
     "metadata": {},
     "output_type": "display_data"
    },
    {
     "data": {
      "text/markdown": [
       "---\n",
       "---\n",
       "---\n",
       "---\n",
       "---\n",
       "---\n",
       "---\n",
       "---\n",
       "---\n",
       "---\n",
       "---\n",
       "---\n",
       "---\n",
       "---\n",
       "---\n"
      ],
      "text/plain": [
       "<IPython.core.display.Markdown object>"
      ]
     },
     "metadata": {},
     "output_type": "display_data"
    },
    {
     "data": {
      "text/markdown": [
       "# Jupyter in the cloud\n",
       "\n",
       "Talk about how people are cloud hosted notebooks.  This avoids a lot of installation issues.\n",
       "\n",
       "Colab binder jupyterhub\n",
       "carol jupyter talk.\n",
       "\n",
       "Reproducibility is real"
      ],
      "text/plain": [
       "__main__.cloud"
      ]
     },
     "metadata": {},
     "output_type": "display_data"
    },
    {
     "data": {
      "text/markdown": [
       "---\n",
       "---\n",
       "---\n",
       "---\n",
       "---\n",
       "---\n",
       "---\n",
       "---\n",
       "---\n",
       "---\n",
       "---\n",
       "---\n",
       "---\n",
       "---\n",
       "---\n"
      ],
      "text/plain": [
       "<IPython.core.display.Markdown object>"
      ]
     },
     "metadata": {},
     "output_type": "display_data"
    },
    {
     "data": {
      "text/html": [
       "<div style=\"display: flex; flex-direction: column\"><div style=\"flex: 1\"><p>What does all of this mean?\n",
       "Corporate adoption and use will grow.  More organizes will share notebooks and install Jupyter hubs.</p>\n",
       "</div><div style=\"flex: 1\"><div style=\"display: flex; flex-direction: row\"><div style=\"flex: 1\"><iframe style=\"height: 400px; width: 100%\" src=\"https://blog.tidelift.com/open-source-is-everywhere-survey-results-part-1\"></iframe></div><div style=\"flex: 1\"><iframe style=\"height: 400px; width: 100%\" src=\"https://stackoverflow.blog/2017/09/06/incredible-growth-python/\"></iframe></div></div></div><div style=\"flex: 1\"><p><a href=\"https://medium.com/netflix-techblog/notebook-innovation-591ee3221233\"><img src=\"https://cdn-images-1.medium.com/max/2000/1*WOEEJizYnO8ibtU2l9jWbA.jpeg\" alt=\"\" /></a></p>\n",
       "</div><div style=\"flex: 1\"><p>Open source is inescapable.  We need flexible development environments and programming styles to future our research software.</p>\n",
       "</div></div>"
      ],
      "text/plain": [
       "__main__.growth"
      ]
     },
     "metadata": {},
     "output_type": "display_data"
    },
    {
     "data": {
      "text/markdown": [
       "---\n",
       "---\n",
       "---\n",
       "---\n",
       "---\n",
       "---\n",
       "---\n",
       "---\n",
       "---\n",
       "---\n",
       "---\n",
       "---\n",
       "---\n",
       "---\n",
       "---\n"
      ],
      "text/plain": [
       "<IPython.core.display.Markdown object>"
      ]
     },
     "metadata": {},
     "output_type": "display_data"
    },
    {
     "data": {
      "text/markdown": [
       "..."
      ],
      "text/plain": [
       "__main__.acm"
      ]
     },
     "metadata": {},
     "output_type": "display_data"
    }
   ],
   "source": [
    "    IPython.display.display(\n",
    "        *__import__('itertools').chain(*((IPython.display.Markdown(\"---\\n\"*15), object) for object in (\n",
    "            career,\n",
    "            history,\n",
    "            tony,\n",
    "            brands, \n",
    "            community, \n",
    "            popular, \n",
    "            teaching,\n",
    "            nbestimate, \n",
    "            millionb, \n",
    "            cloud, \n",
    "            growth,\n",
    "            acm))))"
   ]
  },
  {
   "cell_type": "code",
   "execution_count": null,
   "metadata": {},
   "outputs": [],
   "source": []
  },
  {
   "cell_type": "code",
   "execution_count": null,
   "metadata": {},
   "outputs": [],
   "source": []
  }
 ],
 "metadata": {
  "kernelspec": {
   "display_name": "Python 3",
   "language": "python",
   "name": "python3"
  },
  "language_info": {
   "codemirror_mode": {
    "name": "ipython",
    "version": 3
   },
   "file_extension": ".py",
   "mimetype": "text/x-python",
   "name": "python",
   "nbconvert_exporter": "python",
   "pygments_lexer": "ipython3",
   "version": "3.6.6"
  }
 },
 "nbformat": 4,
 "nbformat_minor": 2
}
