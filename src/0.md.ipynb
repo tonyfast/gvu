{
 "cells": [
  {
   "cell_type": "markdown",
   "metadata": {},
   "source": [
    "In this section we discuss Project Jupyter use cases and the rising popularity of notebooks."
   ]
  },
  {
   "cell_type": "code",
   "execution_count": 1,
   "metadata": {},
   "outputs": [
    {
     "data": {
      "text/html": [
       "<style>\n",
       ".jp-mod-presentationMode {\n",
       "    --jp-notebook-padding: 0;\n",
       "}\n",
       ".jp-RenderedHTMLCommon pre code {\n",
       "    opacity: 0.25;\n",
       "}\n",
       ".jp-Placeholder-content .jp-MoreHorizIcon {\n",
       "    background-size: 32px;\n",
       "}\n",
       "</style><style>\n",
       ".jp-mod-presentationMode .jp-SideBar,\n",
       ".jp-mod-presentationMode #jp-top-panel {\n",
       "    opacity: 0.0;\n",
       "    transition: all 0.2s;\n",
       "}\n",
       ".jp-mod-presentationMode .jp-SideBar:hover,\n",
       ".jp-mod-presentationMode #jp-top-panel:hover {\n",
       "    opacity: 0.9;\n",
       "    transition: all 0.2s;\n",
       "}</style><style>\n",
       ".jp-mod-presentationMode.jp-ApplicationShell,\n",
       ".jp-mod-presentationMode .p-TabBar-content{\n",
       "    background-color: var(--jp-layout-color0);\n",
       "}\n",
       "</style><style>\n",
       ".jp-mod-presentationMode .p-DockPanel-widget,\n",
       ".jp-mod-presentationMode #jp-left-stack{\n",
       "    border-color: transparent;\n",
       "}\n",
       ".jp-mod-presentationMode .jp-Toolbar-item,\n",
       ".jp-mod-presentationMode .jp-Toolbar {\n",
       "    opacity: 0.1;\n",
       "    transition: all 0.2s;\n",
       "}\n",
       ".jp-mod-presentationMode .jp-Toolbar-item:hover,\n",
       ".jp-mod-presentationMode .jp-Toolbar:hover {\n",
       "    opacity: 0.9;\n",
       "    transition: all 0.2s;\n",
       "}\n",
       "\n",
       ".jp-mod-presentationMode .jp-InputArea {\n",
       "    flex-direction: column;\n",
       "}\n",
       "\n",
       "</style><style>\n",
       ".jp-mod-presentationMode .jp-Notebook .jp-Cell .jp-InputPrompt, \n",
       ".jp-mod-presentationMode .jp-Notebook .jp-Cell .jp-OutputPrompt {\n",
       "    flex: 0 0 2rem !important;\n",
       "    opacity: 0;\n",
       "}\n",
       ".jp-mod-presentationMode .jp-Notebook .jp-Cell.jp-mod-active .jp-OutputPrompt,\n",
       ".jp-mod-presentationMode .jp-Notebook .jp-Cell.jp-mod-active .jp-OutputPrompt {\n",
       "    opacity: 0.5;\n",
       "}\n",
       ".jp-mod-presentationMode .jp-Notebook .jp-Cell .jp-InputPrompt, \n",
       ".jp-mod-presentationMode .jp-Notebook .jp-Cell .jp-OutputPrompt\n",
       "\n",
       ".jp-mod-presentationMode hr {\n",
       "    opacity: 0.1;\n",
       "}\n",
       "</style>\n",
       "    <style>\n",
       "    .jp-TableOfContents-content h1, \n",
       "    .jp-TableOfContents-content h2 {\n",
       "        margin-bottom: var(--jp-ui-font-size0);\n",
       "    }\n",
       "    </style>\n",
       "    \n",
       "    <style>\n",
       "    .jp-mod-presentationMode {\n",
       "        --jp-content-heading-line-height: 1.25 !important;\n",
       "    }\n",
       "    </style>\n",
       "    \n",
       "    <style>\n",
       "    .jp-mod-presentationMode #jp-main-status-bar {\n",
       "        opacity: 0.06;\n",
       "        transition: all 0.2s;\n",
       "    }\n",
       "    .jp-mod-presentationMode #jp-main-status-bar:hover {\n",
       "        opacity: 0.8;\n",
       "        transition: all 0.2s;\n",
       "    }\n",
       "    </style>\n",
       "    "
      ],
      "text/plain": [
       "<IPython.core.display.HTML object>"
      ]
     },
     "metadata": {},
     "output_type": "display_data"
    }
   ],
   "source": [
    "from . import settings"
   ]
  },
  {
   "cell_type": "markdown",
   "metadata": {},
   "source": [
    "    __import__(__name__)"
   ]
  },
  {
   "cell_type": "code",
   "execution_count": 2,
   "metadata": {},
   "outputs": [],
   "source": [
    "    import IPython, pandas\n",
    "    ip = get_ipython()"
   ]
  },
  {
   "cell_type": "markdown",
   "metadata": {},
   "source": [
    "## `career` provides information about me."
   ]
  },
  {
   "cell_type": "code",
   "execution_count": 23,
   "metadata": {},
   "outputs": [],
   "source": [
    "    \n",
    "    class career:\n",
    "\n",
    "---\n",
    "\"# I'm a scientist.\"\n",
    "---\n",
    ">\n",
    " # Multi-scale and time materials data\n",
    "\n",
    " I started in materials science where data is diverse, expensive, noisy, non-euclidean, and microscopic.  For an entire career I have\n",
    " been telling stories with data.\n",
    "\n",
    "\n",
    " ![](https://image.slidesharecdn.com/flamel-ss-141210102438-conversion-gate02/95/flamel-materials-informatics-course-roundup-15-638.jpg)\n",
    "\n",
    "---\n",
    "I've worn a lot of hats.\n",
    "---\n",
    "- |\n",
    "    * Researcher\n",
    "    * Scientist\n",
    "    * Teacher\n",
    "- |\n",
    "    * Data Scientist\n",
    "    * Community Manager\n",
    "    * Data Engineer\n",
    "    * User Experience\n",
    "    * Marketing\n",
    "    * Artist\n",
    "    * Software Developer\n",
    "    * Project Manager\n",
    "\n",
    "- >\n",
    "    {{career.companies}}\n",
    "\n",
    "---\n",
    "   \n",
    "        class companies:\n",
    "* [Quansight](https://www.quansight.com/)\n",
    "* [Bastille](https://www.bastille.net/)\n",
    "* [Anaconda](https://anaconda.org/)\n",
    "* [Georgia Tech](https://matin.gatech.edu/)\n",
    "<br/>\n",
    "    \n",
    "    career;"
   ]
  },
  {
   "cell_type": "markdown",
   "metadata": {},
   "source": [
    "### `deathbeds` is a side project\n",
    "\n",
    "`deathbeds` is a blog that synthesizes ideas about data, interactive computing & literate programming together in Jupyter notebooks."
   ]
  },
  {
   "cell_type": "code",
   "execution_count": 4,
   "metadata": {},
   "outputs": [],
   "source": [
    "    \n",
    "    class deathbeds:\n",
    "---\n",
    "- >\n",
    "    [`deathbeds`](https://deathbeds.github.io) is a code collective that records their work using Project Jupyter notebooks.\n",
    "- >\n",
    "    ![](https://avatars0.githubusercontent.com/u/35347142?s=400&v=4)\n",
    "---\n",
    "\"{{deathbeds.url}}\"\n",
    "\n",
    "---\n",
    "Currently, there are __{{len(deathbeds.posts)}}__ posts about interactive programming, literate programming, data science, and open source software.\n",
    "---\n",
    "\n",
    "        url=\\\n",
    "http://nbviewer.jupyter.org/github/deathbeds/deathbeds.github.io/tree/master/deathbeds/\n",
    "    \n",
    "        posts = pandas.read_html(url)[0].Name.pipe(lambda s: s[s.apply(lambda x: x[0].isnumeric())])\n",
    "        \n",
    "    deathbeds;"
   ]
  },
  {
   "cell_type": "markdown",
   "metadata": {},
   "source": [
    "## I'm `tony`"
   ]
  },
  {
   "cell_type": "code",
   "execution_count": 5,
   "metadata": {},
   "outputs": [],
   "source": [
    "    \n",
    "    class tony:\n",
    "---\n",
    "\"# I make stuff in notebooks\"\n",
    "---\n",
    "- - \"## I'm obsessed with letters\"\n",
    "  - \"![](https://user-images.githubusercontent.com/4236275/47722110-0413a900-dc28-11e8-8012-afef08206966.png)\"\n",
    "    \n",
    "- >\n",
    "    {{deathbeds}}\n",
    "---\n",
    "- http://nbviewer.jupyter.org/gist/tonyfast/808f1ad80cdf0956a6a1924e09e9f106\n",
    "---\n",
    "\n",
    "    tony;"
   ]
  },
  {
   "cell_type": "markdown",
   "metadata": {},
   "source": [
    "## In `history` we look a little bit at `tony`s growth as a programmer.\n",
    "\n",
    "From Maple through Matlab to Jupyter."
   ]
  },
  {
   "cell_type": "code",
   "execution_count": 45,
   "metadata": {},
   "outputs": [],
   "source": [
    "    \n",
    "    class history:\n",
    "---\n",
    "- >\n",
    "    {{history.maple}}\n",
    "    \n",
    "    <hr/>\n",
    "---\n",
    ">\n",
    " # Multi-scale and time materials data\n",
    "\n",
    " ![](https://image.slidesharecdn.com/flamel-ss-141210102438-conversion-gate02/95/flamel-materials-informatics-course-roundup-15-638.jpg)\n",
    "---\n",
    "\"# A history of my programming language preferences.\n",
    "\n",
    ">\n",
    " [![image](https://user-images.githubusercontent.com/4236275/47723867-ce70bf00-dc2b-11e8-9f38-8f8df927bc03.png)](https://www.slideshare.net/tonyfast1/flamel-materials-informatics-course-roundup)\n",
    "\n",
    " > This diagrams are from a `pandas` demonstration presented to Munmun's class.\n",
    " <hr/>\n",
    "\n",
    "\"\n",
    "---\n",
    "- https://jekyllrb.com/\n",
    "- https://pages.github.com/\n",
    "---\n",
    "http://materials-informatics-lab.github.io\n",
    "---\n",
    "---\n",
    "\"## My Matlab thesis code was transformed into Python code.\n",
    "\n",
    "{{'http://pymks.org/en/latest/rst/README.html'}}\n",
    "\n",
    "<hr/>\"\n",
    "---\n",
    "\"# After Academia I was forced to use open source.\"\n",
    "---\n",
    "\"Now I just work in notebooks because they satisfy all my previous needs.  I could compute and document my science.\n",
    "\n",
    "![image](https://user-images.githubusercontent.com/4236275/47723874-d466a000-dc2b-11e8-8d18-9f6724721625.png)\"\n",
    "---\n",
    "For the past 4 years, the vast majority of my work is accessible on Github.\n",
    "\n",
    "        \n",
    "        class maple:\n",
    "## [Maple](https://www.maplesoft.com/products/Maple/)\n",
    "\n",
    "[Maple](https://www.maplesoft.com/products/Maple/) is a symbollic programming tool with a notebook style interface.\n",
    "\n",
    "### [Application of microstructure sensitive design to structural components produced from hexagonal polycrystalline metals](https://www.sciencedirect.com/science/article/pii/S0927025607003369 \"2007\")\n",
    "\n",
    "![](https://ars.els-cdn.com/content/image/1-s2.0-S0927025607003369-gr4.jpg)    \n",
    "\n",
    "\n",
    "    history;"
   ]
  },
  {
   "cell_type": "markdown",
   "metadata": {},
   "source": [
    "## There are different `brands` of notebooks"
   ]
  },
  {
   "cell_type": "code",
   "execution_count": 27,
   "metadata": {},
   "outputs": [],
   "source": [
    "    \n",
    "    class brands:\n",
    "---\n",
    "\"# My Two Favorite Brands of Notebooks\"\n",
    "---\n",
    "- https://rhodiapads.com/images/dotpad.jpg\n",
    "- http://jupyter.org/\n",
    "---\n",
    "\"# There are other editors _for computers_.\"\n",
    "\n",
    "---\n",
    "- https://jupyterlab.readthedocs.io/en/stable/\n",
    "- https://jupyter-notebook.readthedocs.io/en/stable/\n",
    "- https://nteract.io/\n",
    "---\n",
    "- http://jupyter.org/hub\n",
    "- https://research.google.com/colaboratory/faq.html\n",
    "- https://cocalc.com/\n",
    "---\n",
    "# [A quick look at colab](https://colab.research.google.com)\n",
    "\n",
    "    brands;"
   ]
  },
  {
   "cell_type": "markdown",
   "metadata": {},
   "source": [
    "## Jupyter is an open source `community`"
   ]
  },
  {
   "cell_type": "code",
   "execution_count": 30,
   "metadata": {},
   "outputs": [],
   "source": [
    "    \n",
    "    class community:\n",
    "---\n",
    "\"# Jupyter is a community & ecosytem.\"\n",
    "---\n",
    "- http://jupyter.org/community\n",
    "- \"[![](https://jupyter.readthedocs.io/en/latest/_images/repos_map.png)](https://jupyter.readthedocs.io/en/latest/architecture/visual_overview.html)\"\n",
    "---\n",
    "- https://libcce.github.io/TriangleJupyter/2018/10/23/announcing-full-program.html\n",
    "- https://atl-jugheads.github.io/jupyter-day-atlanta-ii/\n",
    "- https://jupyterday-atlanta-2016.github.io/\n",
    "---\n",
    "\"# Jupyter is a NumFocus sponsored project.\"\n",
    "---\n",
    "- https://numfocus.org/\n",
    "- https://www.meetup.com/pro/pydata\n",
    "---\n",
    "\"[![JupyterCon videos](https://cdn-images-1.medium.com/max/2000/1*OSsa7iznmO0xoicq3uZHhg.png)](https://www.youtube.com/watch?v=Ql2f1eF52P8&list=PL055Epbe6d5b572IRmYAHkUgcq3y6K3Ae)\"\n",
    "---\n",
    "- https://www.meetup.com/Atlanta-Jupyter-User-Group/\n",
    "- https://www.meetup.com/PyData-Atlanta/\n",
    "---\n",
    "\n",
    "    community;"
   ]
  },
  {
   "cell_type": "markdown",
   "metadata": {},
   "source": [
    "## There are over 3 million notebooks on Github"
   ]
  },
  {
   "cell_type": "code",
   "execution_count": 33,
   "metadata": {},
   "outputs": [],
   "source": [
    "    \n",
    "    class nbestimate:\n",
    "---\n",
    "\"{{nbestimate.short}}\\n\\n{{nbestimate.df}}\"\n",
    "---\n",
    "\"{{nbestimate.link}}\"\n",
    "---\n",
    "\n",
    "        short =\\\n",
    "[`nbestimate`](nbestimate.link) An estimate of the number of notebooks on github.\n",
    "    \n",
    "        link =\\\n",
    "http://nbviewer.jupyter.org/github/parente/nbestimate/blob/master/estimate.ipynb\n",
    "        \n",
    "        df = pandas.read_html(link, parse_dates=True)[0].pipe(\n",
    "           lambda df: pandas.DataFrame(df.values, columns=['date', 'hits'])\n",
    "        ).set_index('date').T\n",
    "        \n",
    "    nbestimate;"
   ]
  },
  {
   "cell_type": "markdown",
   "metadata": {},
   "source": [
    "## There are enough notebooks to perform big data studies or notebooks usage."
   ]
  },
  {
   "cell_type": "code",
   "execution_count": 10,
   "metadata": {},
   "outputs": [],
   "source": [
    "    \n",
    "    class millionb:\n",
    "---\n",
    "\"# <del>We</del> Analyzed 1 Million Jupyter Notebooks — Now You Can Too \"\n",
    "---\n",
    "- \"![](https://cdn-images-1.medium.com/max/1200/1*AquKZXRbdFxzY74sTj34VA.png)\"\n",
    "- \"http://adamrule.com/files/papers/chi_2018_computational_notebooks_camera_ready.pdf\"\n",
    "---\n",
    "\"> We will discover later that the data format of the notebook makes this study possible.\"\n",
    "---\n",
    "    \n",
    "    github =\\\n",
    "https://github.com/activityhistory/jupyter_on_github\n",
    "        \n",
    "    millionb;"
   ]
  },
  {
   "cell_type": "markdown",
   "metadata": {},
   "source": [
    "## Open source software provides access to many disciplines\n",
    "\n",
    "Open source software & jupyter are `popular` across many domains."
   ]
  },
  {
   "cell_type": "code",
   "execution_count": 11,
   "metadata": {},
   "outputs": [],
   "source": [
    "    \n",
    "    class popular:\n",
    "---\n",
    "- \"# [Nature Why Jupyter is data scientists’ computational notebook of choice](https://www.nature.com/articles/d41586-018-07196-1)\"\n",
    "---\n",
    "\"This presentation describes why notebooks seem to meet the needs of so many scientists, teachers, analysts, and journalists.\n",
    "\n",
    "A few places where Jupyter is becoming popular\n",
    "\n",
    "* [Nature Why Jupyter is data scientists’ computational notebook of choice](https://www.nature.com/articles/d41586-018-07196-1)\n",
    "\n",
    "* [Paul Romer Nobel Prize](https://qz.com/1417145/economics-nobel-laureate-paul-romer-is-a-python-programming-convert/)\n",
    "\n",
    "* [five thirty eight](https://fivethirtyeight.com/)\n",
    "\n",
    "* [The Atlantic: The Scientific paper is obsolete](https://www.theatlantic.com/science/archive/2018/04/the-scientific-paper-is-obsolete/556676/)\n",
    "\n",
    "* [data8](http://data8.org/) - Data 8: The Foundations of Data Science\n",
    "    \n",
    "    * [![](https://pbs.twimg.com/media/DUW_eR8VQAEajkP.jpg)](https://twitter.com/yuvipanda/status/956381252428288000)\n",
    "    * [![](http://i0.wp.com/www.dailycal.org/assets/uploads/2018/04/course_Fahad-Kamran_courtesy.jpg?w=900)](www.dailycal.org/2018/04/11/education-public-good-uc-berkeley-offers-data-8-course-free-online/)\n",
    "    \n",
    "* [Fast.AI](https://www.fast.ai/) - deep learning for developers and engineers.\n",
    "\n",
    "* [IPython notebooks now available for everybody](https://www.kaggle.com/general/16970)\n",
    "\n",
    "* [BuzzFeed](https://github.com/BuzzFeedNews)\n",
    "\n",
    "* [Columbia LEDE](http://ledeprogram.com/) - data drive journalism discipline in notebooks.\n",
    "\n",
    "* [LIGO](https://www.gw-openscience.org/GW150914data/GW150914_tutorial.html) - Binary Black Hole Detection\n",
    "\n",
    "* [Jupyter Education Forum](https://groups.google.com/forum/#!forum/jupyter-education)\n",
    "                            \n",
    "* [acm award](https://www.google.com/search?q=acm+medium+jupyter&rlz=1C1AVFC_enUS803US803&oq=acm+medium+jupyter&aqs=chrome..69i57.4095j0j7&sourceid=chrome&ie=UTF-8)\n",
    "\"\n",
    "---\n",
    "                            \n",
    "    popular;"
   ]
  },
  {
   "cell_type": "markdown",
   "metadata": {},
   "source": [
    "## Notebooks have existed long enough to have a history  \n",
    "\n",
    "`teaching` is one of the spaces where the early adopters can hand us down lessons."
   ]
  },
  {
   "cell_type": "code",
   "execution_count": 41,
   "metadata": {},
   "outputs": [],
   "source": [
    "    \n",
    "    class teaching:\n",
    "---\n",
    "\"## Notebooks are gaining use in `teaching`.\"\n",
    "---\n",
    "- \"> Barba, who has implemented notebooks in every course she has taught since 2013, related at a keynote address in 2014 that notebooks allow her students to interactively engage with — and absorb material from — lessons in a way that lectures cannot match. “IPython notebooks are really a killer app for teaching computing in science and engineering,” she said.\"\n",
    "---\n",
    "- https://cdn.oreillystatic.com/en/assets/1/event/285/Jupyter%20graduates%20Presentation.pdf\n",
    "- http://www.allendowney.com/wp/books/think-python-2e/\n",
    "---\n",
    "- http://data8.org\n",
    "---\n",
    "- https://nbgrader.readthedocs.io\n",
    "---\n",
    "\n",
    "    teaching;"
   ]
  },
  {
   "cell_type": "markdown",
   "metadata": {},
   "source": [
    "## Open source provides access to companies"
   ]
  },
  {
   "cell_type": "code",
   "execution_count": 13,
   "metadata": {},
   "outputs": [],
   "source": [
    "    \n",
    "    class cloud:\n",
    "---\n",
    ">\n",
    " # Jupyter in the cloud\n",
    "\n",
    " [![](https://image.slidesharecdn.com/2018-03-31-jupyter-atl-steam-180404032218/95/steam-workshops-with-binder-and-jupyterhub-20-638.jpg?cb=1522812195)](https://www.slideshare.net/willingc/steam-workshops-with-binder-and-jupyterhub)\n",
    "---\n",
    "- https://mybinder.org\n",
    "- https://zero-to-jupyterhub.readthedocs.io/en/stable/\n",
    "- https://the-littlest-jupyterhub.readthedocs.io/en/latest/\n",
    "---\n",
    ">\n",
    " ## A lot of people are experiencing notebooks through cloud deployments.\n",
    " \n",
    " [Colab](https://colab.research.google.com)\n",
    "\n",
    "    cloud;"
   ]
  },
  {
   "cell_type": "markdown",
   "metadata": {},
   "source": [
    "## __Jupyter__ and open source and experiencing consider `growth` at the moment."
   ]
  },
  {
   "cell_type": "code",
   "execution_count": 14,
   "metadata": {},
   "outputs": [],
   "source": [
    "    read_json, read_html = map(memoize, (pandas.read_json, pandas.read_html))\n",
    "    cf = read_json(\"https://api.github.com/orgs/conda-forge\", typ=pandas.Series)"
   ]
  },
  {
   "cell_type": "code",
   "execution_count": 15,
   "metadata": {},
   "outputs": [],
   "source": [
    "    \n",
    "    class growth:\n",
    "---\n",
    "- https://blog.tidelift.com/open-source-is-everywhere-survey-results-part-1\n",
    "- https://stackoverflow.blog/2017/09/06/incredible-growth-python/\n",
    "---\n",
    "\"[![](https://cdn-images-1.medium.com/max/2000/1*WOEEJizYnO8ibtU2l9jWbA.jpeg)](https://medium.com/netflix-techblog/notebook-innovation-591ee3221233)\"\n",
    "---\n",
    "- \"[IBM To Acquire Red Hat, Completely Changing The Cloud Landscape And Becoming World's #1 Hybrid Cloud Provider](https://newsroom.ibm.com/2018-10-28-IBM-To-Acquire-Red-Hat-Completely-Changing-The-Cloud-Landscape-And-Becoming-Worlds-1-Hybrid-Cloud-Provider)\"\n",
    "- \"[Microsoft completes GitHub acquisition](https://blogs.microsoft.com/blog/2018/10/26/microsoft-completes-github-acquisition/)\"\n",
    "- \"[Gitter is joining the GitLab team](https://about.gitlab.com/2017/03/15/gitter-acquisition/)\"\n",
    "- \"[Alphabet Bets On GitLab Following Microsoft's GitHub Acquisition](https://www.tomshardware.com/news/alphabet-gitlab-microsoft-github-acquisition,37823.html)\"\n",
    "---\n",
    "- \"## __conda forge__ is the new open source fire with __{{cf.public_repos}}__ public repos.\"\n",
    "- '#### Anaconda distributes __{{len(pandas.read_html(\"https://docs.anaconda.com/anaconda/packages/py3.7_osx-64/\")[0])}}__ packages'\n",
    "---\n",
    "\"[![](https://avatars0.githubusercontent.com/u/11897326?s=800&v=4)](https://github.com/conda-forge)\"\n",
    "---\n",
    "    \n",
    "    growth;"
   ]
  },
  {
   "cell_type": "markdown",
   "metadata": {},
   "source": [
    "## [[2017] Jupyter receives the ACM Software System Award](https://blog.jupyter.org/jupyter-receives-the-acm-software-system-award-d433b0dfe3a2)\n",
    "\n",
    "Project Jupyter recently wound up in the annals of computer science history."
   ]
  },
  {
   "cell_type": "code",
   "execution_count": 16,
   "metadata": {},
   "outputs": [],
   "source": [
    "    recipients = read_html(\"https://en.wikipedia.org/wiki/ACM_Software_System_Award\", header=0)[0].pipe(\n",
    "        lambda recipients: recipients.assign(Count=recipients.Recipients.str.split(',').apply(len))\n",
    "    ).set_index('Year').drop('Recipients', axis=1)"
   ]
  },
  {
   "cell_type": "code",
   "execution_count": 17,
   "metadata": {},
   "outputs": [],
   "source": [
    "\n",
    "    class acm:\n",
    "---\n",
    "\"# [ACM Software System Award](https://en.wikipedia.org/wiki/ACM_Software_System_Award)\"\n",
    "---\n",
    "- \"{{recipients[:10]}}\"\n",
    "- \"{{recipients[10:20]}}\"\n",
    "- \"{{recipients[20:30]}}\"\n",
    "- \"{{recipients[30:]}}\"\n",
    "---\n",
    ">\n",
    "  ## Project Jupyter has become an important part of computer science.\n",
    "    \n",
    "  ### As users we can rely on notebooks for a long time.\n",
    "---\n",
    "    acm;"
   ]
  },
  {
   "cell_type": "code",
   "execution_count": 18,
   "metadata": {},
   "outputs": [
    {
     "data": {
      "text/markdown": [
       "    class summary:\n",
       "---\n",
       "Notebooks are becoming popular, especially with domain experts.\n",
       "## We must adapt to evolving environments and programming styles while future proofing research software.\n",
       "---"
      ],
      "text/plain": [
       "'    class summary:\\n---\\nNotebooks are becoming popular, especially with domain experts.\\n## We must adapt to evolving environments and programming styles while future proofing research software.\\n---'"
      ]
     },
     "metadata": {},
     "output_type": "display_data"
    }
   ],
   "source": [
    "    class summary:\n",
    "---\n",
    "Notebooks are becoming popular, especially with domain experts.\n",
    "## We must adapt to evolving environments and programming styles while future proofing research software.\n",
    "---"
   ]
  },
  {
   "cell_type": "markdown",
   "metadata": {},
   "source": [
    "## The display function for this notebook."
   ]
  },
  {
   "cell_type": "code",
   "execution_count": 19,
   "metadata": {},
   "outputs": [],
   "source": [
    "    def _ipython_display_():\n",
    "        IPython.display.display(\n",
    "            *__import__('itertools').chain(*((IPython.display.Markdown(\"---\\n\"*15), object) for object in (\n",
    "                career,\n",
    "                history,\n",
    "                tony,\n",
    "                brands, \n",
    "                community, \n",
    "                popular, \n",
    "                teaching,\n",
    "                nbestimate, \n",
    "                millionb, \n",
    "                cloud, \n",
    "                growth,\n",
    "                acm, \n",
    "                summary))))"
   ]
  },
  {
   "cell_type": "code",
   "execution_count": null,
   "metadata": {},
   "outputs": [],
   "source": []
  },
  {
   "cell_type": "code",
   "execution_count": null,
   "metadata": {},
   "outputs": [],
   "source": []
  }
 ],
 "metadata": {
  "kernelspec": {
   "display_name": "Python 3",
   "language": "python",
   "name": "python3"
  },
  "language_info": {
   "codemirror_mode": {
    "name": "ipython",
    "version": 3
   },
   "file_extension": ".py",
   "mimetype": "text/x-python",
   "name": "python",
   "nbconvert_exporter": "python",
   "pygments_lexer": "ipython3",
   "version": "3.6.6"
  }
 },
 "nbformat": 4,
 "nbformat_minor": 2
}
