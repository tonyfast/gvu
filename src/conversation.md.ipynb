{
 "cells": [
  {
   "cell_type": "markdown",
   "metadata": {},
   "source": [
    "A conversation is where is computational thinking is learned.  The protagonist __YOU!__ is trying to extract some compute from an antagonist.  The compute is requested by a message with a response received later."
   ]
  },
  {
   "cell_type": "code",
   "execution_count": 1,
   "metadata": {},
   "outputs": [],
   "source": [
    "    if __name__ == '__main__':\n",
    "        %reload_ext pidgin.display"
   ]
  },
  {
   "cell_type": "code",
   "execution_count": 2,
   "metadata": {},
   "outputs": [],
   "source": [
    "    import IPython, ipywidgets, toolz.curried as toolz\n",
    "    from pidgin.flexlist import Row, Column"
   ]
  },
  {
   "cell_type": "code",
   "execution_count": 3,
   "metadata": {},
   "outputs": [],
   "source": [
    "    class conversation:\n",
    "        @ipywidgets.interactive\n",
    "        def __doc__(iter=(1, 12), columns=(1, 6), format=['sfdp', 'fdp']):\n",
    "            toolz.pipe([\n",
    "                \"\"\"digraph {\n",
    "                    layout = %s\n",
    "                    width=.5 edge[style=tapered penwidth=5]\n",
    "                    node[style=\"setlinewidth(0)\"]\n",
    "                    %s }\n",
    "                \"\"\"% (format, '\\n'.join(\"\"\"\n",
    "                    protagonist{a}[label=protagonist] \n",
    "                    protagonist{b}[label=protagonist] \n",
    "                    antagonist{a}[label=antagonist] \n",
    "                    antagonist{b}[label=antagonist]     \n",
    "                    protagonist{a}->antagonist{a}[label=message]\n",
    "                    antagonist{a}->antagonist{b}[label=compute]\n",
    "                    antagonist{b}->protagonist{b}[label=receive]\n",
    "                \"\"\".format(a=a, b=a+1)+\"\"\"\n",
    "                    protagonist{c}[label=protagonist]\n",
    "                    protagonist{b}->protagonist{c}\n",
    "                \"\"\".format(b=a+1, c=a+2) for a in range(0, i**2, 2)))\n",
    "                for i in range(1, iter+1)\n",
    "            ], toolz.partition_all(columns), toolz.map(Column), list, Row, IPython.display.display)\n",
    "\n",
    "        __doc__.children[0].value = __doc__.children[1].value = 2"
   ]
  },
  {
   "cell_type": "code",
   "execution_count": 7,
   "metadata": {},
   "outputs": [],
   "source": [
    "    class legend: \n",
    "        __doc__ = Column([\"\"\"graph {response--📨 compute--💻 message--✉}\n",
    "        \"\"\"]*4)\n",
    "    legend.widget = ipywidgets.Output(); \n",
    "    with legend.widget: IPython.display.display(legend)\n",
    "        \n",
    "        \n",
    "\n",
    "    _ipython_display_ = lambda: IPython.display.display(ipywidgets.VBox([legend.widget, conversation.__doc__]))"
   ]
  },
  {
   "cell_type": "code",
   "execution_count": null,
   "metadata": {},
   "outputs": [],
   "source": []
  }
 ],
 "metadata": {
  "kernelspec": {
   "display_name": "Python 3",
   "language": "python",
   "name": "python3"
  },
  "language_info": {
   "codemirror_mode": {
    "name": "ipython",
    "version": 3
   },
   "file_extension": ".py",
   "mimetype": "text/x-python",
   "name": "python",
   "nbconvert_exporter": "python",
   "pygments_lexer": "ipython3",
   "version": "3.6.6"
  }
 },
 "nbformat": 4,
 "nbformat_minor": 2
}
