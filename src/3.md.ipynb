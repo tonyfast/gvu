{
 "cells": [
  {
   "cell_type": "markdown",
   "metadata": {},
   "source": [
    "In this section, we discuss research blogging and the reusable value of computational essays."
   ]
  },
  {
   "cell_type": "code",
   "execution_count": 1,
   "metadata": {},
   "outputs": [],
   "source": [
    "%reload_ext pidgin.shell\n",
    "%reload_ext pidgin.display"
   ]
  },
  {
   "cell_type": "code",
   "execution_count": 52,
   "metadata": {},
   "outputs": [],
   "source": [
    "    import IPython"
   ]
  },
  {
   "cell_type": "code",
   "execution_count": 53,
   "metadata": {},
   "outputs": [],
   "source": [
    "    \n",
    "    class open_source:\n",
    "---\n",
    "- \"[![](http://res.cloudinary.com/dyd911kmh/image/upload/f_auto,q_auto:best/v1509622333/scipy-eco_kqi2su.png)](https://speakerdeck.com/jakevdp/the-state-of-the-stack-scipy-2015-keynote)\"\n",
    "---\n",
    "> \n",
    " # [NumFocus sponsored projects](https://numfocus.org/sponsored-projects)\n",
    " \n",
    " ![image](https://user-images.githubusercontent.com/4236275/47725984-fe21c600-dc2f-11e8-9cf4-1ee1bab44e06.png)\n",
    " ![image](https://user-images.githubusercontent.com/4236275/47726068-20b3df00-dc30-11e8-9401-96b73f696be2.png)\n",
    "---\n",
    "> \n",
    " ## `open_source` has become very usable\n",
    "\n",
    " ### With practice, entry level programmers can access powerful data and visualization tools.\n",
    "\n",
    " # Use [Anaconda](http://anaconda.org)\n",
    "\n",
    "    open_source;"
   ]
  },
  {
   "cell_type": "code",
   "execution_count": 54,
   "metadata": {},
   "outputs": [],
   "source": [
    "    \n",
    "    class caveat:\n",
    "# I'm a huge nerd a learned and invest too much time understanding open source software and making notebooks."
   ]
  },
  {
   "cell_type": "code",
   "execution_count": 55,
   "metadata": {},
   "outputs": [],
   "source": [
    "    \n",
    "    class research_blogging:\n",
    "---\n",
    "# Research Blogging\n",
    "---\n",
    "https://www.theatlantic.com/science/archive/2018/04/the-scientific-paper-is-obsolete/556676/\n",
    "---\n",
    "#### In research blogging, notebook interfaces are a substrate for analyzing data and recording computational thought.  Recording \n",
    "data and thoughts in a notebook is a modern practice for lab notebooks.\n",
    "---\n",
    "## New practices are needed in journalism.\n",
    "---\n",
    "http://nytlabs.com/blog/2015/10/20/particles/\n",
    "---\n",
    "### Research blogging is frequent habit of composing computational essays\n",
    "\n",
    "Research blogging improves a modern technologist ability to talk about data and code within complex narratives."
   ]
  },
  {
   "cell_type": "code",
   "execution_count": 56,
   "metadata": {},
   "outputs": [],
   "source": [
    "    \n",
    "    class examples:\n",
    "---\n",
    "- digraph { rankdir=LR readable->reproducible->reusable->readable}\n",
    "---\n",
    "\"# Research blogging\n",
    "\n",
    "In this section we compare two approaches to research blogging.\"\n",
    "---\n",
    "\"# Materials Informatics Course\n",
    "\n",
    "A Jeykll based blog\"\n",
    "---\n",
    "- http://materials-informatics-lab.github.io/\n",
    "- \"[![](https://image.slidesharecdn.com/flamel-ss-141210102438-conversion-gate02/95/flamel-materials-informatics-course-roundup-1-638.jpg?cb=1418218370)](https://www.slideshare.net/tonyfast1/flamel-materials-informatics-course-roundup)\"\n",
    "---\n",
    "\"# Deathbeds\n",
    "\n",
    "A collection of notebooks exploring data and interactive computing in IPython.\"\n",
    "---\n",
    "- http://deathbeds.github.io\n",
    "---\n",
    "\n",
    "    examples;"
   ]
  },
  {
   "cell_type": "code",
   "execution_count": 82,
   "metadata": {},
   "outputs": [],
   "source": [
    "    \n",
    "    with IPython.utils.capture.capture_output() as cap:\n",
    "        (reload if 'this' in __import__('sys').modules else lambda x: x)(__import__('this'))\n",
    "\n",
    "    class readability:\n",
    "---\n",
    ">\n",
    "  ```\n",
    "  {{cap.stdout}}\n",
    "  ```\n",
    "---\n",
    ">\n",
    " ## Readablility Counts\n",
    "\n",
    " * Research blogging reinforces that __Readability Counts__.  \n",
    "\n",
    " * Readability is a critical consideration when developing content for cross disciplinary thinking.\n",
    "\n",
    " * Readability encourages writing more __Markdown__ than code.\n",
    "\n",
    " * Research blogging teaches the practice of composing computational essays that are readable and computable.\n",
    "\n",
    "---\n",
    "\n",
    "    readability;"
   ]
  },
  {
   "cell_type": "code",
   "execution_count": 89,
   "metadata": {},
   "outputs": [
    {
     "data": {
      "text/markdown": [
       "## There isn't a way to test `readability`\n",
       "\n",
       "Programs and readable documents raise errors.  Literate documents must compute, or restart and run \n",
       "all.  nbconvert execute must work.  Bad grammar or syntax will cause a human computer to start reading.\n",
       "\n",
       "```\n",
       "class GrammarException(BaseException): ...\n",
       "class SpellingException(BaseException): ...\n",
       "```\n",
       ">\n",
       " `GrammarException` or `SpellingException` could potentially inform the literate program author.\n",
       "\n",
       " ## `nbconvert` is a basic way to test computablility.\n",
       "\n",
       "```\n",
       "jupyter nbconvert --execute 0.md.ipynb\n",
       "```"
      ],
      "text/plain": [
       "__main__.errors"
      ]
     },
     "execution_count": 89,
     "metadata": {},
     "output_type": "execute_result"
    }
   ],
   "source": [
    "    \n",
    "    class errors:\n",
    "## There isn't a way to test `readability`\n",
    "\n",
    "Programs and readable documents raise errors.  Literate documents must compute, or restart and run \n",
    "all.  nbconvert execute must work.  Bad grammar or syntax will cause a human computer to start reading.\n",
    "\n",
    "```\n",
    "class GrammarException(BaseException): ...\n",
    "class SpellingException(BaseException): ...\n",
    "```\n",
    ">\n",
    " `GrammarException` or `SpellingException` could potentially inform the literate program author.\n",
    "\n",
    " ## `nbconvert` is a basic way to test computablility.\n",
    "\n",
    "```\n",
    "jupyter nbconvert --execute 0.md.ipynb\n",
    "```\n",
    "    \n",
    "    errors"
   ]
  },
  {
   "cell_type": "code",
   "execution_count": 109,
   "metadata": {},
   "outputs": [],
   "source": [
    "    \n",
    "    class highlights:\n",
    "---\n",
    ">\n",
    " # Highlights from [deathbeds](http://deathbeds.github.io).\n",
    "\n",
    " ## [Nbviewer]()\n",
    " ## [Binder]() some things are usable on binder.\n",
    " ## [Continuous Integration]()\n",
    " ## JupyterCon talk\n",
    "\n",
    " <iframe width=\"894\" height=\"503\" src=\"https://www.youtube.com/embed/QoPMAdooy6g\" frameborder=\"0\" allow=\"accelerometer; autoplay; encrypted-media; gyroscope; picture-in-picture\" allowfullscreen></iframe>\n",
    "---\n",
    "\n",
    "    highlights;"
   ]
  },
  {
   "cell_type": "code",
   "execution_count": 110,
   "metadata": {},
   "outputs": [],
   "source": [
    "    \n",
    "    class imports:\n",
    "---\n",
    ">\n",
    " ## [__importnb__](https://deathbeds.github.io/importnb) allows notebooks to be reused a python modules.\n",
    "\n",
    " __importnb__ is essential to the `deathbeds` workflow; it makes __notebooks__ importable as python modules.\n",
    "---\n",
    "- http://nbviewer.jupyter.org/github/deathbeds/deathbeds.github.io/blob/master/deathbeds/2018-07-10-Fuzzy-importing-files-with-weird-characters.ipynb\n",
    "- http://nbviewer.jupyter.org/github/deathbeds/deathbeds.github.io/blob/master/deathbeds/2018-07-08-The-simplest-path-hook-importer-for-a-notebook.ipynb\n",
    "---\n",
    "- http://nbviewer.jupyter.org/github/deathbeds/deathbeds.github.io/blob/master/deathbeds/2018-10-24-String-Template-Ipython-formatter.ipynb\n",
    "- \n",
    "---\n",
    "\n",
    "    imports;"
   ]
  },
  {
   "cell_type": "code",
   "execution_count": null,
   "metadata": {},
   "outputs": [],
   "source": [
    "[Blog](http://nbviewer.jupyter.org/github/deathbeds/deathbeds.github.io/tree/master/deathbeds/) |  | [Github](https://github.com/deathbeds)"
   ]
  },
  {
   "cell_type": "code",
   "execution_count": 114,
   "metadata": {},
   "outputs": [
    {
     "data": {
      "text/html": [
       "<div style=\"display: flex; flex-direction: column\"><div style=\"flex: 1\"><p>Jupyter notebooks can be used as tests successful <strong>tests</strong> can validate reproducibility.</p>\n",
       "</div><div style=\"flex: 1\"><iframe style=\"height: 400px; width: 100%\" src=\"http://nbviewer.jupyter.org/github/deathbeds/deathbeds.github.io/blob/master/deathbeds/2018-07-31-Testing-notebooks.ipynb\"></iframe></div><div style=\"flex: 1\"><h1>Continuous Integration</h1>\n",
       "<p><a href=\"https://travis-ci.org/deathbeds/deathbeds.github.io\"><img src=\"https://travis-ci.org/deathbeds/deathbeds.github.io.svg?branch=master\" alt=\"Build Status\" /></a></p>\n",
       "</div></div>"
      ],
      "text/plain": [
       "__main__.testing"
      ]
     },
     "execution_count": 114,
     "metadata": {},
     "output_type": "execute_result"
    }
   ],
   "source": [
    "    \n",
    "    class testing:\n",
    "---\n",
    "# Notebooks as tests.\n",
    "\n",
    "Jupyter notebooks can be used as tests successful __tests__ can validate reproducibility.\n",
    "\n",
    "---\n",
    "http://nbviewer.jupyter.org/github/deathbeds/deathbeds.github.io/blob/master/deathbeds/2018-07-31-Testing-notebooks.ipynb\n",
    "---\n",
    ">\n",
    " # Continuous Integration\n",
    "    \n",
    " [![Build Status](https://travis-ci.org/deathbeds/deathbeds.github.io.svg?branch=master)](https://travis-ci.org/deathbeds/deathbeds.github.io)\n",
    "\n",
    "    testing"
   ]
  },
  {
   "cell_type": "code",
   "execution_count": 115,
   "metadata": {},
   "outputs": [],
   "source": [
    "    \n",
    "    class suggestion:\n",
    "---\n",
    "\"> So you wanna write a post?\"\n",
    "---\n",
    ">\n",
    " ### Post Idea\n",
    "\n",
    " #### Take some notebook you have and run `nbconvert` with `--execute` to see how many succeed.\n",
    "---\n",
    "https://nbconvert.readthedocs.io/en/latest/execute_api.html"
   ]
  },
  {
   "cell_type": "code",
   "execution_count": null,
   "metadata": {},
   "outputs": [],
   "source": [
    "    class visuals:\n",
    "- http://nbviewer.jupyter.org/github/deathbeds/deathbeds.github.io/blob/master/deathbeds/2018-08-28-Github-project-statistics-and-visualizations.ipynb\n",
    "- "
   ]
  },
  {
   "cell_type": "code",
   "execution_count": 94,
   "metadata": {},
   "outputs": [
    {
     "data": {
      "text/markdown": [
       "* IPython bug\n",
       "* Reusable modules\n",
       "---\n",
       "<iframe width=\"894\" height=\"503\" src=\"https://www.youtube.com/embed/QoPMAdooy6g\" frameborder=\"0\" allow=\"accelerometer; autoplay; encrypted-media; gyroscope; picture-in-picture\" allowfullscreen></iframe>\n",
       "---\n",
       "- reincarnation\n",
       "- video"
      ],
      "text/plain": [
       "'* IPython bug\\n* Reusable modules\\n---\\n<iframe width=\"894\" height=\"503\" src=\"https://www.youtube.com/embed/QoPMAdooy6g\" frameborder=\"0\" allow=\"accelerometer; autoplay; encrypted-media; gyroscope; picture-in-picture\" allowfullscreen></iframe>\\n---\\n- reincarnation\\n- video'"
      ]
     },
     "execution_count": 94,
     "metadata": {},
     "output_type": "execute_result"
    }
   ],
   "source": [
    "    class bug:\n",
    "---\n",
    ">\n",
    " ## IPython bug\n",
    "\n",
    " I like to experiment with different inputs.  When IPython 7.0 it broke all the things.  While making the post below\n",
    " I discovered a bug in the newest version.  The fix wound up being my first contribution to `IPython`.\n",
    "---\n",
    "- http://nbviewer.jupyter.org/github/deathbeds/deathbeds.github.io/blob/master/deathbeds/2018-10-01-New-IPython-Input-Interface.ipynb\n",
    "- \"## [My First Contribution to IPython](https://github.com/ipython/ipython/pull/11356)\""
   ]
  },
  {
   "cell_type": "code",
   "execution_count": 33,
   "metadata": {},
   "outputs": [
    {
     "data": {
      "text/markdown": [
       "# Open questions\n",
       "\n",
       "* What are best practices for documents statements and expressions in code?\n",
       "* What are the style guides for tangling and weaving code into data?\n",
       "* How can researchers future proof their work?"
      ],
      "text/plain": [
       "'# Open questions\\n\\n* What are best practices for documents statements and expressions in code?\\n* What are the style guides for tangling and weaving code into data?\\n* How can researchers future proof their work?'"
      ]
     },
     "execution_count": 33,
     "metadata": {},
     "output_type": "execute_result"
    }
   ],
   "source": [
    "# Open questions\n",
    "\n",
    "* What are best practices for documents statements and expressions in code?\n",
    "* What are the style guides for tangling and weaving code into data?\n",
    "* How can researchers future proof their work?"
   ]
  },
  {
   "cell_type": "code",
   "execution_count": 10,
   "metadata": {},
   "outputs": [],
   "source": [
    "    def g(x): \n",
    "        start, middle, end = x.split()\n",
    "        return \"digraph {rankdir=LR %s->%s->%s %s->%s[label=loop]}\"%(start, middle, end, end, start)"
   ]
  },
  {
   "cell_type": "code",
   "execution_count": 92,
   "metadata": {},
   "outputs": [
    {
     "data": {
      "text/html": [
       "<div style=\"display: flex; flex-direction: column\"><div style=\"flex: 1\"><h1>Relationships</h1>\n",
       "</div><div style=\"flex: 1\"><div style=\"display: flex; flex-direction: row\"><div style=\"flex: 1\"><div style=\"display: flex; flex-direction: column\"><div style=\"flex: 1\"><?xml version=\"1.0\" encoding=\"UTF-8\" standalone=\"no\"?><!DOCTYPE svg PUBLIC \"-//W3C//DTD SVG 1.1//EN\" \"http://www.w3.org/Graphics/SVG/1.1/DTD/svg11.dtd\"><!-- Generated by graphviz version 2.38.0 (20140413.2041) --><!-- Title: %3 Pages: 1 --><svg width=\"270pt\" height=\"76pt\" viewBox=\"0.00 0.00 269.89 76.00\" xmlns=\"http://www.w3.org/2000/svg\" xmlns:xlink=\"http://www.w3.org/1999/xlink\"><g id=\"graph0\" class=\"graph\" transform=\"scale(1 1) rotate(0) translate(4 72)\"><title>%3</title><polygon fill=\"white\" stroke=\"none\" points=\"-4,4 -4,-72 265.888,-72 265.888,4 -4,4\"/><!-- read --><g id=\"node1\" class=\"node\"><title>read</title><ellipse fill=\"none\" stroke=\"black\" cx=\"27\" cy=\"-18\" rx=\"27\" ry=\"18\"/><text text-anchor=\"middle\" x=\"27\" y=\"-14.3\" font-family=\"Times New Roman,serif\" font-size=\"14.00\">read</text></g><!-- evaluate --><g id=\"node2\" class=\"node\"><title>evaluate</title><ellipse fill=\"none\" stroke=\"black\" cx=\"130.646\" cy=\"-50\" rx=\"39.7935\" ry=\"18\"/><text text-anchor=\"middle\" x=\"130.646\" y=\"-46.3\" font-family=\"Times New Roman,serif\" font-size=\"14.00\">evaluate</text></g><!-- read&#45;&gt;evaluate --><g id=\"edge1\" class=\"edge\"><title>read&#45;&gt;evaluate</title><path fill=\"none\" stroke=\"black\" d=\"M51.8316,-25.5026C62.5735,-28.8843 75.5817,-32.9795 87.8623,-36.8457\"/><polygon fill=\"black\" stroke=\"black\" points=\"86.9085,-40.2146 97.498,-39.8791 89.0105,-33.5377 86.9085,-40.2146\"/></g><!-- print --><g id=\"node3\" class=\"node\"><title>print</title><ellipse fill=\"none\" stroke=\"black\" cx=\"234.591\" cy=\"-18\" rx=\"27.0966\" ry=\"18\"/><text text-anchor=\"middle\" x=\"234.591\" y=\"-14.3\" font-family=\"Times New Roman,serif\" font-size=\"14.00\">print</text></g><!-- evaluate&#45;&gt;print --><g id=\"edge2\" class=\"edge\"><title>evaluate&#45;&gt;print</title><path fill=\"none\" stroke=\"black\" d=\"M163.623,-39.9628C175.094,-36.362 188.063,-32.291 199.692,-28.6407\"/><polygon fill=\"black\" stroke=\"black\" points=\"201.002,-31.8979 209.495,-25.5636 198.906,-25.2192 201.002,-31.8979\"/></g><!-- print&#45;&gt;read --><g id=\"edge3\" class=\"edge\"><title>print&#45;&gt;read</title><path fill=\"none\" stroke=\"black\" d=\"M208.136,-13.0461C196.628,-11.0476 182.826,-8.98392 170.293,-8 135.16,-5.24186 126.132,-5.22907 91,-8 81.8557,-8.72123 72.0335,-10.0226 62.9295,-11.4532\"/><polygon fill=\"black\" stroke=\"black\" points=\"62.3207,-8.00625 53.0303,-13.0992 63.469,-14.9114 62.3207,-8.00625\"/><text text-anchor=\"middle\" x=\"130.646\" y=\"-11.8\" font-family=\"Times New Roman,serif\" font-size=\"14.00\">loop</text></g></g></svg>\n",
       "</div><div style=\"flex: 1\"><p>Repl</p>\n",
       "</div></div></div><div style=\"flex: 1\"><div style=\"display: flex; flex-direction: column\"><div style=\"flex: 1\"><?xml version=\"1.0\" encoding=\"UTF-8\" standalone=\"no\"?><!DOCTYPE svg PUBLIC \"-//W3C//DTD SVG 1.1//EN\" \"http://www.w3.org/Graphics/SVG/1.1/DTD/svg11.dtd\"><!-- Generated by graphviz version 2.38.0 (20140413.2041) --><!-- Title: %3 Pages: 1 --><svg width=\"332pt\" height=\"76pt\" viewBox=\"0.00 0.00 331.58 76.00\" xmlns=\"http://www.w3.org/2000/svg\" xmlns:xlink=\"http://www.w3.org/1999/xlink\"><g id=\"graph0\" class=\"graph\" transform=\"scale(1 1) rotate(0) translate(4 72)\"><title>%3</title><polygon fill=\"white\" stroke=\"none\" points=\"-4,4 -4,-72 327.578,-72 327.578,4 -4,4\"/><!-- society --><g id=\"node1\" class=\"node\"><title>society</title><ellipse fill=\"none\" stroke=\"black\" cx=\"36.3968\" cy=\"-18\" rx=\"36.2938\" ry=\"18\"/><text text-anchor=\"middle\" x=\"36.3968\" y=\"-14.3\" font-family=\"Times New Roman,serif\" font-size=\"14.00\">society</text></g><!-- science --><g id=\"node2\" class=\"node\"><title>science</title><ellipse fill=\"none\" stroke=\"black\" cx=\"147.49\" cy=\"-50\" rx=\"37.8943\" ry=\"18\"/><text text-anchor=\"middle\" x=\"147.49\" y=\"-46.3\" font-family=\"Times New Roman,serif\" font-size=\"14.00\">science</text></g><!-- society&#45;&gt;science --><g id=\"edge1\" class=\"edge\"><title>society&#45;&gt;science</title><path fill=\"none\" stroke=\"black\" d=\"M68.0757,-26.9989C79.6126,-30.383 92.9239,-34.2876 105.266,-37.9078\"/><polygon fill=\"black\" stroke=\"black\" points=\"104.323,-41.2786 114.904,-40.7349 106.293,-34.5616 104.323,-41.2786\"/></g><!-- technology --><g id=\"node3\" class=\"node\"><title>technology</title><ellipse fill=\"none\" stroke=\"black\" cx=\"272.882\" cy=\"-18\" rx=\"50.8918\" ry=\"18\"/><text text-anchor=\"middle\" x=\"272.882\" y=\"-14.3\" font-family=\"Times New Roman,serif\" font-size=\"14.00\">technology</text></g><!-- science&#45;&gt;technology --><g id=\"edge2\" class=\"edge\"><title>science&#45;&gt;technology</title><path fill=\"none\" stroke=\"black\" d=\"M180.91,-41.5924C193.321,-38.3738 207.79,-34.6216 221.488,-31.0689\"/><polygon fill=\"black\" stroke=\"black\" points=\"222.486,-34.4262 231.287,-28.5279 220.728,-27.6503 222.486,-34.4262\"/></g><!-- technology&#45;&gt;society --><g id=\"edge3\" class=\"edge\"><title>technology&#45;&gt;society</title><path fill=\"none\" stroke=\"black\" d=\"M225.174,-11.6166C212.248,-10.1217 198.195,-8.74776 185.187,-8 151.734,-6.07704 143.223,-5.70216 109.794,-8 100.498,-8.63898 90.5773,-9.73428 81.156,-10.9715\"/><polygon fill=\"black\" stroke=\"black\" points=\"80.6061,-7.51418 71.1817,-12.3549 81.5678,-14.4478 80.6061,-7.51418\"/><text text-anchor=\"middle\" x=\"147.49\" y=\"-11.8\" font-family=\"Times New Roman,serif\" font-size=\"14.00\">loop</text></g></g></svg>\n",
       "</div><div style=\"flex: 1\"><p>Computational thinking</p>\n",
       "</div></div></div><div style=\"flex: 1\"><div style=\"display: flex; flex-direction: column\"><div style=\"flex: 1\"><?xml version=\"1.0\" encoding=\"UTF-8\" standalone=\"no\"?><!DOCTYPE svg PUBLIC \"-//W3C//DTD SVG 1.1//EN\" \"http://www.w3.org/Graphics/SVG/1.1/DTD/svg11.dtd\"><!-- Generated by graphviz version 2.38.0 (20140413.2041) --><!-- Title: %3 Pages: 1 --><svg width=\"374pt\" height=\"76pt\" viewBox=\"0.00 0.00 374.47 76.00\" xmlns=\"http://www.w3.org/2000/svg\" xmlns:xlink=\"http://www.w3.org/1999/xlink\"><g id=\"graph0\" class=\"graph\" transform=\"scale(1 1) rotate(0) translate(4 72)\"><title>%3</title><polygon fill=\"white\" stroke=\"none\" points=\"-4,4 -4,-72 370.474,-72 370.474,4 -4,4\"/><!-- textual --><g id=\"node1\" class=\"node\"><title>textual</title><ellipse fill=\"none\" stroke=\"black\" cx=\"34.4469\" cy=\"-18\" rx=\"34.394\" ry=\"18\"/><text text-anchor=\"middle\" x=\"34.4469\" y=\"-14.3\" font-family=\"Times New Roman,serif\" font-size=\"14.00\">textual</text></g><!-- computational --><g id=\"node2\" class=\"node\"><title>computational</title><ellipse fill=\"none\" stroke=\"black\" cx=\"167.638\" cy=\"-50\" rx=\"61.99\" ry=\"18\"/><text text-anchor=\"middle\" x=\"167.638\" y=\"-46.3\" font-family=\"Times New Roman,serif\" font-size=\"14.00\">computational</text></g><!-- textual&#45;&gt;computational --><g id=\"edge1\" class=\"edge\"><title>textual&#45;&gt;computational</title><path fill=\"none\" stroke=\"black\" d=\"M65.8747,-25.4219C78.9762,-28.6176 94.7352,-32.4615 109.858,-36.1501\"/><polygon fill=\"black\" stroke=\"black\" points=\"109.124,-39.5738 119.669,-38.5433 110.783,-32.7732 109.124,-39.5738\"/></g><!-- procedural --><g id=\"node3\" class=\"node\"><title>procedural</title><ellipse fill=\"none\" stroke=\"black\" cx=\"316.428\" cy=\"-18\" rx=\"50.0912\" ry=\"18\"/><text text-anchor=\"middle\" x=\"316.428\" y=\"-14.3\" font-family=\"Times New Roman,serif\" font-size=\"14.00\">procedural</text></g><!-- computational&#45;&gt;procedural --><g id=\"edge2\" class=\"edge\"><title>computational&#45;&gt;procedural</title><path fill=\"none\" stroke=\"black\" d=\"M217.517,-39.3445C232.154,-36.1536 248.261,-32.6424 263.11,-29.4054\"/><polygon fill=\"black\" stroke=\"black\" points=\"264.13,-32.7652 273.155,-27.2155 262.639,-25.9258 264.13,-32.7652\"/></g><!-- procedural&#45;&gt;textual --><g id=\"edge3\" class=\"edge\"><title>procedural&#45;&gt;textual</title><path fill=\"none\" stroke=\"black\" d=\"M269.519,-11.6688C256.567,-10.1537 242.445,-8.75647 229.383,-8 174.591,-4.82677 160.642,-4.13364 105.894,-8 96.5732,-8.65824 86.6103,-9.80053 77.1984,-11.0834\"/><polygon fill=\"black\" stroke=\"black\" points=\"76.6574,-7.62506 67.2581,-12.5143 77.6548,-14.5536 76.6574,-7.62506\"/><text text-anchor=\"middle\" x=\"167.638\" y=\"-11.8\" font-family=\"Times New Roman,serif\" font-size=\"14.00\">loop</text></g></g></svg>\n",
       "</div><div style=\"flex: 1\"><p>Literacy</p>\n",
       "</div></div></div></div></div><div style=\"flex: 1\"><div style=\"display: flex; flex-direction: row\"><div style=\"flex: 1\"><div style=\"display: flex; flex-direction: column\"><div style=\"flex: 1\"><?xml version=\"1.0\" encoding=\"UTF-8\" standalone=\"no\"?><!DOCTYPE svg PUBLIC \"-//W3C//DTD SVG 1.1//EN\" \"http://www.w3.org/Graphics/SVG/1.1/DTD/svg11.dtd\"><!-- Generated by graphviz version 2.38.0 (20140413.2041) --><!-- Title: %3 Pages: 1 --><svg width=\"262pt\" height=\"76pt\" viewBox=\"0.00 0.00 262.09 76.00\" xmlns=\"http://www.w3.org/2000/svg\" xmlns:xlink=\"http://www.w3.org/1999/xlink\"><g id=\"graph0\" class=\"graph\" transform=\"scale(1 1) rotate(0) translate(4 72)\"><title>%3</title><polygon fill=\"white\" stroke=\"none\" points=\"-4,4 -4,-72 258.089,-72 258.089,4 -4,4\"/><!-- text --><g id=\"node1\" class=\"node\"><title>text</title><ellipse fill=\"none\" stroke=\"black\" cx=\"27\" cy=\"-18\" rx=\"27\" ry=\"18\"/><text text-anchor=\"middle\" x=\"27\" y=\"-14.3\" font-family=\"Times New Roman,serif\" font-size=\"14.00\">text</text></g><!-- input --><g id=\"node2\" class=\"node\"><title>input</title><ellipse fill=\"none\" stroke=\"black\" cx=\"119.597\" cy=\"-50\" rx=\"28.6953\" ry=\"18\"/><text text-anchor=\"middle\" x=\"119.597\" y=\"-46.3\" font-family=\"Times New Roman,serif\" font-size=\"14.00\">input</text></g><!-- text&#45;&gt;input --><g id=\"edge1\" class=\"edge\"><title>text&#45;&gt;input</title><path fill=\"none\" stroke=\"black\" d=\"M51.3311,-26.2408C61.5497,-29.8501 73.7363,-34.1545 84.9116,-38.1018\"/><polygon fill=\"black\" stroke=\"black\" points=\"83.8023,-41.4218 94.3971,-41.4522 86.1337,-34.8215 83.8023,-41.4218\"/></g><!-- output --><g id=\"node3\" class=\"node\"><title>output</title><ellipse fill=\"none\" stroke=\"black\" cx=\"219.642\" cy=\"-18\" rx=\"34.394\" ry=\"18\"/><text text-anchor=\"middle\" x=\"219.642\" y=\"-14.3\" font-family=\"Times New Roman,serif\" font-size=\"14.00\">output</text></g><!-- input&#45;&gt;output --><g id=\"edge2\" class=\"edge\"><title>input&#45;&gt;output</title><path fill=\"none\" stroke=\"black\" d=\"M145.338,-41.925C155.975,-38.4535 168.652,-34.3159 180.448,-30.4658\"/><polygon fill=\"black\" stroke=\"black\" points=\"181.665,-33.7503 190.086,-27.3202 179.493,-27.0958 181.665,-33.7503\"/></g><!-- output&#45;&gt;text --><g id=\"edge3\" class=\"edge\"><title>output&#45;&gt;text</title><path fill=\"none\" stroke=\"black\" d=\"M186.831,-12.5143C174.77,-10.6902 160.887,-8.89632 148.195,-8 122.838,-6.20927 116.341,-6.0013 91,-8 81.8557,-8.72123 72.0335,-10.0226 62.9295,-11.4532\"/><polygon fill=\"black\" stroke=\"black\" points=\"62.3207,-8.00625 53.0303,-13.0992 63.469,-14.9114 62.3207,-8.00625\"/><text text-anchor=\"middle\" x=\"119.597\" y=\"-11.8\" font-family=\"Times New Roman,serif\" font-size=\"14.00\">loop</text></g></g></svg>\n",
       "</div><div style=\"flex: 1\"><p>Computational Essays</p>\n",
       "</div></div></div><div style=\"flex: 1\"><div style=\"display: flex; flex-direction: column\"><div style=\"flex: 1\"><?xml version=\"1.0\" encoding=\"UTF-8\" standalone=\"no\"?><!DOCTYPE svg PUBLIC \"-//W3C//DTD SVG 1.1//EN\" \"http://www.w3.org/Graphics/SVG/1.1/DTD/svg11.dtd\"><!-- Generated by graphviz version 2.38.0 (20140413.2041) --><!-- Title: %3 Pages: 1 --><svg width=\"310pt\" height=\"76pt\" viewBox=\"0.00 0.00 310.18 76.00\" xmlns=\"http://www.w3.org/2000/svg\" xmlns:xlink=\"http://www.w3.org/1999/xlink\"><g id=\"graph0\" class=\"graph\" transform=\"scale(1 1) rotate(0) translate(4 72)\"><title>%3</title><polygon fill=\"white\" stroke=\"none\" points=\"-4,4 -4,-72 306.185,-72 306.185,4 -4,4\"/><!-- science --><g id=\"node1\" class=\"node\"><title>science</title><ellipse fill=\"none\" stroke=\"black\" cx=\"37.6967\" cy=\"-18\" rx=\"37.8943\" ry=\"18\"/><text text-anchor=\"middle\" x=\"37.6967\" y=\"-14.3\" font-family=\"Times New Roman,serif\" font-size=\"14.00\">science</text></g><!-- computing --><g id=\"node2\" class=\"node\"><title>computing</title><ellipse fill=\"none\" stroke=\"black\" cx=\"161.789\" cy=\"-50\" rx=\"49.2915\" ry=\"18\"/><text text-anchor=\"middle\" x=\"161.789\" y=\"-46.3\" font-family=\"Times New Roman,serif\" font-size=\"14.00\">computing</text></g><!-- science&#45;&gt;computing --><g id=\"edge1\" class=\"edge\"><title>science&#45;&gt;computing</title><path fill=\"none\" stroke=\"black\" d=\"M71.0946,-26.4914C83.4873,-29.7395 97.9172,-33.5215 111.533,-37.0903\"/><polygon fill=\"black\" stroke=\"black\" points=\"110.703,-40.4908 121.264,-39.6406 112.478,-33.7195 110.703,-40.4908\"/></g><!-- data --><g id=\"node3\" class=\"node\"><title>data</title><ellipse fill=\"none\" stroke=\"black\" cx=\"275.185\" cy=\"-18\" rx=\"27\" ry=\"18\"/><text text-anchor=\"middle\" x=\"275.185\" y=\"-14.3\" font-family=\"Times New Roman,serif\" font-size=\"14.00\">data</text></g><!-- computing&#45;&gt;data --><g id=\"edge2\" class=\"edge\"><title>computing&#45;&gt;data</title><path fill=\"none\" stroke=\"black\" d=\"M201.125,-38.9874C213.81,-35.3434 227.831,-31.3158 240.169,-27.7715\"/><polygon fill=\"black\" stroke=\"black\" points=\"241.426,-31.0519 250.071,-24.9269 239.494,-24.324 241.426,-31.0519\"/></g><!-- data&#45;&gt;science --><g id=\"edge3\" class=\"edge\"><title>data&#45;&gt;science</title><path fill=\"none\" stroke=\"black\" d=\"M249.154,-13.0992C237.64,-11.0843 223.77,-8.99266 211.185,-8 167.413,-4.5477 156.201,-5.04141 112.393,-8 103.027,-8.63254 93.0373,-9.71234 83.5329,-10.9343\"/><polygon fill=\"black\" stroke=\"black\" points=\"82.901,-7.48795 73.4629,-12.3017 83.843,-14.4243 82.901,-7.48795\"/><text text-anchor=\"middle\" x=\"161.789\" y=\"-11.8\" font-family=\"Times New Roman,serif\" font-size=\"14.00\">loop</text></g></g></svg>\n",
       "</div><div style=\"flex: 1\"><p>Literate Computing</p>\n",
       "</div></div></div></div></div><div style=\"flex: 1\"><div style=\"display: flex; flex-direction: row\"><div style=\"flex: 1\"><div style=\"display: flex; flex-direction: column\"><div style=\"flex: 1\"><?xml version=\"1.0\" encoding=\"UTF-8\" standalone=\"no\"?><!DOCTYPE svg PUBLIC \"-//W3C//DTD SVG 1.1//EN\" \"http://www.w3.org/Graphics/SVG/1.1/DTD/svg11.dtd\"><!-- Generated by graphviz version 2.38.0 (20140413.2041) --><!-- Title: %3 Pages: 1 --><svg width=\"400pt\" height=\"76pt\" viewBox=\"0.00 0.00 400.47 76.00\" xmlns=\"http://www.w3.org/2000/svg\" xmlns:xlink=\"http://www.w3.org/1999/xlink\"><g id=\"graph0\" class=\"graph\" transform=\"scale(1 1) rotate(0) translate(4 72)\"><title>%3</title><polygon fill=\"white\" stroke=\"none\" points=\"-4,4 -4,-72 396.472,-72 396.472,4 -4,4\"/><!-- readability --><g id=\"node1\" class=\"node\"><title>readability</title><ellipse fill=\"none\" stroke=\"black\" cx=\"48.0957\" cy=\"-18\" rx=\"48.1917\" ry=\"18\"/><text text-anchor=\"middle\" x=\"48.0957\" y=\"-14.3\" font-family=\"Times New Roman,serif\" font-size=\"14.00\">readability</text></g><!-- reproducibility --><g id=\"node2\" class=\"node\"><title>reproducibility</title><ellipse fill=\"none\" stroke=\"black\" cx=\"196.886\" cy=\"-50\" rx=\"63.8893\" ry=\"18\"/><text text-anchor=\"middle\" x=\"196.886\" y=\"-46.3\" font-family=\"Times New Roman,serif\" font-size=\"14.00\">reproducibility</text></g><!-- readability&#45;&gt;reproducibility --><g id=\"edge1\" class=\"edge\"><title>readability&#45;&gt;reproducibility</title><path fill=\"none\" stroke=\"black\" d=\"M89.985,-26.9138C104.251,-30.0237 120.57,-33.5812 136.054,-36.9568\"/><polygon fill=\"black\" stroke=\"black\" points=\"135.563,-40.4318 146.079,-39.1422 137.054,-33.5925 135.563,-40.4318\"/></g><!-- reusability --><g id=\"node3\" class=\"node\"><title>reusability</title><ellipse fill=\"none\" stroke=\"black\" cx=\"345.026\" cy=\"-18\" rx=\"47.3916\" ry=\"18\"/><text text-anchor=\"middle\" x=\"345.026\" y=\"-14.3\" font-family=\"Times New Roman,serif\" font-size=\"14.00\">reusability</text></g><!-- reproducibility&#45;&gt;reusability --><g id=\"edge2\" class=\"edge\"><title>reproducibility&#45;&gt;reusability</title><path fill=\"none\" stroke=\"black\" d=\"M247.77,-39.0769C262.55,-35.8405 278.743,-32.2949 293.56,-29.0505\"/><polygon fill=\"black\" stroke=\"black\" points=\"294.543,-32.4181 303.563,-26.86 293.046,-25.5801 294.543,-32.4181\"/></g><!-- reusability&#45;&gt;readability --><g id=\"edge3\" class=\"edge\"><title>reusability&#45;&gt;readability</title><path fill=\"none\" stroke=\"black\" d=\"M300.373,-11.7736C287.578,-10.2184 273.543,-8.77395 260.58,-8 204.064,-4.62565 189.71,-4.65145 133.191,-8 123.605,-8.56794 113.437,-9.49699 103.607,-10.5659\"/><polygon fill=\"black\" stroke=\"black\" points=\"103.061,-7.10548 93.5248,-11.7212 103.858,-14.06 103.061,-7.10548\"/><text text-anchor=\"middle\" x=\"196.886\" y=\"-11.8\" font-family=\"Times New Roman,serif\" font-size=\"14.00\">loop</text></g></g></svg>\n",
       "</div><div style=\"flex: 1\"><p>Replicability</p>\n",
       "</div></div></div></div></div></div>"
      ],
      "text/plain": [
       "'---\\n\"# Relationships\"\\n---\\n- - \\'{{g(\"read evaluate print\")}}\\'\\n  - Repl\\n- - \\'{{g(\"society science technology\")}}\\'\\n  - Computational thinking\\n- - \\'{{g(\"textual computational procedural\")}}\\'\\n  - Literacy\\n---\\n- - \\'{{g(\"text input output\")}}\\'\\n  - Computational Essays\\n- - \\'{{g(\"science computing data\")}}\\'\\n  - Literate Computing\\n---\\n- - \\'{{g(\"readability reproducibility reusability\")}}\\'\\n  - Replicability'"
      ]
     },
     "execution_count": 92,
     "metadata": {},
     "output_type": "execute_result"
    }
   ],
   "source": [
    "---\n",
    "\"# Relationships\"\n",
    "---\n",
    "- - '{{g(\"read evaluate print\")}}'\n",
    "  - Repl\n",
    "- - '{{g(\"society science technology\")}}'\n",
    "  - Computational thinking\n",
    "- - '{{g(\"textual computational procedural\")}}'\n",
    "  - Literacy\n",
    "---\n",
    "- - '{{g(\"text input output\")}}'\n",
    "  - Computational Essays\n",
    "- - '{{g(\"science computing data\")}}'\n",
    "  - Literate Computing\n",
    "---\n",
    "- - '{{g(\"readability reproducibility reusability\")}}'\n",
    "  - Replicability"
   ]
  },
  {
   "cell_type": "code",
   "execution_count": null,
   "metadata": {},
   "outputs": [],
   "source": [
    "Notebooks and the Jupyter Ecosystem provide reliable tools to create readable, \n",
    "reproducible, and reusable noting from collections of notebooks.  Computational ideas \n",
    "can be tested with continuous integration."
   ]
  },
  {
   "cell_type": "code",
   "execution_count": 67,
   "metadata": {},
   "outputs": [
    {
     "data": {
      "text/html": [
       "<div style=\"display: flex; flex-direction: column\"><div style=\"flex: 1\"><h1><em>Notebook-ism</em></h1>\n",
       "<ul>\n",
       "<li><em><strong>Notebook-ism</strong></em> is the daily journaling of notebooks. * __Notebook__s are a modern lab notebook where the author records their work as data. * Research blogging using notebooks. * Old ideas can be tested. * Is a way to draw with computers. * Practice composing computational essays and best practices will emerge.</li>\n",
       "</ul>\n",
       "</div><div style=\"flex: 1\"><ul>\n",
       "<li>other presentations.</li>\n",
       "</ul>\n",
       "</div></div>"
      ],
      "text/plain": [
       "'---\\n\"# _Notebook-ism_\\n\\n* _**Notebook-ism**_ is the daily journaling of notebooks.\\n* __Notebook__s are a modern lab notebook where the author records their work as data.\\n* Research blogging using notebooks.\\n* Old ideas can be tested.\\n* Is a way to draw with computers.\\n* Practice composing computational essays and best practices will emerge.\\n\"\\n---\\n\"* other presentations.\"\\n'"
      ]
     },
     "execution_count": 67,
     "metadata": {},
     "output_type": "execute_result"
    }
   ],
   "source": [
    "---\n",
    "\"# _Notebook-ism_\n",
    "\n",
    "* _**Notebook-ism**_ is the daily journaling of notebooks.\n",
    "* __Notebook__s are a modern lab notebook where the author records their work as data.\n",
    "* Research blogging using notebooks.\n",
    "* Old ideas can be tested.\n",
    "* Is a way to draw with computers.\n",
    "* Practice composing computational essays and best practices will emerge.\n",
    "\"\n",
    "---\n",
    "\"* other presentations.\"\n"
   ]
  }
 ],
 "metadata": {
  "kernelspec": {
   "display_name": "Python 3",
   "language": "python",
   "name": "python3"
  },
  "language_info": {
   "codemirror_mode": {
    "name": "ipython",
    "version": 3
   },
   "file_extension": ".py",
   "mimetype": "text/x-python",
   "name": "python",
   "nbconvert_exporter": "python",
   "pygments_lexer": "ipython3",
   "version": "3.6.6"
  }
 },
 "nbformat": 4,
 "nbformat_minor": 2
}
