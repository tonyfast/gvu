{
 "cells": [
  {
   "cell_type": "markdown",
   "metadata": {},
   "source": [
    "In this section, we discuss research blogging and the reusable value of computational essays."
   ]
  },
  {
   "cell_type": "code",
   "execution_count": 1,
   "metadata": {},
   "outputs": [],
   "source": [
    "%reload_ext pidgin.shell\n",
    "%reload_ext pidgin.display"
   ]
  },
  {
   "cell_type": "code",
   "execution_count": 52,
   "metadata": {},
   "outputs": [],
   "source": [
    "    import IPython"
   ]
  },
  {
   "cell_type": "code",
   "execution_count": 53,
   "metadata": {},
   "outputs": [],
   "source": [
    "    \n",
    "    class open_source:\n",
    "---\n",
    "- \"[![](http://res.cloudinary.com/dyd911kmh/image/upload/f_auto,q_auto:best/v1509622333/scipy-eco_kqi2su.png)](https://speakerdeck.com/jakevdp/the-state-of-the-stack-scipy-2015-keynote)\"\n",
    "---\n",
    "> \n",
    " # [NumFocus sponsored projects](https://numfocus.org/sponsored-projects)\n",
    " \n",
    " ![image](https://user-images.githubusercontent.com/4236275/47725984-fe21c600-dc2f-11e8-9cf4-1ee1bab44e06.png)\n",
    " ![image](https://user-images.githubusercontent.com/4236275/47726068-20b3df00-dc30-11e8-9401-96b73f696be2.png)\n",
    "---\n",
    "> \n",
    " ## `open_source` has become very usable\n",
    "\n",
    " ### With practice, entry level programmers can access powerful data and visualization tools.\n",
    "\n",
    " # Use [Anaconda](http://anaconda.org)\n",
    "\n",
    "    open_source;"
   ]
  },
  {
   "cell_type": "code",
   "execution_count": 161,
   "metadata": {},
   "outputs": [],
   "source": [
    "    \n",
    "    class caveat:\n",
    "# I'm a huge nerd and invest too much time understanding open source software and making notebooks."
   ]
  },
  {
   "cell_type": "code",
   "execution_count": 162,
   "metadata": {},
   "outputs": [],
   "source": [
    "    \n",
    "    class research_blogging:\n",
    "---\n",
    "\"# Research Blogging\"\n",
    "---\n",
    "https://www.theatlantic.com/science/archive/2018/04/the-scientific-paper-is-obsolete/556676/\n",
    "---\n",
    "\"#### In research blogging, notebook interfaces are a substrate for analyzing data and recording computational thought.  Recording \n",
    "data and thoughts in a notebook is a modern practice for lab notebooks.\n",
    "\"---\n",
    "\"## New practices are needed in journalism.\"\n",
    "---\n",
    "http://nytlabs.com/blog/2015/10/20/particles/\n",
    "---\n",
    "\"### Research blogging is frequent habit of composing computational essays\n",
    "\n",
    "Research blogging improves a modern technologist ability to talk about data and code within complex narratives.\""
   ]
  },
  {
   "cell_type": "code",
   "execution_count": 163,
   "metadata": {},
   "outputs": [],
   "source": [
    "    \n",
    "    class examples:\n",
    "---\n",
    "- digraph { rankdir=LR readable->reproducible->reusable->readable}\n",
    "---\n",
    "\"# Research blogging\n",
    "\n",
    "In this section we consider two approaches to research blogging.\"\n",
    "---\n",
    "\"# Materials Informatics Course\n",
    "\n",
    "A Jeykll based blog\"\n",
    "---\n",
    "- http://materials-informatics-lab.github.io/\n",
    "- \"[![](https://image.slidesharecdn.com/flamel-ss-141210102438-conversion-gate02/95/flamel-materials-informatics-course-roundup-1-638.jpg?cb=1418218370)](https://www.slideshare.net/tonyfast1/flamel-materials-informatics-course-roundup)\"\n",
    "---\n",
    "\"# Deathbeds\n",
    "\n",
    "A collection of notebooks exploring data and interactive computing in IPython.\"\n",
    "---\n",
    "- http://deathbeds.github.io\n",
    "---\n",
    "\n",
    "    examples;"
   ]
  },
  {
   "cell_type": "code",
   "execution_count": 164,
   "metadata": {},
   "outputs": [],
   "source": [
    "    \n",
    "    with IPython.utils.capture.capture_output() as cap:\n",
    "        (reload if 'this' in __import__('sys').modules else lambda x: x)(__import__('this'))\n",
    "\n",
    "    class readability:\n",
    "---\n",
    ">\n",
    "  ```\n",
    "  {{cap.stdout}}\n",
    "  ```\n",
    "---\n",
    ">\n",
    " ## Readablility Counts\n",
    "\n",
    " * Research blogging reinforces that __Readability Counts__.  \n",
    "\n",
    " * Readability is a critical consideration when developing content for cross disciplinary thinking.\n",
    "\n",
    " * Readability encourages writing more __Markdown__ than code.\n",
    "\n",
    " * Research blogging teaches the practice of composing computational essays that are readable and computable.\n",
    "\n",
    "---\n",
    "\n",
    "    readability;"
   ]
  },
  {
   "cell_type": "code",
   "execution_count": 165,
   "metadata": {},
   "outputs": [
    {
     "data": {
      "text/markdown": [
       "## There isn't a way to test `readability`\n",
       "\n",
       "Programs and readable documents raise errors.  Literate documents must compute, or restart and run \n",
       "all.  nbconvert execute must work.  Bad grammar or syntax will cause a human computer to start reading.\n",
       "\n",
       "```\n",
       "class GrammarException(BaseException): ...\n",
       "class SpellingException(BaseException): ...\n",
       "```\n",
       ">\n",
       " `GrammarException` or `SpellingException` could potentially inform the literate program author.\n",
       "\n",
       " ## `nbconvert` is a basic way to test computablility.\n",
       "\n",
       "```\n",
       "jupyter nbconvert --execute 0.md.ipynb\n",
       "```"
      ],
      "text/plain": [
       "__main__.errors"
      ]
     },
     "execution_count": 165,
     "metadata": {},
     "output_type": "execute_result"
    }
   ],
   "source": [
    "    \n",
    "    class errors:\n",
    "## There isn't a way to test `readability`\n",
    "\n",
    "Programs and readable documents raise errors.  Literate documents must compute, or restart and run \n",
    "all.  nbconvert execute must work.  Bad grammar or syntax will cause a human computer to start reading.\n",
    "\n",
    "```\n",
    "class GrammarException(BaseException): ...\n",
    "class SpellingException(BaseException): ...\n",
    "```\n",
    ">\n",
    " `GrammarException` or `SpellingException` could potentially inform the literate program author.\n",
    "\n",
    " ## `nbconvert` is a basic way to test computablility.\n",
    "\n",
    "```\n",
    "jupyter nbconvert --execute 0.md.ipynb\n",
    "```\n",
    "    \n",
    "    errors"
   ]
  },
  {
   "cell_type": "code",
   "execution_count": 166,
   "metadata": {},
   "outputs": [],
   "source": [
    "    \n",
    "    class highlights:\n",
    "---\n",
    ">\n",
    " # Highlights from [deathbeds](http://deathbeds.github.io).\n",
    "\n",
    " ## [Nbviewer](http://nbviewer.jupyter.org/github/deathbeds/deathbeds.github.io/tree/master/deathbeds/)\n",
    " ## [Github](https://github.com/deathbeds)\n",
    " ## [Binder]() some things are usable on binder.\n",
    " ## [Continuous Integration]()\n",
    " ## JupyterCon talk\n",
    "\n",
    " <iframe width=\"894\" height=\"503\" src=\"https://www.youtube.com/embed/QoPMAdooy6g\" frameborder=\"0\" allow=\"accelerometer; autoplay; encrypted-media; gyroscope; picture-in-picture\" allowfullscreen></iframe>"
   ]
  },
  {
   "cell_type": "code",
   "execution_count": 167,
   "metadata": {},
   "outputs": [],
   "source": [
    "    \n",
    "    class imports:\n",
    "---\n",
    ">\n",
    " ## [__importnb__](https://deathbeds.github.io/importnb) allows notebooks to be reused a python modules.\n",
    "\n",
    " __importnb__ is essential to the `deathbeds` workflow; it makes __notebooks__ importable as python modules.\n",
    "---\n",
    "- http://nbviewer.jupyter.org/github/deathbeds/deathbeds.github.io/blob/master/deathbeds/2018-07-10-Fuzzy-importing-files-with-weird-characters.ipynb\n",
    "- http://nbviewer.jupyter.org/github/deathbeds/deathbeds.github.io/blob/master/deathbeds/2018-07-08-The-simplest-path-hook-importer-for-a-notebook.ipynb\n",
    "---\n",
    "- http://nbviewer.jupyter.org/github/deathbeds/deathbeds.github.io/blob/master/deathbeds/2018-10-24-String-Template-Ipython-formatter.ipynb\n",
    "- \n",
    "---\n",
    "\n",
    "    imports;"
   ]
  },
  {
   "cell_type": "code",
   "execution_count": 168,
   "metadata": {},
   "outputs": [],
   "source": [
    "    \n",
    "    class testing:\n",
    "---\n",
    "# Notebooks as tests.\n",
    "\n",
    "Jupyter notebooks can be used as tests successful __tests__ can validate reproducibility.\n",
    "\n",
    "> Restart and Run All or it didn't happen.\n",
    "\n",
    "---\n",
    "- http://nbviewer.jupyter.org/github/deathbeds/deathbeds.github.io/blob/master/deathbeds/2018-07-31-Testing-notebooks.ipynb\n",
    "- http://nbviewer.jupyter.org/github/deathbeds/deathbeds.github.io/blob/master/deathbeds/2018-07-15-Pytest-watchmedo.ipynb\n",
    "---\n",
    ">\n",
    " # Continuous Integration\n",
    "    \n",
    " [![Build Status](https://travis-ci.org/deathbeds/deathbeds.github.io.svg?branch=master)](https://travis-ci.org/deathbeds/deathbeds.github.io)\n",
    "\n",
    "    testing;"
   ]
  },
  {
   "cell_type": "code",
   "execution_count": 169,
   "metadata": {},
   "outputs": [],
   "source": [
    "    \n",
    "    class suggestion:\n",
    "---\n",
    "\"> So you wanna write a post?\"\n",
    "---\n",
    ">\n",
    " ### Post Idea\n",
    "\n",
    " #### Take some notebook you have and run `nbconvert` with `--execute` to see how many succeed.\n",
    "---\n",
    "https://nbconvert.readthedocs.io/en/latest/execute_api.html"
   ]
  },
  {
   "cell_type": "code",
   "execution_count": 170,
   "metadata": {},
   "outputs": [],
   "source": [
    "    class visuals:\n",
    "---\n",
    "- http://nbviewer.jupyter.org/github/deathbeds/deathbeds.github.io/blob/master/deathbeds/2018-08-28-Github-project-statistics-and-visualizations.ipynb\n",
    "- http://nbviewer.jupyter.org/github/deathbeds/deathbeds.github.io/blob/master/deathbeds/2018-07-02-Pandas-Pixels--DataFrames-as-Images.ipynb\n",
    "- http://nbviewer.jupyter.org/github/deathbeds/deathbeds.github.io/blob/master/deathbeds/2018-07-10-Using-math-as-a-grid.ipynb\n",
    "---\n",
    "- http://nbviewer.jupyter.org/github/deathbeds/deathbeds.github.io/blob/master/deathbeds/2018-08-25-Quantifying-distances-between-historical-notebooks.ipynb\n",
    "- http://nbviewer.jupyter.org/github/deathbeds/deathbeds.github.io/blob/master/deathbeds/2018-08-25-Quantifying-distances-between-historical-notebooks.ipynb\n",
    "---\n",
    "    visuals;"
   ]
  },
  {
   "cell_type": "code",
   "execution_count": 171,
   "metadata": {},
   "outputs": [],
   "source": [
    "    class bug:\n",
    "---\n",
    ">\n",
    " ## IPython bug\n",
    "\n",
    " I like to experiment with different inputs.  That part of the API broke recently with the new IPython 7.0.  It \n",
    " turned out the new API had a bug, too.  The fix wound up being my first contribution to `IPython`.\n",
    "---\n",
    "- http://nbviewer.jupyter.org/github/deathbeds/deathbeds.github.io/blob/master/deathbeds/2018-10-01-New-IPython-Input-Interface.ipynb\n",
    "- \"## [My First Contribution to IPython](https://github.com/ipython/ipython/pull/11356)\"\n",
    "---\n",
    "\n",
    "    bug;"
   ]
  },
  {
   "cell_type": "code",
   "execution_count": 172,
   "metadata": {},
   "outputs": [],
   "source": [
    "    \n",
    "    class best_style:\n",
    "---\n",
    "# The Best Notebook Style Guide to Date.\n",
    "---\n",
    "http://nbviewer.jupyter.org/github/jupyterday-atlanta-2016/oriole_jupyterday_atl/blob/master/oriole_talk.ipynb"
   ]
  },
  {
   "cell_type": "code",
   "execution_count": 173,
   "metadata": {},
   "outputs": [],
   "source": [
    "    \n",
    "    class questions:\n",
    "# Open questions\n",
    "\n",
    "* What are best practices for documents containing data plus statements and expressions in code?\n",
    "* What are the style guides for tangling and weaving code into data?\n",
    "* How can researchers future proof their work?"
   ]
  },
  {
   "cell_type": "code",
   "execution_count": 187,
   "metadata": {},
   "outputs": [],
   "source": [
    "    \n",
    "    def g(x): \n",
    "        start, middle, end = x.split()\n",
    "        return \"digraph {rankdir=LR %s->%s->%s %s->%s[label=loop]}\"%(start, middle, end, end, start)\n",
    "\n",
    "    class similarities:\n",
    "---\n",
    "\"# Project Jupyter and Notebooks are valuable when considered in other arenas\"\n",
    "---\n",
    "- - '{{g(\"read evaluate print\")}}'\n",
    "  - \"[Repl](https://en.wikipedia.org/wiki/Read%E2%80%93eval%E2%80%93print_loop)\"\n",
    "- - '{{g(\"society science technology\")}}'\n",
    "  - \"[Computational thinking](https://www.ncbi.nlm.nih.gov/pmc/articles/PMC2696102/)\"\n",
    "- - '{{g(\"textual computational procedural\")}}'\n",
    "  - \"[Literacy](http://licsjournal.org/OJS/index.php/LiCS/article/view/24)\"\n",
    "---\n",
    "- - '{{g(\"text input output\")}}'\n",
    "  - \"[Computational Essays](http://blog.stephenwolfram.com/2017/11/what-is-a-computational-essay/)\"\n",
    "- - '{{g(\"science computing data\")}}'\n",
    "  - \"[Literate Computing](http://blog.fperez.org/2013/04/literate-computing-and-computational.html)\"\n",
    "- - '{{g(\"readability reproducibility reusability\")}}'\n",
    "  - \"[Replicability](http://gael-varoquaux.info/programming/of-software-and-science-reproducible-science-what-why-and-how.html)\"\n",
    "---\n",
    "\n",
    "    similarities;"
   ]
  },
  {
   "cell_type": "code",
   "execution_count": 189,
   "metadata": {},
   "outputs": [],
   "source": [
    "    \n",
    "    class notebookism:\n",
    "# _Notebook-ism_\n",
    "\n",
    "Notebooks and the Jupyter Ecosystem provide reliable tools to create readable, \n",
    "reproducible, and reusable noting from collections of notebooks.  Computational ideas \n",
    "can be tested with continuous integration.\n",
    "\n",
    "* _**Notebook-ism**_ is the daily journaling of notebooks, and doodling with computers.\n",
    "* __Notebook__s are a modern lab notebook where the author records their work as data.\n",
    "* Research blogging using notebooks.\n",
    "* Old ideas can be tested.\n",
    "* Is a way to draw with computers.\n",
    "* Practice composing computational essays and best practices will emerge.\n",
    "* Write notebooks."
   ]
  },
  {
   "cell_type": "code",
   "execution_count": null,
   "metadata": {},
   "outputs": [
    {
     "data": {
      "text/markdown": [
       "---\n",
       "---\n",
       "---\n",
       "---\n",
       "---\n",
       "---\n",
       "---\n",
       "---\n",
       "---\n",
       "---\n",
       "---\n",
       "---\n",
       "---\n",
       "---\n",
       "---\n"
      ],
      "text/plain": [
       "<IPython.core.display.Markdown object>"
      ]
     },
     "metadata": {},
     "output_type": "display_data"
    },
    {
     "data": {
      "text/html": [
       "<div style=\"display: flex; flex-direction: column\"><div style=\"flex: 1\"><div style=\"display: flex; flex-direction: row\"><div style=\"flex: 1\"><p><a href=\"https://speakerdeck.com/jakevdp/the-state-of-the-stack-scipy-2015-keynote\"><img src=\"http://res.cloudinary.com/dyd911kmh/image/upload/f_auto,q_auto:best/v1509622333/scipy-eco_kqi2su.png\" alt=\"\" /></a></p>\n",
       "</div></div></div><div style=\"flex: 1\"><h1><a href=\"https://numfocus.org/sponsored-projects\">NumFocus sponsored projects</a></h1>\n",
       "<p><img src=\"https://user-images.githubusercontent.com/4236275/47725984-fe21c600-dc2f-11e8-9cf4-1ee1bab44e06.png\" alt=\"image\" /> <img src=\"https://user-images.githubusercontent.com/4236275/47726068-20b3df00-dc30-11e8-9401-96b73f696be2.png\" alt=\"image\" /></p>\n",
       "</div><div style=\"flex: 1\"><h2><code>open_source</code> has become very usable</h2>\n",
       "<h3>With practice, entry level programmers can access powerful data and visualization tools.</h3>\n",
       "<h1>Use <a href=\"http://anaconda.org\">Anaconda</a></h1>\n",
       "</div></div>"
      ],
      "text/plain": [
       "__main__.open_source"
      ]
     },
     "metadata": {},
     "output_type": "display_data"
    },
    {
     "data": {
      "text/markdown": [
       "---\n",
       "---\n",
       "---\n",
       "---\n",
       "---\n",
       "---\n",
       "---\n",
       "---\n",
       "---\n",
       "---\n",
       "---\n",
       "---\n",
       "---\n",
       "---\n",
       "---\n"
      ],
      "text/plain": [
       "<IPython.core.display.Markdown object>"
      ]
     },
     "metadata": {},
     "output_type": "display_data"
    },
    {
     "data": {
      "text/markdown": [
       "# I'm a huge nerd and invest too much time understanding open source software and making notebooks."
      ],
      "text/plain": [
       "__main__.caveat"
      ]
     },
     "metadata": {},
     "output_type": "display_data"
    },
    {
     "data": {
      "text/markdown": [
       "---\n",
       "---\n",
       "---\n",
       "---\n",
       "---\n",
       "---\n",
       "---\n",
       "---\n",
       "---\n",
       "---\n",
       "---\n",
       "---\n",
       "---\n",
       "---\n",
       "---\n"
      ],
      "text/plain": [
       "<IPython.core.display.Markdown object>"
      ]
     },
     "metadata": {},
     "output_type": "display_data"
    },
    {
     "data": {
      "text/html": [
       "<div style=\"display: flex; flex-direction: column\"><div style=\"flex: 1\"><h1>Research Blogging</h1>\n",
       "</div><div style=\"flex: 1\"><iframe style=\"height: 400px; width: 100%\" src=\"https://www.theatlantic.com/science/archive/2018/04/the-scientific-paper-is-obsolete/556676/\"></iframe></div><div style=\"flex: 1\"><h4>In research blogging, notebook interfaces are a substrate for analyzing data and recording computational thought.  Recording data and thoughts in a notebook is a modern practice for lab notebooks.</h4>\n",
       "</div><div style=\"flex: 1\"><h2>New practices are needed in journalism.</h2>\n",
       "</div><div style=\"flex: 1\"><iframe style=\"height: 400px; width: 100%\" src=\"http://nytlabs.com/blog/2015/10/20/particles/\"></iframe></div><div style=\"flex: 1\"><h3>Research blogging is frequent habit of composing computational essays</h3>\n",
       "<p>Research blogging improves a modern technologist ability to talk about data and code within complex narratives.</p>\n",
       "</div></div>"
      ],
      "text/plain": [
       "__main__.research_blogging"
      ]
     },
     "metadata": {},
     "output_type": "display_data"
    },
    {
     "data": {
      "text/markdown": [
       "---\n",
       "---\n",
       "---\n",
       "---\n",
       "---\n",
       "---\n",
       "---\n",
       "---\n",
       "---\n",
       "---\n",
       "---\n",
       "---\n",
       "---\n",
       "---\n",
       "---\n"
      ],
      "text/plain": [
       "<IPython.core.display.Markdown object>"
      ]
     },
     "metadata": {},
     "output_type": "display_data"
    },
    {
     "data": {
      "text/html": [
       "<div style=\"display: flex; flex-direction: column\"><div style=\"flex: 1\"><div style=\"display: flex; flex-direction: row\"><div style=\"flex: 1\"><?xml version=\"1.0\" encoding=\"UTF-8\" standalone=\"no\"?><!DOCTYPE svg PUBLIC \"-//W3C//DTD SVG 1.1//EN\" \"http://www.w3.org/Graphics/SVG/1.1/DTD/svg11.dtd\"><!-- Generated by graphviz version 2.38.0 (20140413.2041) --><!-- Title: %3 Pages: 1 --><svg width=\"356pt\" height=\"67pt\" viewBox=\"0.00 0.00 355.58 67.00\" xmlns=\"http://www.w3.org/2000/svg\" xmlns:xlink=\"http://www.w3.org/1999/xlink\"><g id=\"graph0\" class=\"graph\" transform=\"scale(1 1) rotate(0) translate(4 63)\"><title>%3</title><polygon fill=\"white\" stroke=\"none\" points=\"-4,4 -4,-63 351.576,-63 351.576,4 -4,4\"/><!-- readable --><g id=\"node1\" class=\"node\"><title>readable</title><ellipse fill=\"none\" stroke=\"black\" cx=\"40.9464\" cy=\"-18\" rx=\"40.8928\" ry=\"18\"/><text text-anchor=\"middle\" x=\"40.9464\" y=\"-14.3\" font-family=\"Times New Roman,serif\" font-size=\"14.00\">readable</text></g><!-- reproducible --><g id=\"node2\" class=\"node\"><title>reproducible</title><ellipse fill=\"none\" stroke=\"black\" cx=\"174.438\" cy=\"-41\" rx=\"56.59\" ry=\"18\"/><text text-anchor=\"middle\" x=\"174.438\" y=\"-37.3\" font-family=\"Times New Roman,serif\" font-size=\"14.00\">reproducible</text></g><!-- readable&#45;&gt;reproducible --><g id=\"edge1\" class=\"edge\"><title>readable&#45;&gt;reproducible</title><path fill=\"none\" stroke=\"black\" d=\"M79.2748,-24.5294C90.1893,-26.4385 102.398,-28.5739 114.313,-30.6581\"/><polygon fill=\"black\" stroke=\"black\" points=\"113.765,-34.1152 124.218,-32.3907 114.971,-27.2199 113.765,-34.1152\"/></g><!-- reusable --><g id=\"node3\" class=\"node\"><title>reusable</title><ellipse fill=\"none\" stroke=\"black\" cx=\"307.279\" cy=\"-18\" rx=\"40.0939\" ry=\"18\"/><text text-anchor=\"middle\" x=\"307.279\" y=\"-14.3\" font-family=\"Times New Roman,serif\" font-size=\"14.00\">reusable</text></g><!-- reproducible&#45;&gt;reusable --><g id=\"edge2\" class=\"edge\"><title>reproducible&#45;&gt;reusable</title><path fill=\"none\" stroke=\"black\" d=\"M224.53,-32.3702C235.967,-30.3598 248.115,-28.2244 259.451,-26.2317\"/><polygon fill=\"black\" stroke=\"black\" points=\"260.346,-29.6281 269.589,-24.4496 259.134,-22.7338 260.346,-29.6281\"/></g><!-- reusable&#45;&gt;readable --><g id=\"edge3\" class=\"edge\"><title>reusable&#45;&gt;readable</title><path fill=\"none\" stroke=\"black\" d=\"M267.215,-15.5299C255.563,-14.8998 242.76,-14.3126 230.983,-14 180.738,-12.6664 168.138,-12.6778 117.893,-14 109.45,-14.2222 100.484,-14.5831 91.7841,-14.9995\"/><polygon fill=\"black\" stroke=\"black\" points=\"91.5504,-11.5068 81.7406,-15.5089 91.9051,-18.4978 91.5504,-11.5068\"/></g></g></svg>\n",
       "</div></div></div><div style=\"flex: 1\"><h1>Research blogging</h1>\n",
       "<p>In this section we consider two approaches to research blogging.</p>\n",
       "</div><div style=\"flex: 1\"><h1>Materials Informatics Course</h1>\n",
       "<p>A Jeykll based blog</p>\n",
       "</div><div style=\"flex: 1\"><div style=\"display: flex; flex-direction: row\"><div style=\"flex: 1\"><iframe style=\"height: 400px; width: 100%\" src=\"http://materials-informatics-lab.github.io/\"></iframe></div><div style=\"flex: 1\"><p><a href=\"https://www.slideshare.net/tonyfast1/flamel-materials-informatics-course-roundup\"><img src=\"https://image.slidesharecdn.com/flamel-ss-141210102438-conversion-gate02/95/flamel-materials-informatics-course-roundup-1-638.jpg?cb=1418218370\" alt=\"\" /></a></p>\n",
       "</div></div></div><div style=\"flex: 1\"><h1>Deathbeds</h1>\n",
       "<p>A collection of notebooks exploring data and interactive computing in IPython.</p>\n",
       "</div><div style=\"flex: 1\"><div style=\"display: flex; flex-direction: row\"><div style=\"flex: 1\"><iframe style=\"height: 400px; width: 100%\" src=\"http://deathbeds.github.io\"></iframe></div></div></div></div>"
      ],
      "text/plain": [
       "__main__.examples"
      ]
     },
     "metadata": {},
     "output_type": "display_data"
    },
    {
     "data": {
      "text/markdown": [
       "---\n",
       "---\n",
       "---\n",
       "---\n",
       "---\n",
       "---\n",
       "---\n",
       "---\n",
       "---\n",
       "---\n",
       "---\n",
       "---\n",
       "---\n",
       "---\n",
       "---\n"
      ],
      "text/plain": [
       "<IPython.core.display.Markdown object>"
      ]
     },
     "metadata": {},
     "output_type": "display_data"
    },
    {
     "data": {
      "text/html": [
       "<div style=\"display: flex; flex-direction: column\"><div style=\"flex: 1\"><pre><code class=\"language-The\">\n",
       "Beautiful is better than ugly.\n",
       "Explicit is better than implicit.\n",
       "Simple is better than complex.\n",
       "Complex is better than complicated.\n",
       "Flat is better than nested.\n",
       "Sparse is better than dense.\n",
       "Readability counts.\n",
       "Special cases aren't special enough to break the rules.\n",
       "Although practicality beats purity.\n",
       "Errors should never pass silently.\n",
       "Unless explicitly silenced.\n",
       "In the face of ambiguity, refuse the temptation to guess.\n",
       "There should be one-- and preferably only one --obvious way to do it.\n",
       "Although that way may not be obvious at first unless you're Dutch.\n",
       "Now is better than never.\n",
       "Although never is often better than *right* now.\n",
       "If the implementation is hard to explain, it's a bad idea.\n",
       "If the implementation is easy to explain, it may be a good idea.\n",
       "Namespaces are one honking great idea -- let's do more of those!\n",
       "</code></pre>\n",
       "</div><div style=\"flex: 1\"><h2>Readablility Counts</h2>\n",
       "<ul>\n",
       "<li>Research blogging reinforces that <strong>Readability Counts</strong>.</li>\n",
       "<li>Readability is a critical consideration when developing content for cross disciplinary thinking.</li>\n",
       "<li>Readability encourages writing more <strong>Markdown</strong> than code.</li>\n",
       "<li>Research blogging teaches the practice of composing computational essays that are readable and computable.</li>\n",
       "</ul>\n",
       "</div></div>"
      ],
      "text/plain": [
       "__main__.readability"
      ]
     },
     "metadata": {},
     "output_type": "display_data"
    },
    {
     "data": {
      "text/markdown": [
       "---\n",
       "---\n",
       "---\n",
       "---\n",
       "---\n",
       "---\n",
       "---\n",
       "---\n",
       "---\n",
       "---\n",
       "---\n",
       "---\n",
       "---\n",
       "---\n",
       "---\n"
      ],
      "text/plain": [
       "<IPython.core.display.Markdown object>"
      ]
     },
     "metadata": {},
     "output_type": "display_data"
    },
    {
     "data": {
      "text/markdown": [
       "## There isn't a way to test `readability`\n",
       "\n",
       "Programs and readable documents raise errors.  Literate documents must compute, or restart and run \n",
       "all.  nbconvert execute must work.  Bad grammar or syntax will cause a human computer to start reading.\n",
       "\n",
       "```\n",
       "class GrammarException(BaseException): ...\n",
       "class SpellingException(BaseException): ...\n",
       "```\n",
       ">\n",
       " `GrammarException` or `SpellingException` could potentially inform the literate program author.\n",
       "\n",
       " ## `nbconvert` is a basic way to test computablility.\n",
       "\n",
       "```\n",
       "jupyter nbconvert --execute 0.md.ipynb\n",
       "```"
      ],
      "text/plain": [
       "__main__.errors"
      ]
     },
     "metadata": {},
     "output_type": "display_data"
    },
    {
     "data": {
      "text/markdown": [
       "---\n",
       "---\n",
       "---\n",
       "---\n",
       "---\n",
       "---\n",
       "---\n",
       "---\n",
       "---\n",
       "---\n",
       "---\n",
       "---\n",
       "---\n",
       "---\n",
       "---\n"
      ],
      "text/plain": [
       "<IPython.core.display.Markdown object>"
      ]
     },
     "metadata": {},
     "output_type": "display_data"
    },
    {
     "data": {
      "text/html": [
       "<div style=\"display: flex; flex-direction: column\"><div style=\"flex: 1\"><h1>Highlights from <a href=\"http://deathbeds.github.io\">deathbeds</a>.</h1>\n",
       "<h2><a href=\"http://nbviewer.jupyter.org/github/deathbeds/deathbeds.github.io/tree/master/deathbeds/\">Nbviewer</a> ## <a href=\"https://github.com/deathbeds\">Github</a> ## <a href=\"\">Binder</a> some things are usable on binder. ## <a href=\"\">Continuous Integration</a> ## JupyterCon talk</h2>\n",
       "<iframe width=\"894\" height=\"503\" src=\"https://www.youtube.com/embed/QoPMAdooy6g\" frameborder=\"0\" allow=\"accelerometer; autoplay; encrypted-media; gyroscope; picture-in-picture\" allowfullscreen></iframe>\n",
       "</div></div>"
      ],
      "text/plain": [
       "__main__.highlights"
      ]
     },
     "metadata": {},
     "output_type": "display_data"
    },
    {
     "data": {
      "text/markdown": [
       "---\n",
       "---\n",
       "---\n",
       "---\n",
       "---\n",
       "---\n",
       "---\n",
       "---\n",
       "---\n",
       "---\n",
       "---\n",
       "---\n",
       "---\n",
       "---\n",
       "---\n"
      ],
      "text/plain": [
       "<IPython.core.display.Markdown object>"
      ]
     },
     "metadata": {},
     "output_type": "display_data"
    },
    {
     "data": {
      "text/html": [
       "<div style=\"display: flex; flex-direction: column\"><div style=\"flex: 1\"><h2><a href=\"https://deathbeds.github.io/importnb\"><strong>importnb</strong></a> allows notebooks to be reused a python modules.</h2>\n",
       "<p><strong>importnb</strong> is essential to the <code>deathbeds</code> workflow; it makes <strong>notebooks</strong> importable as python modules.</p>\n",
       "</div><div style=\"flex: 1\"><div style=\"display: flex; flex-direction: row\"><div style=\"flex: 1\"><iframe style=\"height: 400px; width: 100%\" src=\"http://nbviewer.jupyter.org/github/deathbeds/deathbeds.github.io/blob/master/deathbeds/2018-07-10-Fuzzy-importing-files-with-weird-characters.ipynb\"></iframe></div><div style=\"flex: 1\"><iframe style=\"height: 400px; width: 100%\" src=\"http://nbviewer.jupyter.org/github/deathbeds/deathbeds.github.io/blob/master/deathbeds/2018-07-08-The-simplest-path-hook-importer-for-a-notebook.ipynb\"></iframe></div></div></div><div style=\"flex: 1\"><div style=\"display: flex; flex-direction: row\"><div style=\"flex: 1\"><iframe style=\"height: 400px; width: 100%\" src=\"http://nbviewer.jupyter.org/github/deathbeds/deathbeds.github.io/blob/master/deathbeds/2018-10-24-String-Template-Ipython-formatter.ipynb\"></iframe></div><div style=\"flex: 1\">None</div></div></div></div>"
      ],
      "text/plain": [
       "__main__.imports"
      ]
     },
     "metadata": {},
     "output_type": "display_data"
    },
    {
     "data": {
      "text/markdown": [
       "---\n",
       "---\n",
       "---\n",
       "---\n",
       "---\n",
       "---\n",
       "---\n",
       "---\n",
       "---\n",
       "---\n",
       "---\n",
       "---\n",
       "---\n",
       "---\n",
       "---\n"
      ],
      "text/plain": [
       "<IPython.core.display.Markdown object>"
      ]
     },
     "metadata": {},
     "output_type": "display_data"
    },
    {
     "data": {
      "text/html": [
       "<div style=\"display: flex; flex-direction: column\"><div style=\"flex: 1\"><p>Jupyter notebooks can be used as tests successful <strong>tests</strong> can validate reproducibility.</p>\n",
       "<blockquote>\n",
       "<p>Restart and Run All or it didn't happen.</p>\n",
       "</blockquote>\n",
       "</div><div style=\"flex: 1\"><div style=\"display: flex; flex-direction: row\"><div style=\"flex: 1\"><iframe style=\"height: 400px; width: 100%\" src=\"http://nbviewer.jupyter.org/github/deathbeds/deathbeds.github.io/blob/master/deathbeds/2018-07-31-Testing-notebooks.ipynb\"></iframe></div><div style=\"flex: 1\"><iframe style=\"height: 400px; width: 100%\" src=\"http://nbviewer.jupyter.org/github/deathbeds/deathbeds.github.io/blob/master/deathbeds/2018-07-15-Pytest-watchmedo.ipynb\"></iframe></div></div></div><div style=\"flex: 1\"><h1>Continuous Integration</h1>\n",
       "<p><a href=\"https://travis-ci.org/deathbeds/deathbeds.github.io\"><img src=\"https://travis-ci.org/deathbeds/deathbeds.github.io.svg?branch=master\" alt=\"Build Status\" /></a></p>\n",
       "</div></div>"
      ],
      "text/plain": [
       "__main__.testing"
      ]
     },
     "metadata": {},
     "output_type": "display_data"
    },
    {
     "data": {
      "text/markdown": [
       "---\n",
       "---\n",
       "---\n",
       "---\n",
       "---\n",
       "---\n",
       "---\n",
       "---\n",
       "---\n",
       "---\n",
       "---\n",
       "---\n",
       "---\n",
       "---\n",
       "---\n"
      ],
      "text/plain": [
       "<IPython.core.display.Markdown object>"
      ]
     },
     "metadata": {},
     "output_type": "display_data"
    },
    {
     "data": {
      "text/html": [
       "<div style=\"display: flex; flex-direction: column\"><div style=\"flex: 1\"><blockquote>\n",
       "<p>So you wanna write a post?</p>\n",
       "</blockquote>\n",
       "</div><div style=\"flex: 1\"><h3>Post Idea</h3>\n",
       "<h4>Take some notebook you have and run <code>nbconvert</code> with <code>--execute</code> to see how many succeed.</h4>\n",
       "</div><div style=\"flex: 1\"><iframe style=\"height: 400px; width: 100%\" src=\"https://nbconvert.readthedocs.io/en/latest/execute_api.html\"></iframe></div></div>"
      ],
      "text/plain": [
       "__main__.suggestion"
      ]
     },
     "metadata": {},
     "output_type": "display_data"
    },
    {
     "data": {
      "text/markdown": [
       "---\n",
       "---\n",
       "---\n",
       "---\n",
       "---\n",
       "---\n",
       "---\n",
       "---\n",
       "---\n",
       "---\n",
       "---\n",
       "---\n",
       "---\n",
       "---\n",
       "---\n"
      ],
      "text/plain": [
       "<IPython.core.display.Markdown object>"
      ]
     },
     "metadata": {},
     "output_type": "display_data"
    },
    {
     "data": {
      "text/html": [
       "<div style=\"display: flex; flex-direction: column\"><div style=\"flex: 1\"><div style=\"display: flex; flex-direction: row\"><div style=\"flex: 1\"><iframe style=\"height: 400px; width: 100%\" src=\"http://nbviewer.jupyter.org/github/deathbeds/deathbeds.github.io/blob/master/deathbeds/2018-08-28-Github-project-statistics-and-visualizations.ipynb\"></iframe></div><div style=\"flex: 1\"><iframe style=\"height: 400px; width: 100%\" src=\"http://nbviewer.jupyter.org/github/deathbeds/deathbeds.github.io/blob/master/deathbeds/2018-07-02-Pandas-Pixels--DataFrames-as-Images.ipynb\"></iframe></div><div style=\"flex: 1\"><iframe style=\"height: 400px; width: 100%\" src=\"http://nbviewer.jupyter.org/github/deathbeds/deathbeds.github.io/blob/master/deathbeds/2018-07-10-Using-math-as-a-grid.ipynb\"></iframe></div></div></div><div style=\"flex: 1\"><div style=\"display: flex; flex-direction: row\"><div style=\"flex: 1\"><iframe style=\"height: 400px; width: 100%\" src=\"http://nbviewer.jupyter.org/github/deathbeds/deathbeds.github.io/blob/master/deathbeds/2018-08-25-Quantifying-distances-between-historical-notebooks.ipynb\"></iframe></div><div style=\"flex: 1\"><iframe style=\"height: 400px; width: 100%\" src=\"http://nbviewer.jupyter.org/github/deathbeds/deathbeds.github.io/blob/master/deathbeds/2018-08-25-Quantifying-distances-between-historical-notebooks.ipynb\"></iframe></div></div></div></div>"
      ],
      "text/plain": [
       "__main__.visuals"
      ]
     },
     "metadata": {},
     "output_type": "display_data"
    },
    {
     "data": {
      "text/markdown": [
       "---\n",
       "---\n",
       "---\n",
       "---\n",
       "---\n",
       "---\n",
       "---\n",
       "---\n",
       "---\n",
       "---\n",
       "---\n",
       "---\n",
       "---\n",
       "---\n",
       "---\n"
      ],
      "text/plain": [
       "<IPython.core.display.Markdown object>"
      ]
     },
     "metadata": {},
     "output_type": "display_data"
    },
    {
     "data": {
      "text/html": [
       "<div style=\"display: flex; flex-direction: column\"><div style=\"flex: 1\"><h2>IPython bug</h2>\n",
       "<p>I like to experiment with different inputs.  That part of the API broke recently with the new IPython 7.0.  It  turned out the new API had a bug, too.  The fix wound up being my first contribution to <code>IPython</code>.</p>\n",
       "</div><div style=\"flex: 1\"><div style=\"display: flex; flex-direction: row\"><div style=\"flex: 1\"><iframe style=\"height: 400px; width: 100%\" src=\"http://nbviewer.jupyter.org/github/deathbeds/deathbeds.github.io/blob/master/deathbeds/2018-10-01-New-IPython-Input-Interface.ipynb\"></iframe></div><div style=\"flex: 1\"><h2><a href=\"https://github.com/ipython/ipython/pull/11356\">My First Contribution to IPython</a></h2>\n",
       "</div></div></div></div>"
      ],
      "text/plain": [
       "__main__.bug"
      ]
     },
     "metadata": {},
     "output_type": "display_data"
    },
    {
     "data": {
      "text/markdown": [
       "---\n",
       "---\n",
       "---\n",
       "---\n",
       "---\n",
       "---\n",
       "---\n",
       "---\n",
       "---\n",
       "---\n",
       "---\n",
       "---\n",
       "---\n",
       "---\n",
       "---\n"
      ],
      "text/plain": [
       "<IPython.core.display.Markdown object>"
      ]
     },
     "metadata": {},
     "output_type": "display_data"
    },
    {
     "data": {
      "text/html": [
       "<div style=\"display: flex; flex-direction: column\"><div style=\"flex: 1\">None</div><div style=\"flex: 1\"><iframe style=\"height: 400px; width: 100%\" src=\"http://nbviewer.jupyter.org/github/jupyterday-atlanta-2016/oriole_jupyterday_atl/blob/master/oriole_talk.ipynb\"></iframe></div></div>"
      ],
      "text/plain": [
       "__main__.best_style"
      ]
     },
     "metadata": {},
     "output_type": "display_data"
    },
    {
     "data": {
      "text/markdown": [
       "---\n",
       "---\n",
       "---\n",
       "---\n",
       "---\n",
       "---\n",
       "---\n",
       "---\n",
       "---\n",
       "---\n",
       "---\n",
       "---\n",
       "---\n",
       "---\n",
       "---\n"
      ],
      "text/plain": [
       "<IPython.core.display.Markdown object>"
      ]
     },
     "metadata": {},
     "output_type": "display_data"
    },
    {
     "data": {
      "text/markdown": [
       "# Open questions\n",
       "\n",
       "* What are best practices for documents containing data plus statements and expressions in code?\n",
       "* What are the style guides for tangling and weaving code into data?\n",
       "* How can researchers future proof their work?"
      ],
      "text/plain": [
       "__main__.questions"
      ]
     },
     "metadata": {},
     "output_type": "display_data"
    },
    {
     "data": {
      "text/markdown": [
       "---\n",
       "---\n",
       "---\n",
       "---\n",
       "---\n",
       "---\n",
       "---\n",
       "---\n",
       "---\n",
       "---\n",
       "---\n",
       "---\n",
       "---\n",
       "---\n",
       "---\n"
      ],
      "text/plain": [
       "<IPython.core.display.Markdown object>"
      ]
     },
     "metadata": {},
     "output_type": "display_data"
    },
    {
     "data": {
      "text/markdown": [
       "# _Notebook-ism_\n",
       "\n",
       "Notebooks and the Jupyter Ecosystem provide reliable tools to create readable, \n",
       "reproducible, and reusable noting from collections of notebooks.  Computational ideas \n",
       "can be tested with continuous integration.\n",
       "\n",
       "* _**Notebook-ism**_ is the daily journaling of notebooks, and doodling with computers.\n",
       "* __Notebook__s are a modern lab notebook where the author records their work as data.\n",
       "* Research blogging using notebooks.\n",
       "* Old ideas can be tested.\n",
       "* Is a way to draw with computers.\n",
       "* Practice composing computational essays and best practices will emerge.\n",
       "* Write notebooks."
      ],
      "text/plain": [
       "__main__.notebookism"
      ]
     },
     "metadata": {},
     "output_type": "display_data"
    },
    {
     "data": {
      "text/markdown": [
       "---\n",
       "---\n",
       "---\n",
       "---\n",
       "---\n",
       "---\n",
       "---\n",
       "---\n",
       "---\n",
       "---\n",
       "---\n",
       "---\n",
       "---\n",
       "---\n",
       "---\n"
      ],
      "text/plain": [
       "<IPython.core.display.Markdown object>"
      ]
     },
     "metadata": {},
     "output_type": "display_data"
    }
   ],
   "source": [
    "    IPython.display.display(\n",
    "        *__import__('itertools').chain(*((IPython.display.Markdown(\"---\\n\"*15), object) for object in (\n",
    "            open_source,\n",
    "            caveat,\n",
    "            research_blogging,\n",
    "            examples,\n",
    "            readability,\n",
    "            errors, \n",
    "            highlights,\n",
    "            imports,\n",
    "            testing,\n",
    "            suggestion,\n",
    "            visuals, \n",
    "            bug, \n",
    "            best_style,\n",
    "            questions,\n",
    "            notebookism,\n",
    "            similarities\n",
    "        ))))"
   ]
  }
 ],
 "metadata": {
  "kernelspec": {
   "display_name": "Python 3",
   "language": "python",
   "name": "python3"
  },
  "language_info": {
   "codemirror_mode": {
    "name": "ipython",
    "version": 3
   },
   "file_extension": ".py",
   "mimetype": "text/x-python",
   "name": "python",
   "nbconvert_exporter": "python",
   "pygments_lexer": "ipython3",
   "version": "3.6.6"
  }
 },
 "nbformat": 4,
 "nbformat_minor": 2
}
