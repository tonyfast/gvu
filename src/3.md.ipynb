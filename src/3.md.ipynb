{
 "cells": [
  {
   "cell_type": "markdown",
   "metadata": {},
   "source": [
    "In this section, we discuss research blogging and the reusable value of computational essays."
   ]
  },
  {
   "cell_type": "code",
   "execution_count": 1,
   "metadata": {},
   "outputs": [
    {
     "data": {
      "text/html": [
       "<style>\n",
       ".jp-mod-presentationMode {\n",
       "    --jp-notebook-padding: 0;\n",
       "}\n",
       ".jp-RenderedHTMLCommon pre code {\n",
       "    opacity: 0.25;\n",
       "}\n",
       ".jp-Placeholder-content .jp-MoreHorizIcon {\n",
       "    background-size: 32px;\n",
       "}\n",
       "</style><style>\n",
       ".jp-mod-presentationMode .jp-SideBar,\n",
       ".jp-mod-presentationMode #jp-top-panel {\n",
       "    opacity: 0.0;\n",
       "    transition: all 0.2s;\n",
       "}\n",
       ".jp-mod-presentationMode .jp-SideBar:hover,\n",
       ".jp-mod-presentationMode #jp-top-panel:hover {\n",
       "    opacity: 0.9;\n",
       "    transition: all 0.2s;\n",
       "}</style><style>\n",
       ".jp-mod-presentationMode.jp-ApplicationShell,\n",
       ".jp-mod-presentationMode .p-TabBar-content{\n",
       "    background-color: var(--jp-layout-color0);\n",
       "}\n",
       "</style><style>\n",
       ".jp-mod-presentationMode .p-DockPanel-widget,\n",
       ".jp-mod-presentationMode #jp-left-stack{\n",
       "    border-color: transparent;\n",
       "}\n",
       ".jp-mod-presentationMode .jp-Toolbar-item,\n",
       ".jp-mod-presentationMode .jp-Toolbar {\n",
       "    opacity: 0.1;\n",
       "    transition: all 0.2s;\n",
       "}\n",
       ".jp-mod-presentationMode .jp-Toolbar-item:hover,\n",
       ".jp-mod-presentationMode .jp-Toolbar:hover {\n",
       "    opacity: 0.9;\n",
       "    transition: all 0.2s;\n",
       "}\n",
       "\n",
       ".jp-mod-presentationMode .jp-InputArea {\n",
       "    flex-direction: column;\n",
       "}\n",
       "\n",
       "</style><style>\n",
       ".jp-mod-presentationMode .jp-Notebook .jp-Cell .jp-InputPrompt, \n",
       ".jp-mod-presentationMode .jp-Notebook .jp-Cell .jp-OutputPrompt {\n",
       "    flex: 0 0 2rem !important;\n",
       "    opacity: 0;\n",
       "}\n",
       ".jp-mod-presentationMode .jp-Notebook .jp-Cell.jp-mod-active .jp-OutputPrompt,\n",
       ".jp-mod-presentationMode .jp-Notebook .jp-Cell.jp-mod-active .jp-OutputPrompt {\n",
       "    opacity: 0.5;\n",
       "}\n",
       ".jp-mod-presentationMode .jp-Notebook .jp-Cell .jp-InputPrompt, \n",
       ".jp-mod-presentationMode .jp-Notebook .jp-Cell .jp-OutputPrompt\n",
       "\n",
       ".jp-mod-presentationMode hr {\n",
       "    opacity: 0.1;\n",
       "}\n",
       "</style>\n",
       "    <style>\n",
       "    .jp-TableOfContents-content h1, \n",
       "    .jp-TableOfContents-content h2 {\n",
       "        margin-bottom: var(--jp-ui-font-size0);\n",
       "    }\n",
       "    </style>\n",
       "    \n",
       "    <style>\n",
       "    .jp-mod-presentationMode {\n",
       "        --jp-content-heading-line-height: 1.25 !important;\n",
       "    }\n",
       "    </style>\n",
       "    \n",
       "    <style>\n",
       "    .jp-mod-presentationMode #jp-main-status-bar {\n",
       "        opacity: 0.06;\n",
       "        transition: all 0.2s;\n",
       "    }\n",
       "    .jp-mod-presentationMode #jp-main-status-bar:hover {\n",
       "        opacity: 0.8;\n",
       "        transition: all 0.2s;\n",
       "    }\n",
       "    </style>\n",
       "    "
      ],
      "text/plain": [
       "<IPython.core.display.HTML object>"
      ]
     },
     "metadata": {},
     "output_type": "display_data"
    }
   ],
   "source": [
    "from . import settings"
   ]
  },
  {
   "cell_type": "code",
   "execution_count": 23,
   "metadata": {},
   "outputs": [
    {
     "data": {
      "text/markdown": [
       "---\n",
       "---\n",
       "---\n",
       "---\n",
       "---\n",
       "---\n",
       "---\n",
       "---\n",
       "---\n",
       "---\n",
       "---\n",
       "---\n",
       "---\n",
       "---\n",
       "---\n",
       "---\n",
       "---\n",
       "---\n",
       "---\n",
       "---\n"
      ],
      "text/plain": [
       "<IPython.core.display.Markdown object>"
      ]
     },
     "metadata": {},
     "output_type": "display_data"
    },
    {
     "data": {
      "text/markdown": [
       "# I'm a huge nerd and invest too much time understanding open source software and making notebooks.\n",
       "\n",
       "## I told you there are a lot of __IFrame__s.\n",
       "\n",
       "Learning to reuse other's content using Iframe embedding influenced how I make my own notebooks to be embeddable."
      ],
      "text/plain": [
       "__main__.preface"
      ]
     },
     "metadata": {},
     "output_type": "display_data"
    },
    {
     "data": {
      "text/markdown": [
       "---\n",
       "---\n",
       "---\n",
       "---\n",
       "---\n",
       "---\n",
       "---\n",
       "---\n",
       "---\n",
       "---\n",
       "---\n",
       "---\n",
       "---\n",
       "---\n",
       "---\n",
       "---\n",
       "---\n",
       "---\n",
       "---\n",
       "---\n"
      ],
      "text/plain": [
       "<IPython.core.display.Markdown object>"
      ]
     },
     "metadata": {},
     "output_type": "display_data"
    },
    {
     "data": {
      "text/html": [
       "<div style=\"display: flex; flex-direction: column\"><div style=\"flex: 1\"><div style=\"display: flex; flex-direction: row\"><div style=\"flex: 1\"><p><a href=\"https://speakerdeck.com/jakevdp/the-state-of-the-stack-scipy-2015-keynote\"><img src=\"http://res.cloudinary.com/dyd911kmh/image/upload/f_auto,q_auto:best/v1509622333/scipy-eco_kqi2su.png\" alt=\"\" /></a></p>\n",
       "</div></div></div><div style=\"flex: 1\"><h1><a href=\"https://numfocus.org/sponsored-projects\">NumFocus sponsored projects</a></h1>\n",
       "<p><img src=\"https://user-images.githubusercontent.com/4236275/47725984-fe21c600-dc2f-11e8-9cf4-1ee1bab44e06.png\" alt=\"image\" /> <img src=\"https://user-images.githubusercontent.com/4236275/47726068-20b3df00-dc30-11e8-9401-96b73f696be2.png\" alt=\"image\" /></p>\n",
       "</div><div style=\"flex: 1\"><h2><code>open_source</code> has become very usable</h2>\n",
       "<h3>With practice, entry level programmers can access powerful data and visualization tools.</h3>\n",
       "<h1>Use <a href=\"http://anaconda.org\">Anaconda</a></h1>\n",
       "</div></div>"
      ],
      "text/plain": [
       "__main__.open_source"
      ]
     },
     "metadata": {},
     "output_type": "display_data"
    },
    {
     "data": {
      "text/markdown": [
       "---\n",
       "---\n",
       "---\n",
       "---\n",
       "---\n",
       "---\n",
       "---\n",
       "---\n",
       "---\n",
       "---\n",
       "---\n",
       "---\n",
       "---\n",
       "---\n",
       "---\n",
       "---\n",
       "---\n",
       "---\n",
       "---\n",
       "---\n"
      ],
      "text/plain": [
       "<IPython.core.display.Markdown object>"
      ]
     },
     "metadata": {},
     "output_type": "display_data"
    },
    {
     "data": {
      "text/html": [
       "<div style=\"display: flex; flex-direction: column\"><div style=\"flex: 1\"><h1>Research Blogging</h1>\n",
       "</div><div style=\"flex: 1\"><iframe style=\"height: 400px; width: 100%\" src=\"https://www.theatlantic.com/science/archive/2018/04/the-scientific-paper-is-obsolete/556676/\"></iframe></div><div style=\"flex: 1\"><h4>In research blogging, notebook interfaces are a substrate for analyzing data and recording computational thought.  Recording data and thoughts in a notebook is a modern practice for lab notebooks.</h4>\n",
       "</div><div style=\"flex: 1\"><h2>New practices are needed in journalism.</h2>\n",
       "</div><div style=\"flex: 1\"><iframe style=\"height: 400px; width: 100%\" src=\"http://nytlabs.com/blog/2015/10/20/particles/\"></iframe></div><div style=\"flex: 1\"><h3>Research blogging is frequent habit of composing computational essays</h3>\n",
       "<p>Research blogging improves a modern technologist ability to talk about data and code within complex narratives.</p>\n",
       "</div></div>"
      ],
      "text/plain": [
       "__main__.research_blogging"
      ]
     },
     "metadata": {},
     "output_type": "display_data"
    },
    {
     "data": {
      "text/markdown": [
       "---\n",
       "---\n",
       "---\n",
       "---\n",
       "---\n",
       "---\n",
       "---\n",
       "---\n",
       "---\n",
       "---\n",
       "---\n",
       "---\n",
       "---\n",
       "---\n",
       "---\n",
       "---\n",
       "---\n",
       "---\n",
       "---\n",
       "---\n"
      ],
      "text/plain": [
       "<IPython.core.display.Markdown object>"
      ]
     },
     "metadata": {},
     "output_type": "display_data"
    },
    {
     "data": {
      "text/html": [
       "<div style=\"display: flex; flex-direction: column\"><div style=\"flex: 1\"><div style=\"display: flex; flex-direction: row\"><div style=\"flex: 1\"><?xml version=\"1.0\" encoding=\"UTF-8\" standalone=\"no\"?><!DOCTYPE svg PUBLIC \"-//W3C//DTD SVG 1.1//EN\" \"http://www.w3.org/Graphics/SVG/1.1/DTD/svg11.dtd\"><!-- Generated by graphviz version 2.38.0 (20140413.2041) --><!-- Title: %3 Pages: 1 --><svg width=\"356pt\" height=\"67pt\" viewBox=\"0.00 0.00 355.58 67.00\" xmlns=\"http://www.w3.org/2000/svg\" xmlns:xlink=\"http://www.w3.org/1999/xlink\"><g id=\"graph0\" class=\"graph\" transform=\"scale(1 1) rotate(0) translate(4 63)\"><title>%3</title><polygon fill=\"white\" stroke=\"none\" points=\"-4,4 -4,-63 351.576,-63 351.576,4 -4,4\"/><!-- readable --><g id=\"node1\" class=\"node\"><title>readable</title><ellipse fill=\"none\" stroke=\"black\" cx=\"40.9464\" cy=\"-18\" rx=\"40.8928\" ry=\"18\"/><text text-anchor=\"middle\" x=\"40.9464\" y=\"-14.3\" font-family=\"Times New Roman,serif\" font-size=\"14.00\">readable</text></g><!-- reproducible --><g id=\"node2\" class=\"node\"><title>reproducible</title><ellipse fill=\"none\" stroke=\"black\" cx=\"174.438\" cy=\"-41\" rx=\"56.59\" ry=\"18\"/><text text-anchor=\"middle\" x=\"174.438\" y=\"-37.3\" font-family=\"Times New Roman,serif\" font-size=\"14.00\">reproducible</text></g><!-- readable&#45;&gt;reproducible --><g id=\"edge1\" class=\"edge\"><title>readable&#45;&gt;reproducible</title><path fill=\"none\" stroke=\"black\" d=\"M79.2748,-24.5294C90.1893,-26.4385 102.398,-28.5739 114.313,-30.6581\"/><polygon fill=\"black\" stroke=\"black\" points=\"113.765,-34.1152 124.218,-32.3907 114.971,-27.2199 113.765,-34.1152\"/></g><!-- reusable --><g id=\"node3\" class=\"node\"><title>reusable</title><ellipse fill=\"none\" stroke=\"black\" cx=\"307.279\" cy=\"-18\" rx=\"40.0939\" ry=\"18\"/><text text-anchor=\"middle\" x=\"307.279\" y=\"-14.3\" font-family=\"Times New Roman,serif\" font-size=\"14.00\">reusable</text></g><!-- reproducible&#45;&gt;reusable --><g id=\"edge2\" class=\"edge\"><title>reproducible&#45;&gt;reusable</title><path fill=\"none\" stroke=\"black\" d=\"M224.53,-32.3702C235.967,-30.3598 248.115,-28.2244 259.451,-26.2317\"/><polygon fill=\"black\" stroke=\"black\" points=\"260.346,-29.6281 269.589,-24.4496 259.134,-22.7338 260.346,-29.6281\"/></g><!-- reusable&#45;&gt;readable --><g id=\"edge3\" class=\"edge\"><title>reusable&#45;&gt;readable</title><path fill=\"none\" stroke=\"black\" d=\"M267.215,-15.5299C255.563,-14.8998 242.76,-14.3126 230.983,-14 180.738,-12.6664 168.138,-12.6778 117.893,-14 109.45,-14.2222 100.484,-14.5831 91.7841,-14.9995\"/><polygon fill=\"black\" stroke=\"black\" points=\"91.5504,-11.5068 81.7406,-15.5089 91.9051,-18.4978 91.5504,-11.5068\"/></g></g></svg>\n",
       "</div></div></div><div style=\"flex: 1\"><h1>Research blogging</h1>\n",
       "<p>In this section we consider two approaches to research blogging.</p>\n",
       "</div><div style=\"flex: 1\"><h1>Materials Informatics Course</h1>\n",
       "<p>The students in the course reporting their collaborative work in micro blogging format.</p>\n",
       "</div><div style=\"flex: 1\"><div style=\"display: flex; flex-direction: row\"><div style=\"flex: 1\"><iframe style=\"height: 400px; width: 100%\" src=\"http://materials-informatics-lab.github.io/\"></iframe></div><div style=\"flex: 1\"><p><a href=\"https://www.slideshare.net/tonyfast1/flamel-materials-informatics-course-roundup\"><img src=\"https://image.slidesharecdn.com/flamel-ss-141210102438-conversion-gate02/95/flamel-materials-informatics-course-roundup-1-638.jpg?cb=1418218370\" alt=\"\" /></a></p>\n",
       "</div></div></div><div style=\"flex: 1\"><div style=\"display: flex; flex-direction: row\"><div style=\"flex: 1\"><iframe style=\"height: 400px; width: 100%\" src=\"https://help.github.com/articles/creating-gists/\"></iframe></div><div style=\"flex: 1\"><iframe style=\"height: 400px; width: 100%\" src=\"https://jekyllrb.com/\"></iframe></div></div></div><div style=\"flex: 1\"><h1>Deathbeds</h1>\n",
       "<p>A collection of notebooks exploring data and interactive computing in IPython.</p>\n",
       "</div><div style=\"flex: 1\"><div style=\"display: flex; flex-direction: row\"><div style=\"flex: 1\"><iframe style=\"height: 400px; width: 100%\" src=\"http://deathbeds.github.io\"></iframe></div></div></div><div style=\"flex: 1\"><div style=\"display: flex; flex-direction: row\"><div style=\"flex: 1\"><p><a href=\"https://github.com/conda-forge\"><img src=\"https://avatars0.githubusercontent.com/u/11897326?s=800&amp;v=4\" alt=\"\" /></a></p>\n",
       "</div><div style=\"flex: 1\"><p><a href=\"https://anaconda.org/\"><img src=\"https://upload.wikimedia.org/wikipedia/en/c/cd/Anaconda_Logo.png\" alt=\"Anaconda\" /></a></p>\n",
       "</div><div style=\"flex: 1\"><p><a href=\"https://jupyter.readthedocs.io/en/latest/architecture/visual_overview.html\"><img src=\"https://jupyter.readthedocs.io/en/latest/_images/repos_map.png\" alt=\"\" /></a></p>\n",
       "</div></div></div></div>"
      ],
      "text/plain": [
       "__main__.examples"
      ]
     },
     "metadata": {},
     "output_type": "display_data"
    },
    {
     "data": {
      "text/markdown": [
       "---\n",
       "---\n",
       "---\n",
       "---\n",
       "---\n",
       "---\n",
       "---\n",
       "---\n",
       "---\n",
       "---\n",
       "---\n",
       "---\n",
       "---\n",
       "---\n",
       "---\n",
       "---\n",
       "---\n",
       "---\n",
       "---\n",
       "---\n"
      ],
      "text/plain": [
       "<IPython.core.display.Markdown object>"
      ]
     },
     "metadata": {},
     "output_type": "display_data"
    },
    {
     "data": {
      "text/html": [
       "<div style=\"display: flex; flex-direction: column\"><div style=\"flex: 1\"><h1>Highlights from <a href=\"http://deathbeds.github.io\">deathbeds</a>.</h1>\n",
       "<h2><a href=\"http://nbviewer.jupyter.org/github/deathbeds/deathbeds.github.io/tree/master/deathbeds/\">Nbviewer</a> ## <a href=\"https://github.com/deathbeds\">Github</a> ## <a href=\"\">Binder</a> some things are usable on binder. ## <a href=\"\">Continuous Integration</a> ## JupyterCon talk</h2>\n",
       "<iframe width=\"894\" height=\"503\" src=\"https://www.youtube.com/embed/QoPMAdooy6g\" frameborder=\"0\" allow=\"accelerometer; autoplay; encrypted-media; gyroscope; picture-in-picture\" allowfullscreen></iframe>\n",
       "</div></div>"
      ],
      "text/plain": [
       "__main__.highlights"
      ]
     },
     "metadata": {},
     "output_type": "display_data"
    },
    {
     "data": {
      "text/markdown": [
       "---\n",
       "---\n",
       "---\n",
       "---\n",
       "---\n",
       "---\n",
       "---\n",
       "---\n",
       "---\n",
       "---\n",
       "---\n",
       "---\n",
       "---\n",
       "---\n",
       "---\n",
       "---\n",
       "---\n",
       "---\n",
       "---\n",
       "---\n"
      ],
      "text/plain": [
       "<IPython.core.display.Markdown object>"
      ]
     },
     "metadata": {},
     "output_type": "display_data"
    },
    {
     "data": {
      "text/html": [
       "<div style=\"display: flex; flex-direction: column\"><div style=\"flex: 1\"><h2><a href=\"https://deathbeds.github.io/importnb\"><strong>importnb</strong></a> allows notebooks to be reused a python modules.</h2>\n",
       "<p><strong>importnb</strong> is essential to the <code>deathbeds</code> workflow; it makes <strong>notebooks</strong> importable as python modules.</p>\n",
       "</div><div style=\"flex: 1\"><div style=\"display: flex; flex-direction: row\"><div style=\"flex: 1\"><iframe style=\"height: 400px; width: 100%\" src=\"http://nbviewer.jupyter.org/github/deathbeds/deathbeds.github.io/blob/master/deathbeds/2018-07-10-Fuzzy-importing-files-with-weird-characters.ipynb\"></iframe></div><div style=\"flex: 1\"><iframe style=\"height: 400px; width: 100%\" src=\"http://nbviewer.jupyter.org/github/deathbeds/deathbeds.github.io/blob/master/deathbeds/2018-07-08-The-simplest-path-hook-importer-for-a-notebook.ipynb\"></iframe></div></div></div><div style=\"flex: 1\"><div style=\"display: flex; flex-direction: row\"><div style=\"flex: 1\"><iframe style=\"height: 400px; width: 100%\" src=\"http://nbviewer.jupyter.org/github/deathbeds/deathbeds.github.io/blob/master/deathbeds/2018-10-24-String-Template-Ipython-formatter.ipynb\"></iframe></div><div style=\"flex: 1\">None</div></div></div></div>"
      ],
      "text/plain": [
       "__main__.imports"
      ]
     },
     "metadata": {},
     "output_type": "display_data"
    },
    {
     "data": {
      "text/markdown": [
       "---\n",
       "---\n",
       "---\n",
       "---\n",
       "---\n",
       "---\n",
       "---\n",
       "---\n",
       "---\n",
       "---\n",
       "---\n",
       "---\n",
       "---\n",
       "---\n",
       "---\n",
       "---\n",
       "---\n",
       "---\n",
       "---\n",
       "---\n"
      ],
      "text/plain": [
       "<IPython.core.display.Markdown object>"
      ]
     },
     "metadata": {},
     "output_type": "display_data"
    },
    {
     "data": {
      "text/html": [
       "<div style=\"display: flex; flex-direction: column\"><div style=\"flex: 1\"><p>Jupyter notebooks can be used as tests successful <strong>tests</strong> can validate reproducibility.</p>\n",
       "<blockquote>\n",
       "<p>Restart and Run All or it didn't happen.</p>\n",
       "</blockquote>\n",
       "</div><div style=\"flex: 1\"><div style=\"display: flex; flex-direction: row\"><div style=\"flex: 1\"><iframe style=\"height: 400px; width: 100%\" src=\"http://nbviewer.jupyter.org/github/deathbeds/deathbeds.github.io/blob/master/deathbeds/2018-07-31-Testing-notebooks.ipynb\"></iframe></div><div style=\"flex: 1\"><iframe style=\"height: 400px; width: 100%\" src=\"http://nbviewer.jupyter.org/github/deathbeds/deathbeds.github.io/blob/master/deathbeds/2018-07-15-Pytest-watchmedo.ipynb\"></iframe></div></div></div><div style=\"flex: 1\"><h1>Continuous Integration</h1>\n",
       "<p><a href=\"https://travis-ci.org/deathbeds/deathbeds.github.io\"><img src=\"https://travis-ci.org/deathbeds/deathbeds.github.io.svg?branch=master\" alt=\"Build Status\" /></a></p>\n",
       "</div></div>"
      ],
      "text/plain": [
       "__main__.testing"
      ]
     },
     "metadata": {},
     "output_type": "display_data"
    },
    {
     "data": {
      "text/markdown": [
       "---\n",
       "---\n",
       "---\n",
       "---\n",
       "---\n",
       "---\n",
       "---\n",
       "---\n",
       "---\n",
       "---\n",
       "---\n",
       "---\n",
       "---\n",
       "---\n",
       "---\n",
       "---\n",
       "---\n",
       "---\n",
       "---\n",
       "---\n"
      ],
      "text/plain": [
       "<IPython.core.display.Markdown object>"
      ]
     },
     "metadata": {},
     "output_type": "display_data"
    },
    {
     "data": {
      "text/html": [
       "<div style=\"display: flex; flex-direction: column\"><div style=\"flex: 1\"><blockquote>\n",
       "<p>So you wanna write a post?</p>\n",
       "</blockquote>\n",
       "</div><div style=\"flex: 1\"><h3>Post Idea</h3>\n",
       "<h4>Take some notebook you have and run <code>nbconvert</code> with <code>--execute</code> to see how many succeed.</h4>\n",
       "</div><div style=\"flex: 1\"><iframe style=\"height: 400px; width: 100%\" src=\"https://nbconvert.readthedocs.io/en/latest/execute_api.html\"></iframe></div></div>"
      ],
      "text/plain": [
       "__main__.suggestion"
      ]
     },
     "metadata": {},
     "output_type": "display_data"
    },
    {
     "data": {
      "text/markdown": [
       "---\n",
       "---\n",
       "---\n",
       "---\n",
       "---\n",
       "---\n",
       "---\n",
       "---\n",
       "---\n",
       "---\n",
       "---\n",
       "---\n",
       "---\n",
       "---\n",
       "---\n",
       "---\n",
       "---\n",
       "---\n",
       "---\n",
       "---\n"
      ],
      "text/plain": [
       "<IPython.core.display.Markdown object>"
      ]
     },
     "metadata": {},
     "output_type": "display_data"
    },
    {
     "data": {
      "text/html": [
       "<div style=\"display: flex; flex-direction: column\"><div style=\"flex: 1\"><div style=\"display: flex; flex-direction: row\"><div style=\"flex: 1\"><iframe style=\"height: 400px; width: 100%\" src=\"http://nbviewer.jupyter.org/github/deathbeds/deathbeds.github.io/blob/master/deathbeds/2018-08-28-Github-project-statistics-and-visualizations.ipynb\"></iframe></div><div style=\"flex: 1\"><iframe style=\"height: 400px; width: 100%\" src=\"http://nbviewer.jupyter.org/github/deathbeds/deathbeds.github.io/blob/master/deathbeds/2018-07-02-Pandas-Pixels--DataFrames-as-Images.ipynb\"></iframe></div><div style=\"flex: 1\"><iframe style=\"height: 400px; width: 100%\" src=\"http://nbviewer.jupyter.org/github/deathbeds/deathbeds.github.io/blob/master/deathbeds/2018-07-10-Using-math-as-a-grid.ipynb\"></iframe></div></div></div><div style=\"flex: 1\"><div style=\"display: flex; flex-direction: row\"><div style=\"flex: 1\"><iframe style=\"height: 400px; width: 100%\" src=\"http://nbviewer.jupyter.org/github/deathbeds/deathbeds.github.io/blob/master/deathbeds/2018-08-25-Quantifying-distances-between-historical-notebooks.ipynb\"></iframe></div><div style=\"flex: 1\"><iframe style=\"height: 400px; width: 100%\" src=\"http://nbviewer.jupyter.org/github/deathbeds/deathbeds.github.io/blob/master/deathbeds/2018-08-25-Quantifying-distances-between-historical-notebooks.ipynb\"></iframe></div></div></div></div>"
      ],
      "text/plain": [
       "__main__.visuals"
      ]
     },
     "metadata": {},
     "output_type": "display_data"
    },
    {
     "data": {
      "text/markdown": [
       "---\n",
       "---\n",
       "---\n",
       "---\n",
       "---\n",
       "---\n",
       "---\n",
       "---\n",
       "---\n",
       "---\n",
       "---\n",
       "---\n",
       "---\n",
       "---\n",
       "---\n",
       "---\n",
       "---\n",
       "---\n",
       "---\n",
       "---\n"
      ],
      "text/plain": [
       "<IPython.core.display.Markdown object>"
      ]
     },
     "metadata": {},
     "output_type": "display_data"
    },
    {
     "data": {
      "text/html": [
       "<div style=\"display: flex; flex-direction: column\"><div style=\"flex: 1\"><h2>IPython bug</h2>\n",
       "<p>I like to experiment with different inputs.  That part of the API broke recently with the new IPython 7.0.  It  turned out the new API had a bug, too.  The fix wound up being my first contribution to <code>IPython</code>.</p>\n",
       "</div><div style=\"flex: 1\"><div style=\"display: flex; flex-direction: row\"><div style=\"flex: 1\"><iframe style=\"height: 400px; width: 100%\" src=\"http://nbviewer.jupyter.org/github/deathbeds/deathbeds.github.io/blob/master/deathbeds/2018-10-01-New-IPython-Input-Interface.ipynb\"></iframe></div><div style=\"flex: 1\"><h2><a href=\"https://github.com/ipython/ipython/pull/11356\">My First Contribution to IPython</a></h2>\n",
       "</div></div></div></div>"
      ],
      "text/plain": [
       "__main__.bug"
      ]
     },
     "metadata": {},
     "output_type": "display_data"
    },
    {
     "data": {
      "text/markdown": [
       "---\n",
       "---\n",
       "---\n",
       "---\n",
       "---\n",
       "---\n",
       "---\n",
       "---\n",
       "---\n",
       "---\n",
       "---\n",
       "---\n",
       "---\n",
       "---\n",
       "---\n",
       "---\n",
       "---\n",
       "---\n",
       "---\n",
       "---\n"
      ],
      "text/plain": [
       "<IPython.core.display.Markdown object>"
      ]
     },
     "metadata": {},
     "output_type": "display_data"
    },
    {
     "data": {
      "text/html": [
       "<div style=\"display: flex; flex-direction: column\"><div style=\"flex: 1\"><pre><code class=\"language-The\">\n",
       "Beautiful is better than ugly.\n",
       "Explicit is better than implicit.\n",
       "Simple is better than complex.\n",
       "Complex is better than complicated.\n",
       "Flat is better than nested.\n",
       "Sparse is better than dense.\n",
       "Readability counts.\n",
       "Special cases aren't special enough to break the rules.\n",
       "Although practicality beats purity.\n",
       "Errors should never pass silently.\n",
       "Unless explicitly silenced.\n",
       "In the face of ambiguity, refuse the temptation to guess.\n",
       "There should be one-- and preferably only one --obvious way to do it.\n",
       "Although that way may not be obvious at first unless you're Dutch.\n",
       "Now is better than never.\n",
       "Although never is often better than *right* now.\n",
       "If the implementation is hard to explain, it's a bad idea.\n",
       "If the implementation is easy to explain, it may be a good idea.\n",
       "Namespaces are one honking great idea -- let's do more of those!\n",
       "</code></pre>\n",
       "</div><div style=\"flex: 1\"><h2>Readablility Counts</h2>\n",
       "<ul>\n",
       "<li>Research blogging reinforces that <strong>Readability Counts</strong>.</li>\n",
       "<li>Readability is a critical consideration when developing content for cross disciplinary thinking.</li>\n",
       "<li>Readability encourages writing more <strong>Markdown</strong> than code.</li>\n",
       "<li>Research blogging teaches the practice of composing computational essays that are readable and computable.</li>\n",
       "</ul>\n",
       "</div><div style=\"flex: 1\"><iframe style=\"height: 400px; width: 100%\" src=\"http://nbviewer.jupyter.org/github/deathbeds/deathbeds.github.io/blob/master/deathbeds/2018-07-03-Custom-IPython-Completer-for-Indented-Code.ipynb\"></iframe></div></div>"
      ],
      "text/plain": [
       "__main__.readability"
      ]
     },
     "metadata": {},
     "output_type": "display_data"
    },
    {
     "data": {
      "text/markdown": [
       "---\n",
       "---\n",
       "---\n",
       "---\n",
       "---\n",
       "---\n",
       "---\n",
       "---\n",
       "---\n",
       "---\n",
       "---\n",
       "---\n",
       "---\n",
       "---\n",
       "---\n",
       "---\n",
       "---\n",
       "---\n",
       "---\n",
       "---\n"
      ],
      "text/plain": [
       "<IPython.core.display.Markdown object>"
      ]
     },
     "metadata": {},
     "output_type": "display_data"
    },
    {
     "data": {
      "text/markdown": [
       "## There isn't a way to test `readability`\n",
       "\n",
       "Programs and readable documents raise errors.  Literate documents must compute, or restart and run \n",
       "all.  nbconvert execute must work.  Bad grammar or syntax will cause a human computer to start reading.\n",
       "\n",
       "```\n",
       "class GrammarException(BaseException): ...\n",
       "class SpellingException(BaseException): ...\n",
       "```\n",
       ">\n",
       " `GrammarException` or `SpellingException` could potentially inform the literate program author.\n",
       "\n",
       " ## `nbconvert` is a basic way to test computablility.\n",
       "\n",
       "```\n",
       "jupyter nbconvert --execute 0.md.ipynb\n",
       "```"
      ],
      "text/plain": [
       "__main__.errors"
      ]
     },
     "metadata": {},
     "output_type": "display_data"
    },
    {
     "data": {
      "text/markdown": [
       "---\n",
       "---\n",
       "---\n",
       "---\n",
       "---\n",
       "---\n",
       "---\n",
       "---\n",
       "---\n",
       "---\n",
       "---\n",
       "---\n",
       "---\n",
       "---\n",
       "---\n",
       "---\n",
       "---\n",
       "---\n",
       "---\n",
       "---\n"
      ],
      "text/plain": [
       "<IPython.core.display.Markdown object>"
      ]
     },
     "metadata": {},
     "output_type": "display_data"
    },
    {
     "data": {
      "text/html": [
       "<div style=\"display: flex; flex-direction: column\"><div style=\"flex: 1\">None</div><div style=\"flex: 1\"><iframe style=\"height: 400px; width: 100%\" src=\"http://nbviewer.jupyter.org/github/jupyterday-atlanta-2016/oriole_jupyterday_atl/blob/master/oriole_talk.ipynb\"></iframe></div></div>"
      ],
      "text/plain": [
       "__main__.best_style"
      ]
     },
     "metadata": {},
     "output_type": "display_data"
    },
    {
     "data": {
      "text/markdown": [
       "---\n",
       "---\n",
       "---\n",
       "---\n",
       "---\n",
       "---\n",
       "---\n",
       "---\n",
       "---\n",
       "---\n",
       "---\n",
       "---\n",
       "---\n",
       "---\n",
       "---\n",
       "---\n",
       "---\n",
       "---\n",
       "---\n",
       "---\n"
      ],
      "text/plain": [
       "<IPython.core.display.Markdown object>"
      ]
     },
     "metadata": {},
     "output_type": "display_data"
    },
    {
     "data": {
      "text/markdown": [
       "# Open questions\n",
       "\n",
       "* What are best practices for documents containing data plus statements and expressions in code?\n",
       "* What are the style guides for tangling and weaving code into data?\n",
       "* How can researchers future proof their work?"
      ],
      "text/plain": [
       "__main__.questions"
      ]
     },
     "metadata": {},
     "output_type": "display_data"
    },
    {
     "data": {
      "text/markdown": [
       "---\n",
       "---\n",
       "---\n",
       "---\n",
       "---\n",
       "---\n",
       "---\n",
       "---\n",
       "---\n",
       "---\n",
       "---\n",
       "---\n",
       "---\n",
       "---\n",
       "---\n",
       "---\n",
       "---\n",
       "---\n",
       "---\n",
       "---\n"
      ],
      "text/plain": [
       "<IPython.core.display.Markdown object>"
      ]
     },
     "metadata": {},
     "output_type": "display_data"
    },
    {
     "data": {
      "text/markdown": [
       "# _Notebook-ism_\n",
       "\n",
       "Notebooks and the Jupyter Ecosystem provide reliable tools to create readable, \n",
       "reproducible, and reusable noting from collections of notebooks.  Computational ideas \n",
       "can be tested with continuous integration.\n",
       "\n",
       "* _**Notebook-ism**_ is the daily journaling of notebooks, and doodling with computers.\n",
       "* __Notebook__s are a modern lab notebook where the author records their work as data.\n",
       "* Research blogging using notebooks.\n",
       "* Old ideas can be tested.\n",
       "* Is a way to draw with computers.\n",
       "* Practice composing computational essays and best practices will emerge.\n",
       "* Write notebooks."
      ],
      "text/plain": [
       "__main__.notebookism"
      ]
     },
     "metadata": {},
     "output_type": "display_data"
    },
    {
     "data": {
      "text/markdown": [
       "---\n",
       "---\n",
       "---\n",
       "---\n",
       "---\n",
       "---\n",
       "---\n",
       "---\n",
       "---\n",
       "---\n",
       "---\n",
       "---\n",
       "---\n",
       "---\n",
       "---\n",
       "---\n",
       "---\n",
       "---\n",
       "---\n",
       "---\n"
      ],
      "text/plain": [
       "<IPython.core.display.Markdown object>"
      ]
     },
     "metadata": {},
     "output_type": "display_data"
    },
    {
     "data": {
      "text/html": [
       "<div style=\"display: flex; flex-direction: column\"><div style=\"flex: 1\"><h1>Project Jupyter and Notebooks are valuable when considered in other arenas</h1>\n",
       "</div><div style=\"flex: 1\"><div style=\"display: flex; flex-direction: row\"><div style=\"flex: 1\"><div style=\"display: flex; flex-direction: column\"><div style=\"flex: 1\"><?xml version=\"1.0\" encoding=\"UTF-8\" standalone=\"no\"?><!DOCTYPE svg PUBLIC \"-//W3C//DTD SVG 1.1//EN\" \"http://www.w3.org/Graphics/SVG/1.1/DTD/svg11.dtd\"><!-- Generated by graphviz version 2.38.0 (20140413.2041) --><!-- Title: %3 Pages: 1 --><svg width=\"270pt\" height=\"76pt\" viewBox=\"0.00 0.00 269.89 76.00\" xmlns=\"http://www.w3.org/2000/svg\" xmlns:xlink=\"http://www.w3.org/1999/xlink\"><g id=\"graph0\" class=\"graph\" transform=\"scale(1 1) rotate(0) translate(4 72)\"><title>%3</title><polygon fill=\"white\" stroke=\"none\" points=\"-4,4 -4,-72 265.888,-72 265.888,4 -4,4\"/><!-- read --><g id=\"node1\" class=\"node\"><title>read</title><ellipse fill=\"none\" stroke=\"black\" cx=\"27\" cy=\"-18\" rx=\"27\" ry=\"18\"/><text text-anchor=\"middle\" x=\"27\" y=\"-14.3\" font-family=\"Times New Roman,serif\" font-size=\"14.00\">read</text></g><!-- evaluate --><g id=\"node2\" class=\"node\"><title>evaluate</title><ellipse fill=\"none\" stroke=\"black\" cx=\"130.646\" cy=\"-50\" rx=\"39.7935\" ry=\"18\"/><text text-anchor=\"middle\" x=\"130.646\" y=\"-46.3\" font-family=\"Times New Roman,serif\" font-size=\"14.00\">evaluate</text></g><!-- read&#45;&gt;evaluate --><g id=\"edge1\" class=\"edge\"><title>read&#45;&gt;evaluate</title><path fill=\"none\" stroke=\"black\" d=\"M51.8316,-25.5026C62.5735,-28.8843 75.5817,-32.9795 87.8623,-36.8457\"/><polygon fill=\"black\" stroke=\"black\" points=\"86.9085,-40.2146 97.498,-39.8791 89.0105,-33.5377 86.9085,-40.2146\"/></g><!-- print --><g id=\"node3\" class=\"node\"><title>print</title><ellipse fill=\"none\" stroke=\"black\" cx=\"234.591\" cy=\"-18\" rx=\"27.0966\" ry=\"18\"/><text text-anchor=\"middle\" x=\"234.591\" y=\"-14.3\" font-family=\"Times New Roman,serif\" font-size=\"14.00\">print</text></g><!-- evaluate&#45;&gt;print --><g id=\"edge2\" class=\"edge\"><title>evaluate&#45;&gt;print</title><path fill=\"none\" stroke=\"black\" d=\"M163.623,-39.9628C175.094,-36.362 188.063,-32.291 199.692,-28.6407\"/><polygon fill=\"black\" stroke=\"black\" points=\"201.002,-31.8979 209.495,-25.5636 198.906,-25.2192 201.002,-31.8979\"/></g><!-- print&#45;&gt;read --><g id=\"edge3\" class=\"edge\"><title>print&#45;&gt;read</title><path fill=\"none\" stroke=\"black\" d=\"M208.136,-13.0461C196.628,-11.0476 182.826,-8.98392 170.293,-8 135.16,-5.24186 126.132,-5.22907 91,-8 81.8557,-8.72123 72.0335,-10.0226 62.9295,-11.4532\"/><polygon fill=\"black\" stroke=\"black\" points=\"62.3207,-8.00625 53.0303,-13.0992 63.469,-14.9114 62.3207,-8.00625\"/><text text-anchor=\"middle\" x=\"130.646\" y=\"-11.8\" font-family=\"Times New Roman,serif\" font-size=\"14.00\">loop</text></g></g></svg>\n",
       "</div><div style=\"flex: 1\"><p><a href=\"https://en.wikipedia.org/wiki/Read%E2%80%93eval%E2%80%93print_loop\">Repl</a></p>\n",
       "</div></div></div><div style=\"flex: 1\"><div style=\"display: flex; flex-direction: column\"><div style=\"flex: 1\"><?xml version=\"1.0\" encoding=\"UTF-8\" standalone=\"no\"?><!DOCTYPE svg PUBLIC \"-//W3C//DTD SVG 1.1//EN\" \"http://www.w3.org/Graphics/SVG/1.1/DTD/svg11.dtd\"><!-- Generated by graphviz version 2.38.0 (20140413.2041) --><!-- Title: %3 Pages: 1 --><svg width=\"332pt\" height=\"76pt\" viewBox=\"0.00 0.00 331.58 76.00\" xmlns=\"http://www.w3.org/2000/svg\" xmlns:xlink=\"http://www.w3.org/1999/xlink\"><g id=\"graph0\" class=\"graph\" transform=\"scale(1 1) rotate(0) translate(4 72)\"><title>%3</title><polygon fill=\"white\" stroke=\"none\" points=\"-4,4 -4,-72 327.578,-72 327.578,4 -4,4\"/><!-- society --><g id=\"node1\" class=\"node\"><title>society</title><ellipse fill=\"none\" stroke=\"black\" cx=\"36.3968\" cy=\"-18\" rx=\"36.2938\" ry=\"18\"/><text text-anchor=\"middle\" x=\"36.3968\" y=\"-14.3\" font-family=\"Times New Roman,serif\" font-size=\"14.00\">society</text></g><!-- science --><g id=\"node2\" class=\"node\"><title>science</title><ellipse fill=\"none\" stroke=\"black\" cx=\"147.49\" cy=\"-50\" rx=\"37.8943\" ry=\"18\"/><text text-anchor=\"middle\" x=\"147.49\" y=\"-46.3\" font-family=\"Times New Roman,serif\" font-size=\"14.00\">science</text></g><!-- society&#45;&gt;science --><g id=\"edge1\" class=\"edge\"><title>society&#45;&gt;science</title><path fill=\"none\" stroke=\"black\" d=\"M68.0757,-26.9989C79.6126,-30.383 92.9239,-34.2876 105.266,-37.9078\"/><polygon fill=\"black\" stroke=\"black\" points=\"104.323,-41.2786 114.904,-40.7349 106.293,-34.5616 104.323,-41.2786\"/></g><!-- technology --><g id=\"node3\" class=\"node\"><title>technology</title><ellipse fill=\"none\" stroke=\"black\" cx=\"272.882\" cy=\"-18\" rx=\"50.8918\" ry=\"18\"/><text text-anchor=\"middle\" x=\"272.882\" y=\"-14.3\" font-family=\"Times New Roman,serif\" font-size=\"14.00\">technology</text></g><!-- science&#45;&gt;technology --><g id=\"edge2\" class=\"edge\"><title>science&#45;&gt;technology</title><path fill=\"none\" stroke=\"black\" d=\"M180.91,-41.5924C193.321,-38.3738 207.79,-34.6216 221.488,-31.0689\"/><polygon fill=\"black\" stroke=\"black\" points=\"222.486,-34.4262 231.287,-28.5279 220.728,-27.6503 222.486,-34.4262\"/></g><!-- technology&#45;&gt;society --><g id=\"edge3\" class=\"edge\"><title>technology&#45;&gt;society</title><path fill=\"none\" stroke=\"black\" d=\"M225.174,-11.6166C212.248,-10.1217 198.195,-8.74776 185.187,-8 151.734,-6.07704 143.223,-5.70216 109.794,-8 100.498,-8.63898 90.5773,-9.73428 81.156,-10.9715\"/><polygon fill=\"black\" stroke=\"black\" points=\"80.6061,-7.51418 71.1817,-12.3549 81.5678,-14.4478 80.6061,-7.51418\"/><text text-anchor=\"middle\" x=\"147.49\" y=\"-11.8\" font-family=\"Times New Roman,serif\" font-size=\"14.00\">loop</text></g></g></svg>\n",
       "</div><div style=\"flex: 1\"><p><a href=\"https://www.ncbi.nlm.nih.gov/pmc/articles/PMC2696102/\">Computational thinking</a></p>\n",
       "</div></div></div><div style=\"flex: 1\"><div style=\"display: flex; flex-direction: column\"><div style=\"flex: 1\"><?xml version=\"1.0\" encoding=\"UTF-8\" standalone=\"no\"?><!DOCTYPE svg PUBLIC \"-//W3C//DTD SVG 1.1//EN\" \"http://www.w3.org/Graphics/SVG/1.1/DTD/svg11.dtd\"><!-- Generated by graphviz version 2.38.0 (20140413.2041) --><!-- Title: %3 Pages: 1 --><svg width=\"374pt\" height=\"76pt\" viewBox=\"0.00 0.00 374.47 76.00\" xmlns=\"http://www.w3.org/2000/svg\" xmlns:xlink=\"http://www.w3.org/1999/xlink\"><g id=\"graph0\" class=\"graph\" transform=\"scale(1 1) rotate(0) translate(4 72)\"><title>%3</title><polygon fill=\"white\" stroke=\"none\" points=\"-4,4 -4,-72 370.474,-72 370.474,4 -4,4\"/><!-- textual --><g id=\"node1\" class=\"node\"><title>textual</title><ellipse fill=\"none\" stroke=\"black\" cx=\"34.4469\" cy=\"-18\" rx=\"34.394\" ry=\"18\"/><text text-anchor=\"middle\" x=\"34.4469\" y=\"-14.3\" font-family=\"Times New Roman,serif\" font-size=\"14.00\">textual</text></g><!-- computational --><g id=\"node2\" class=\"node\"><title>computational</title><ellipse fill=\"none\" stroke=\"black\" cx=\"167.638\" cy=\"-50\" rx=\"61.99\" ry=\"18\"/><text text-anchor=\"middle\" x=\"167.638\" y=\"-46.3\" font-family=\"Times New Roman,serif\" font-size=\"14.00\">computational</text></g><!-- textual&#45;&gt;computational --><g id=\"edge1\" class=\"edge\"><title>textual&#45;&gt;computational</title><path fill=\"none\" stroke=\"black\" d=\"M65.8747,-25.4219C78.9762,-28.6176 94.7352,-32.4615 109.858,-36.1501\"/><polygon fill=\"black\" stroke=\"black\" points=\"109.124,-39.5738 119.669,-38.5433 110.783,-32.7732 109.124,-39.5738\"/></g><!-- procedural --><g id=\"node3\" class=\"node\"><title>procedural</title><ellipse fill=\"none\" stroke=\"black\" cx=\"316.428\" cy=\"-18\" rx=\"50.0912\" ry=\"18\"/><text text-anchor=\"middle\" x=\"316.428\" y=\"-14.3\" font-family=\"Times New Roman,serif\" font-size=\"14.00\">procedural</text></g><!-- computational&#45;&gt;procedural --><g id=\"edge2\" class=\"edge\"><title>computational&#45;&gt;procedural</title><path fill=\"none\" stroke=\"black\" d=\"M217.517,-39.3445C232.154,-36.1536 248.261,-32.6424 263.11,-29.4054\"/><polygon fill=\"black\" stroke=\"black\" points=\"264.13,-32.7652 273.155,-27.2155 262.639,-25.9258 264.13,-32.7652\"/></g><!-- procedural&#45;&gt;textual --><g id=\"edge3\" class=\"edge\"><title>procedural&#45;&gt;textual</title><path fill=\"none\" stroke=\"black\" d=\"M269.519,-11.6688C256.567,-10.1537 242.445,-8.75647 229.383,-8 174.591,-4.82677 160.642,-4.13364 105.894,-8 96.5732,-8.65824 86.6103,-9.80053 77.1984,-11.0834\"/><polygon fill=\"black\" stroke=\"black\" points=\"76.6574,-7.62506 67.2581,-12.5143 77.6548,-14.5536 76.6574,-7.62506\"/><text text-anchor=\"middle\" x=\"167.638\" y=\"-11.8\" font-family=\"Times New Roman,serif\" font-size=\"14.00\">loop</text></g></g></svg>\n",
       "</div><div style=\"flex: 1\"><p><a href=\"http://licsjournal.org/OJS/index.php/LiCS/article/view/24\">Literacy</a></p>\n",
       "</div></div></div></div></div><div style=\"flex: 1\"><div style=\"display: flex; flex-direction: row\"><div style=\"flex: 1\"><div style=\"display: flex; flex-direction: column\"><div style=\"flex: 1\"><?xml version=\"1.0\" encoding=\"UTF-8\" standalone=\"no\"?><!DOCTYPE svg PUBLIC \"-//W3C//DTD SVG 1.1//EN\" \"http://www.w3.org/Graphics/SVG/1.1/DTD/svg11.dtd\"><!-- Generated by graphviz version 2.38.0 (20140413.2041) --><!-- Title: %3 Pages: 1 --><svg width=\"262pt\" height=\"76pt\" viewBox=\"0.00 0.00 262.09 76.00\" xmlns=\"http://www.w3.org/2000/svg\" xmlns:xlink=\"http://www.w3.org/1999/xlink\"><g id=\"graph0\" class=\"graph\" transform=\"scale(1 1) rotate(0) translate(4 72)\"><title>%3</title><polygon fill=\"white\" stroke=\"none\" points=\"-4,4 -4,-72 258.089,-72 258.089,4 -4,4\"/><!-- text --><g id=\"node1\" class=\"node\"><title>text</title><ellipse fill=\"none\" stroke=\"black\" cx=\"27\" cy=\"-18\" rx=\"27\" ry=\"18\"/><text text-anchor=\"middle\" x=\"27\" y=\"-14.3\" font-family=\"Times New Roman,serif\" font-size=\"14.00\">text</text></g><!-- input --><g id=\"node2\" class=\"node\"><title>input</title><ellipse fill=\"none\" stroke=\"black\" cx=\"119.597\" cy=\"-50\" rx=\"28.6953\" ry=\"18\"/><text text-anchor=\"middle\" x=\"119.597\" y=\"-46.3\" font-family=\"Times New Roman,serif\" font-size=\"14.00\">input</text></g><!-- text&#45;&gt;input --><g id=\"edge1\" class=\"edge\"><title>text&#45;&gt;input</title><path fill=\"none\" stroke=\"black\" d=\"M51.3311,-26.2408C61.5497,-29.8501 73.7363,-34.1545 84.9116,-38.1018\"/><polygon fill=\"black\" stroke=\"black\" points=\"83.8023,-41.4218 94.3971,-41.4522 86.1337,-34.8215 83.8023,-41.4218\"/></g><!-- output --><g id=\"node3\" class=\"node\"><title>output</title><ellipse fill=\"none\" stroke=\"black\" cx=\"219.642\" cy=\"-18\" rx=\"34.394\" ry=\"18\"/><text text-anchor=\"middle\" x=\"219.642\" y=\"-14.3\" font-family=\"Times New Roman,serif\" font-size=\"14.00\">output</text></g><!-- input&#45;&gt;output --><g id=\"edge2\" class=\"edge\"><title>input&#45;&gt;output</title><path fill=\"none\" stroke=\"black\" d=\"M145.338,-41.925C155.975,-38.4535 168.652,-34.3159 180.448,-30.4658\"/><polygon fill=\"black\" stroke=\"black\" points=\"181.665,-33.7503 190.086,-27.3202 179.493,-27.0958 181.665,-33.7503\"/></g><!-- output&#45;&gt;text --><g id=\"edge3\" class=\"edge\"><title>output&#45;&gt;text</title><path fill=\"none\" stroke=\"black\" d=\"M186.831,-12.5143C174.77,-10.6902 160.887,-8.89632 148.195,-8 122.838,-6.20927 116.341,-6.0013 91,-8 81.8557,-8.72123 72.0335,-10.0226 62.9295,-11.4532\"/><polygon fill=\"black\" stroke=\"black\" points=\"62.3207,-8.00625 53.0303,-13.0992 63.469,-14.9114 62.3207,-8.00625\"/><text text-anchor=\"middle\" x=\"119.597\" y=\"-11.8\" font-family=\"Times New Roman,serif\" font-size=\"14.00\">loop</text></g></g></svg>\n",
       "</div><div style=\"flex: 1\"><p><a href=\"http://blog.stephenwolfram.com/2017/11/what-is-a-computational-essay/\">Computational Essays</a></p>\n",
       "</div></div></div><div style=\"flex: 1\"><div style=\"display: flex; flex-direction: column\"><div style=\"flex: 1\"><?xml version=\"1.0\" encoding=\"UTF-8\" standalone=\"no\"?><!DOCTYPE svg PUBLIC \"-//W3C//DTD SVG 1.1//EN\" \"http://www.w3.org/Graphics/SVG/1.1/DTD/svg11.dtd\"><!-- Generated by graphviz version 2.38.0 (20140413.2041) --><!-- Title: %3 Pages: 1 --><svg width=\"310pt\" height=\"76pt\" viewBox=\"0.00 0.00 310.18 76.00\" xmlns=\"http://www.w3.org/2000/svg\" xmlns:xlink=\"http://www.w3.org/1999/xlink\"><g id=\"graph0\" class=\"graph\" transform=\"scale(1 1) rotate(0) translate(4 72)\"><title>%3</title><polygon fill=\"white\" stroke=\"none\" points=\"-4,4 -4,-72 306.185,-72 306.185,4 -4,4\"/><!-- science --><g id=\"node1\" class=\"node\"><title>science</title><ellipse fill=\"none\" stroke=\"black\" cx=\"37.6967\" cy=\"-18\" rx=\"37.8943\" ry=\"18\"/><text text-anchor=\"middle\" x=\"37.6967\" y=\"-14.3\" font-family=\"Times New Roman,serif\" font-size=\"14.00\">science</text></g><!-- computing --><g id=\"node2\" class=\"node\"><title>computing</title><ellipse fill=\"none\" stroke=\"black\" cx=\"161.789\" cy=\"-50\" rx=\"49.2915\" ry=\"18\"/><text text-anchor=\"middle\" x=\"161.789\" y=\"-46.3\" font-family=\"Times New Roman,serif\" font-size=\"14.00\">computing</text></g><!-- science&#45;&gt;computing --><g id=\"edge1\" class=\"edge\"><title>science&#45;&gt;computing</title><path fill=\"none\" stroke=\"black\" d=\"M71.0946,-26.4914C83.4873,-29.7395 97.9172,-33.5215 111.533,-37.0903\"/><polygon fill=\"black\" stroke=\"black\" points=\"110.703,-40.4908 121.264,-39.6406 112.478,-33.7195 110.703,-40.4908\"/></g><!-- data --><g id=\"node3\" class=\"node\"><title>data</title><ellipse fill=\"none\" stroke=\"black\" cx=\"275.185\" cy=\"-18\" rx=\"27\" ry=\"18\"/><text text-anchor=\"middle\" x=\"275.185\" y=\"-14.3\" font-family=\"Times New Roman,serif\" font-size=\"14.00\">data</text></g><!-- computing&#45;&gt;data --><g id=\"edge2\" class=\"edge\"><title>computing&#45;&gt;data</title><path fill=\"none\" stroke=\"black\" d=\"M201.125,-38.9874C213.81,-35.3434 227.831,-31.3158 240.169,-27.7715\"/><polygon fill=\"black\" stroke=\"black\" points=\"241.426,-31.0519 250.071,-24.9269 239.494,-24.324 241.426,-31.0519\"/></g><!-- data&#45;&gt;science --><g id=\"edge3\" class=\"edge\"><title>data&#45;&gt;science</title><path fill=\"none\" stroke=\"black\" d=\"M249.154,-13.0992C237.64,-11.0843 223.77,-8.99266 211.185,-8 167.413,-4.5477 156.201,-5.04141 112.393,-8 103.027,-8.63254 93.0373,-9.71234 83.5329,-10.9343\"/><polygon fill=\"black\" stroke=\"black\" points=\"82.901,-7.48795 73.4629,-12.3017 83.843,-14.4243 82.901,-7.48795\"/><text text-anchor=\"middle\" x=\"161.789\" y=\"-11.8\" font-family=\"Times New Roman,serif\" font-size=\"14.00\">loop</text></g></g></svg>\n",
       "</div><div style=\"flex: 1\"><p><a href=\"http://blog.fperez.org/2013/04/literate-computing-and-computational.html\">Literate Computing</a></p>\n",
       "</div></div></div><div style=\"flex: 1\"><div style=\"display: flex; flex-direction: column\"><div style=\"flex: 1\"><?xml version=\"1.0\" encoding=\"UTF-8\" standalone=\"no\"?><!DOCTYPE svg PUBLIC \"-//W3C//DTD SVG 1.1//EN\" \"http://www.w3.org/Graphics/SVG/1.1/DTD/svg11.dtd\"><!-- Generated by graphviz version 2.38.0 (20140413.2041) --><!-- Title: %3 Pages: 1 --><svg width=\"400pt\" height=\"76pt\" viewBox=\"0.00 0.00 400.47 76.00\" xmlns=\"http://www.w3.org/2000/svg\" xmlns:xlink=\"http://www.w3.org/1999/xlink\"><g id=\"graph0\" class=\"graph\" transform=\"scale(1 1) rotate(0) translate(4 72)\"><title>%3</title><polygon fill=\"white\" stroke=\"none\" points=\"-4,4 -4,-72 396.472,-72 396.472,4 -4,4\"/><!-- readability --><g id=\"node1\" class=\"node\"><title>readability</title><ellipse fill=\"none\" stroke=\"black\" cx=\"48.0957\" cy=\"-18\" rx=\"48.1917\" ry=\"18\"/><text text-anchor=\"middle\" x=\"48.0957\" y=\"-14.3\" font-family=\"Times New Roman,serif\" font-size=\"14.00\">readability</text></g><!-- reproducibility --><g id=\"node2\" class=\"node\"><title>reproducibility</title><ellipse fill=\"none\" stroke=\"black\" cx=\"196.886\" cy=\"-50\" rx=\"63.8893\" ry=\"18\"/><text text-anchor=\"middle\" x=\"196.886\" y=\"-46.3\" font-family=\"Times New Roman,serif\" font-size=\"14.00\">reproducibility</text></g><!-- readability&#45;&gt;reproducibility --><g id=\"edge1\" class=\"edge\"><title>readability&#45;&gt;reproducibility</title><path fill=\"none\" stroke=\"black\" d=\"M89.985,-26.9138C104.251,-30.0237 120.57,-33.5812 136.054,-36.9568\"/><polygon fill=\"black\" stroke=\"black\" points=\"135.563,-40.4318 146.079,-39.1422 137.054,-33.5925 135.563,-40.4318\"/></g><!-- reusability --><g id=\"node3\" class=\"node\"><title>reusability</title><ellipse fill=\"none\" stroke=\"black\" cx=\"345.026\" cy=\"-18\" rx=\"47.3916\" ry=\"18\"/><text text-anchor=\"middle\" x=\"345.026\" y=\"-14.3\" font-family=\"Times New Roman,serif\" font-size=\"14.00\">reusability</text></g><!-- reproducibility&#45;&gt;reusability --><g id=\"edge2\" class=\"edge\"><title>reproducibility&#45;&gt;reusability</title><path fill=\"none\" stroke=\"black\" d=\"M247.77,-39.0769C262.55,-35.8405 278.743,-32.2949 293.56,-29.0505\"/><polygon fill=\"black\" stroke=\"black\" points=\"294.543,-32.4181 303.563,-26.86 293.046,-25.5801 294.543,-32.4181\"/></g><!-- reusability&#45;&gt;readability --><g id=\"edge3\" class=\"edge\"><title>reusability&#45;&gt;readability</title><path fill=\"none\" stroke=\"black\" d=\"M300.373,-11.7736C287.578,-10.2184 273.543,-8.77395 260.58,-8 204.064,-4.62565 189.71,-4.65145 133.191,-8 123.605,-8.56794 113.437,-9.49699 103.607,-10.5659\"/><polygon fill=\"black\" stroke=\"black\" points=\"103.061,-7.10548 93.5248,-11.7212 103.858,-14.06 103.061,-7.10548\"/><text text-anchor=\"middle\" x=\"196.886\" y=\"-11.8\" font-family=\"Times New Roman,serif\" font-size=\"14.00\">loop</text></g></g></svg>\n",
       "</div><div style=\"flex: 1\"><p><a href=\"http://gael-varoquaux.info/programming/of-software-and-science-reproducible-science-what-why-and-how.html\">Replicability</a></p>\n",
       "</div></div></div></div></div></div>"
      ],
      "text/plain": [
       "__main__.similarities"
      ]
     },
     "metadata": {},
     "output_type": "display_data"
    }
   ],
   "source": [
    "    __import__(__name__)"
   ]
  },
  {
   "cell_type": "code",
   "execution_count": 3,
   "metadata": {},
   "outputs": [],
   "source": [
    "    import IPython"
   ]
  },
  {
   "cell_type": "code",
   "execution_count": 4,
   "metadata": {},
   "outputs": [],
   "source": [
    "    \n",
    "    class preface:\n",
    "# I'm a huge nerd and invest too much time understanding open source software and making notebooks.\n",
    "\n",
    "## I told you there are a lot of __IFrame__s.\n",
    "\n",
    "Learning to reuse other's content using Iframe embedding influenced how I make my own notebooks to be embeddable."
   ]
  },
  {
   "cell_type": "code",
   "execution_count": 5,
   "metadata": {},
   "outputs": [],
   "source": [
    "    \n",
    "    class open_source:\n",
    "---\n",
    "- \"[![](http://res.cloudinary.com/dyd911kmh/image/upload/f_auto,q_auto:best/v1509622333/scipy-eco_kqi2su.png)](https://speakerdeck.com/jakevdp/the-state-of-the-stack-scipy-2015-keynote)\"\n",
    "---\n",
    "> \n",
    " # [NumFocus sponsored projects](https://numfocus.org/sponsored-projects)\n",
    " \n",
    " ![image](https://user-images.githubusercontent.com/4236275/47725984-fe21c600-dc2f-11e8-9cf4-1ee1bab44e06.png)\n",
    " ![image](https://user-images.githubusercontent.com/4236275/47726068-20b3df00-dc30-11e8-9401-96b73f696be2.png)\n",
    "---\n",
    "> \n",
    " ## `open_source` has become very usable\n",
    "\n",
    " ### With practice, entry level programmers can access powerful data and visualization tools.\n",
    "\n",
    " # Use [Anaconda](http://anaconda.org)\n",
    "\n",
    "    open_source;"
   ]
  },
  {
   "cell_type": "code",
   "execution_count": 6,
   "metadata": {},
   "outputs": [],
   "source": [
    "    \n",
    "    class research_blogging:\n",
    "---\n",
    "\"# Research Blogging\"\n",
    "---\n",
    "https://www.theatlantic.com/science/archive/2018/04/the-scientific-paper-is-obsolete/556676/\n",
    "---\n",
    "\"#### In research blogging, notebook interfaces are a substrate for analyzing data and recording computational thought.  Recording \n",
    "data and thoughts in a notebook is a modern practice for lab notebooks.\n",
    "\"---\n",
    "\"## New practices are needed in journalism.\"\n",
    "---\n",
    "http://nytlabs.com/blog/2015/10/20/particles/\n",
    "---\n",
    "\"### Research blogging is frequent habit of composing computational essays\n",
    "\n",
    "Research blogging improves a modern technologist ability to talk about data and code within complex narratives.\""
   ]
  },
  {
   "cell_type": "code",
   "execution_count": 7,
   "metadata": {},
   "outputs": [
    {
     "data": {
      "text/html": [
       "<div style=\"display: flex; flex-direction: column\"><div style=\"flex: 1\"><div style=\"display: flex; flex-direction: row\"><div style=\"flex: 1\"><?xml version=\"1.0\" encoding=\"UTF-8\" standalone=\"no\"?><!DOCTYPE svg PUBLIC \"-//W3C//DTD SVG 1.1//EN\" \"http://www.w3.org/Graphics/SVG/1.1/DTD/svg11.dtd\"><!-- Generated by graphviz version 2.38.0 (20140413.2041) --><!-- Title: %3 Pages: 1 --><svg width=\"356pt\" height=\"67pt\" viewBox=\"0.00 0.00 355.58 67.00\" xmlns=\"http://www.w3.org/2000/svg\" xmlns:xlink=\"http://www.w3.org/1999/xlink\"><g id=\"graph0\" class=\"graph\" transform=\"scale(1 1) rotate(0) translate(4 63)\"><title>%3</title><polygon fill=\"white\" stroke=\"none\" points=\"-4,4 -4,-63 351.576,-63 351.576,4 -4,4\"/><!-- readable --><g id=\"node1\" class=\"node\"><title>readable</title><ellipse fill=\"none\" stroke=\"black\" cx=\"40.9464\" cy=\"-18\" rx=\"40.8928\" ry=\"18\"/><text text-anchor=\"middle\" x=\"40.9464\" y=\"-14.3\" font-family=\"Times New Roman,serif\" font-size=\"14.00\">readable</text></g><!-- reproducible --><g id=\"node2\" class=\"node\"><title>reproducible</title><ellipse fill=\"none\" stroke=\"black\" cx=\"174.438\" cy=\"-41\" rx=\"56.59\" ry=\"18\"/><text text-anchor=\"middle\" x=\"174.438\" y=\"-37.3\" font-family=\"Times New Roman,serif\" font-size=\"14.00\">reproducible</text></g><!-- readable&#45;&gt;reproducible --><g id=\"edge1\" class=\"edge\"><title>readable&#45;&gt;reproducible</title><path fill=\"none\" stroke=\"black\" d=\"M79.2748,-24.5294C90.1893,-26.4385 102.398,-28.5739 114.313,-30.6581\"/><polygon fill=\"black\" stroke=\"black\" points=\"113.765,-34.1152 124.218,-32.3907 114.971,-27.2199 113.765,-34.1152\"/></g><!-- reusable --><g id=\"node3\" class=\"node\"><title>reusable</title><ellipse fill=\"none\" stroke=\"black\" cx=\"307.279\" cy=\"-18\" rx=\"40.0939\" ry=\"18\"/><text text-anchor=\"middle\" x=\"307.279\" y=\"-14.3\" font-family=\"Times New Roman,serif\" font-size=\"14.00\">reusable</text></g><!-- reproducible&#45;&gt;reusable --><g id=\"edge2\" class=\"edge\"><title>reproducible&#45;&gt;reusable</title><path fill=\"none\" stroke=\"black\" d=\"M224.53,-32.3702C235.967,-30.3598 248.115,-28.2244 259.451,-26.2317\"/><polygon fill=\"black\" stroke=\"black\" points=\"260.346,-29.6281 269.589,-24.4496 259.134,-22.7338 260.346,-29.6281\"/></g><!-- reusable&#45;&gt;readable --><g id=\"edge3\" class=\"edge\"><title>reusable&#45;&gt;readable</title><path fill=\"none\" stroke=\"black\" d=\"M267.215,-15.5299C255.563,-14.8998 242.76,-14.3126 230.983,-14 180.738,-12.6664 168.138,-12.6778 117.893,-14 109.45,-14.2222 100.484,-14.5831 91.7841,-14.9995\"/><polygon fill=\"black\" stroke=\"black\" points=\"91.5504,-11.5068 81.7406,-15.5089 91.9051,-18.4978 91.5504,-11.5068\"/></g></g></svg>\n",
       "</div></div></div><div style=\"flex: 1\"><h1>Research blogging</h1>\n",
       "<p>In this section we consider two approaches to research blogging.</p>\n",
       "</div><div style=\"flex: 1\"><h1>Materials Informatics Course</h1>\n",
       "<p>The students in the course reporting their collaborative work in micro blogging format.</p>\n",
       "</div><div style=\"flex: 1\"><div style=\"display: flex; flex-direction: row\"><div style=\"flex: 1\"><iframe style=\"height: 400px; width: 100%\" src=\"http://materials-informatics-lab.github.io/\"></iframe></div><div style=\"flex: 1\"><p><a href=\"https://www.slideshare.net/tonyfast1/flamel-materials-informatics-course-roundup\"><img src=\"https://image.slidesharecdn.com/flamel-ss-141210102438-conversion-gate02/95/flamel-materials-informatics-course-roundup-1-638.jpg?cb=1418218370\" alt=\"\" /></a></p>\n",
       "</div></div></div><div style=\"flex: 1\"><div style=\"display: flex; flex-direction: row\"><div style=\"flex: 1\"><iframe style=\"height: 400px; width: 100%\" src=\"https://help.github.com/articles/creating-gists/\"></iframe></div><div style=\"flex: 1\"><iframe style=\"height: 400px; width: 100%\" src=\"https://jekyllrb.com/\"></iframe></div></div></div><div style=\"flex: 1\"><h1>Deathbeds</h1>\n",
       "<p>A collection of notebooks exploring data and interactive computing in IPython.</p>\n",
       "</div><div style=\"flex: 1\"><div style=\"display: flex; flex-direction: row\"><div style=\"flex: 1\"><iframe style=\"height: 400px; width: 100%\" src=\"http://deathbeds.github.io\"></iframe></div></div></div><div style=\"flex: 1\"><div style=\"display: flex; flex-direction: row\"><div style=\"flex: 1\"><p><a href=\"https://github.com/conda-forge\"><img src=\"https://avatars0.githubusercontent.com/u/11897326?s=800&amp;v=4\" alt=\"\" /></a></p>\n",
       "</div><div style=\"flex: 1\"><p><a href=\"https://anaconda.org/\"><img src=\"https://upload.wikimedia.org/wikipedia/en/c/cd/Anaconda_Logo.png\" alt=\"Anaconda\" /></a></p>\n",
       "</div><div style=\"flex: 1\"><p><a href=\"https://jupyter.readthedocs.io/en/latest/architecture/visual_overview.html\"><img src=\"https://jupyter.readthedocs.io/en/latest/_images/repos_map.png\" alt=\"\" /></a></p>\n",
       "</div></div></div></div>"
      ],
      "text/plain": [
       "__main__.examples"
      ]
     },
     "execution_count": 7,
     "metadata": {},
     "output_type": "execute_result"
    }
   ],
   "source": [
    "    \n",
    "    class examples:\n",
    "---\n",
    "- digraph { rankdir=LR readable->reproducible->reusable->readable}\n",
    "---\n",
    "\"# Research blogging\n",
    "\n",
    "In this section we consider two approaches to research blogging.\"\n",
    "---\n",
    "\"# Materials Informatics Course\n",
    "\n",
    "The students in the course reporting their collaborative work in micro blogging format.\"\n",
    "---\n",
    "- http://materials-informatics-lab.github.io/\n",
    "- \"[![](https://image.slidesharecdn.com/flamel-ss-141210102438-conversion-gate02/95/flamel-materials-informatics-course-roundup-1-638.jpg?cb=1418218370)](https://www.slideshare.net/tonyfast1/flamel-materials-informatics-course-roundup)\"\n",
    "---\n",
    "- https://help.github.com/articles/creating-gists/\n",
    "- https://jekyllrb.com/\n",
    "---\n",
    "\"# Deathbeds\n",
    "\n",
    "A collection of notebooks exploring data and interactive computing in IPython.\"\n",
    "---\n",
    "- http://deathbeds.github.io\n",
    "---\n",
    "- \"[![](https://avatars0.githubusercontent.com/u/11897326?s=800&v=4)](https://github.com/conda-forge)\"\n",
    "- \"[![Anaconda](https://upload.wikimedia.org/wikipedia/en/c/cd/Anaconda_Logo.png)](https://anaconda.org/)\"\n",
    "- \"[![](https://jupyter.readthedocs.io/en/latest/_images/repos_map.png)](https://jupyter.readthedocs.io/en/latest/architecture/visual_overview.html)\"\n",
    "---\n",
    "\n",
    "    examples"
   ]
  },
  {
   "cell_type": "code",
   "execution_count": 8,
   "metadata": {},
   "outputs": [],
   "source": [
    "    \n",
    "    class highlights:\n",
    "---\n",
    ">\n",
    " # Highlights from [deathbeds](http://deathbeds.github.io).\n",
    "\n",
    " ## [Nbviewer](http://nbviewer.jupyter.org/github/deathbeds/deathbeds.github.io/tree/master/deathbeds/)\n",
    " ## [Github](https://github.com/deathbeds)\n",
    " ## [Binder]() some things are usable on binder.\n",
    " ## [Continuous Integration]()\n",
    " ## JupyterCon talk\n",
    "\n",
    " <iframe width=\"894\" height=\"503\" src=\"https://www.youtube.com/embed/QoPMAdooy6g\" frameborder=\"0\" allow=\"accelerometer; autoplay; encrypted-media; gyroscope; picture-in-picture\" allowfullscreen></iframe>"
   ]
  },
  {
   "cell_type": "code",
   "execution_count": 9,
   "metadata": {},
   "outputs": [],
   "source": [
    "    \n",
    "    class imports:\n",
    "---\n",
    ">\n",
    " ## [__importnb__](https://deathbeds.github.io/importnb) allows notebooks to be reused a python modules.\n",
    "\n",
    " __importnb__ is essential to the `deathbeds` workflow; it makes __notebooks__ importable as python modules.\n",
    "---\n",
    "- http://nbviewer.jupyter.org/github/deathbeds/deathbeds.github.io/blob/master/deathbeds/2018-07-10-Fuzzy-importing-files-with-weird-characters.ipynb\n",
    "- http://nbviewer.jupyter.org/github/deathbeds/deathbeds.github.io/blob/master/deathbeds/2018-07-08-The-simplest-path-hook-importer-for-a-notebook.ipynb\n",
    "---\n",
    "- http://nbviewer.jupyter.org/github/deathbeds/deathbeds.github.io/blob/master/deathbeds/2018-10-24-String-Template-Ipython-formatter.ipynb\n",
    "- \n",
    "---\n",
    "\n",
    "    imports;"
   ]
  },
  {
   "cell_type": "code",
   "execution_count": 10,
   "metadata": {},
   "outputs": [],
   "source": [
    "    \n",
    "    class testing:\n",
    "---\n",
    "# Notebooks as tests.\n",
    "\n",
    "Jupyter notebooks can be used as tests successful __tests__ can validate reproducibility.\n",
    "\n",
    "> Restart and Run All or it didn't happen.\n",
    "\n",
    "---\n",
    "- http://nbviewer.jupyter.org/github/deathbeds/deathbeds.github.io/blob/master/deathbeds/2018-07-31-Testing-notebooks.ipynb\n",
    "- http://nbviewer.jupyter.org/github/deathbeds/deathbeds.github.io/blob/master/deathbeds/2018-07-15-Pytest-watchmedo.ipynb\n",
    "---\n",
    ">\n",
    " # Continuous Integration\n",
    "    \n",
    " [![Build Status](https://travis-ci.org/deathbeds/deathbeds.github.io.svg?branch=master)](https://travis-ci.org/deathbeds/deathbeds.github.io)\n",
    "\n",
    "    testing;"
   ]
  },
  {
   "cell_type": "code",
   "execution_count": 11,
   "metadata": {},
   "outputs": [],
   "source": [
    "    \n",
    "    class suggestion:\n",
    "---\n",
    "\"> So you wanna write a post?\"\n",
    "---\n",
    ">\n",
    " ### Post Idea\n",
    "\n",
    " #### Take some notebook you have and run `nbconvert` with `--execute` to see how many succeed.\n",
    "---\n",
    "https://nbconvert.readthedocs.io/en/latest/execute_api.html"
   ]
  },
  {
   "cell_type": "code",
   "execution_count": 12,
   "metadata": {},
   "outputs": [],
   "source": [
    "    class visuals:\n",
    "---\n",
    "- http://nbviewer.jupyter.org/github/deathbeds/deathbeds.github.io/blob/master/deathbeds/2018-08-28-Github-project-statistics-and-visualizations.ipynb\n",
    "- http://nbviewer.jupyter.org/github/deathbeds/deathbeds.github.io/blob/master/deathbeds/2018-07-02-Pandas-Pixels--DataFrames-as-Images.ipynb\n",
    "- http://nbviewer.jupyter.org/github/deathbeds/deathbeds.github.io/blob/master/deathbeds/2018-07-10-Using-math-as-a-grid.ipynb\n",
    "---\n",
    "- http://nbviewer.jupyter.org/github/deathbeds/deathbeds.github.io/blob/master/deathbeds/2018-08-25-Quantifying-distances-between-historical-notebooks.ipynb\n",
    "- http://nbviewer.jupyter.org/github/deathbeds/deathbeds.github.io/blob/master/deathbeds/2018-08-25-Quantifying-distances-between-historical-notebooks.ipynb\n",
    "---\n",
    "    visuals;"
   ]
  },
  {
   "cell_type": "code",
   "execution_count": 13,
   "metadata": {},
   "outputs": [],
   "source": [
    "    class bug:\n",
    "---\n",
    ">\n",
    " ## IPython bug\n",
    "\n",
    " I like to experiment with different inputs.  That part of the API broke recently with the new IPython 7.0.  It \n",
    " turned out the new API had a bug, too.  The fix wound up being my first contribution to `IPython`.\n",
    "---\n",
    "- http://nbviewer.jupyter.org/github/deathbeds/deathbeds.github.io/blob/master/deathbeds/2018-10-01-New-IPython-Input-Interface.ipynb\n",
    "- \"## [My First Contribution to IPython](https://github.com/ipython/ipython/pull/11356)\"\n",
    "---\n",
    "\n",
    "    bug;"
   ]
  },
  {
   "cell_type": "code",
   "execution_count": 14,
   "metadata": {},
   "outputs": [],
   "source": [
    "    \n",
    "    with IPython.utils.capture.capture_output() as cap:\n",
    "        (reload if 'this' in __import__('sys').modules else lambda x: x)(__import__('this'))\n",
    "\n",
    "    class readability:\n",
    "---\n",
    ">\n",
    "  ```\n",
    "  {{cap.stdout}}\n",
    "  ```\n",
    "---\n",
    ">\n",
    " ## Readablility Counts\n",
    "\n",
    " * Research blogging reinforces that __Readability Counts__.  \n",
    "\n",
    " * Readability is a critical consideration when developing content for cross disciplinary thinking.\n",
    "\n",
    " * Readability encourages writing more __Markdown__ than code.\n",
    "\n",
    " * Research blogging teaches the practice of composing computational essays that are readable and computable.\n",
    "\n",
    "---\n",
    "http://nbviewer.jupyter.org/github/deathbeds/deathbeds.github.io/blob/master/deathbeds/2018-07-03-Custom-IPython-Completer-for-Indented-Code.ipynb\n",
    "---\n",
    "\n",
    "    readability;"
   ]
  },
  {
   "cell_type": "code",
   "execution_count": 15,
   "metadata": {},
   "outputs": [
    {
     "data": {
      "text/markdown": [
       "## There isn't a way to test `readability`\n",
       "\n",
       "Programs and readable documents raise errors.  Literate documents must compute, or restart and run \n",
       "all.  nbconvert execute must work.  Bad grammar or syntax will cause a human computer to start reading.\n",
       "\n",
       "```\n",
       "class GrammarException(BaseException): ...\n",
       "class SpellingException(BaseException): ...\n",
       "```\n",
       ">\n",
       " `GrammarException` or `SpellingException` could potentially inform the literate program author.\n",
       "\n",
       " ## `nbconvert` is a basic way to test computablility.\n",
       "\n",
       "```\n",
       "jupyter nbconvert --execute 0.md.ipynb\n",
       "```"
      ],
      "text/plain": [
       "__main__.errors"
      ]
     },
     "execution_count": 15,
     "metadata": {},
     "output_type": "execute_result"
    }
   ],
   "source": [
    "    \n",
    "    class errors:\n",
    "## There isn't a way to test `readability`\n",
    "\n",
    "Programs and readable documents raise errors.  Literate documents must compute, or restart and run \n",
    "all.  nbconvert execute must work.  Bad grammar or syntax will cause a human computer to start reading.\n",
    "\n",
    "```\n",
    "class GrammarException(BaseException): ...\n",
    "class SpellingException(BaseException): ...\n",
    "```\n",
    ">\n",
    " `GrammarException` or `SpellingException` could potentially inform the literate program author.\n",
    "\n",
    " ## `nbconvert` is a basic way to test computablility.\n",
    "\n",
    "```\n",
    "jupyter nbconvert --execute 0.md.ipynb\n",
    "```\n",
    "    \n",
    "    errors"
   ]
  },
  {
   "cell_type": "code",
   "execution_count": 16,
   "metadata": {},
   "outputs": [],
   "source": [
    "    \n",
    "    class best_style:\n",
    "---\n",
    "# The Best Notebook Style Guide to Date.\n",
    "---\n",
    "http://nbviewer.jupyter.org/github/jupyterday-atlanta-2016/oriole_jupyterday_atl/blob/master/oriole_talk.ipynb"
   ]
  },
  {
   "cell_type": "code",
   "execution_count": 17,
   "metadata": {},
   "outputs": [],
   "source": [
    "    \n",
    "    class questions:\n",
    "# Open questions\n",
    "\n",
    "* What are best practices for documents containing data plus statements and expressions in code?\n",
    "* What are the style guides for tangling and weaving code into data?\n",
    "* How can researchers future proof their work?"
   ]
  },
  {
   "cell_type": "code",
   "execution_count": 18,
   "metadata": {},
   "outputs": [],
   "source": [
    "    \n",
    "    def g(x): \n",
    "        start, middle, end = x.split()\n",
    "        return \"digraph {rankdir=LR %s->%s->%s %s->%s[label=loop]}\"%(start, middle, end, end, start)\n",
    "\n",
    "    class similarities:\n",
    "---\n",
    "\"# Project Jupyter and Notebooks are valuable when considered in other arenas\"\n",
    "---\n",
    "- - '{{g(\"read evaluate print\")}}'\n",
    "  - \"[Repl](https://en.wikipedia.org/wiki/Read%E2%80%93eval%E2%80%93print_loop)\"\n",
    "- - '{{g(\"society science technology\")}}'\n",
    "  - \"[Computational thinking](https://www.ncbi.nlm.nih.gov/pmc/articles/PMC2696102/)\"\n",
    "- - '{{g(\"textual computational procedural\")}}'\n",
    "  - \"[Literacy](http://licsjournal.org/OJS/index.php/LiCS/article/view/24)\"\n",
    "---\n",
    "- - '{{g(\"text input output\")}}'\n",
    "  - \"[Computational Essays](http://blog.stephenwolfram.com/2017/11/what-is-a-computational-essay/)\"\n",
    "- - '{{g(\"science computing data\")}}'\n",
    "  - \"[Literate Computing](http://blog.fperez.org/2013/04/literate-computing-and-computational.html)\"\n",
    "- - '{{g(\"readability reproducibility reusability\")}}'\n",
    "  - \"[Replicability](http://gael-varoquaux.info/programming/of-software-and-science-reproducible-science-what-why-and-how.html)\"\n",
    "---\n",
    "\n",
    "    similarities;"
   ]
  },
  {
   "cell_type": "code",
   "execution_count": 19,
   "metadata": {},
   "outputs": [],
   "source": [
    "    \n",
    "    class notebookism:\n",
    "# _Notebook-ism_\n",
    "\n",
    "Notebooks and the Jupyter Ecosystem provide reliable tools to create readable, \n",
    "reproducible, and reusable noting from collections of notebooks.  Computational ideas \n",
    "can be tested with continuous integration.\n",
    "\n",
    "* _**Notebook-ism**_ is the daily journaling of notebooks, and doodling with computers.\n",
    "* __Notebook__s are a modern lab notebook where the author records their work as data.\n",
    "* Research blogging using notebooks.\n",
    "* Old ideas can be tested.\n",
    "* Is a way to draw with computers.\n",
    "* Practice composing computational essays and best practices will emerge.\n",
    "* Write notebooks."
   ]
  },
  {
   "cell_type": "code",
   "execution_count": 22,
   "metadata": {},
   "outputs": [],
   "source": [
    "    def _ipython_display_(n=20): IPython.display.display(\n",
    "        *__import__('itertools').chain(*((IPython.display.Markdown(\"---\\n\"*n), object) for object in (\n",
    "            preface,\n",
    "            open_source,\n",
    "            research_blogging,\n",
    "            examples,\n",
    "            highlights,\n",
    "            imports,\n",
    "            testing,\n",
    "            suggestion,\n",
    "            visuals, \n",
    "            bug, \n",
    "            readability,\n",
    "            errors, \n",
    "            best_style,\n",
    "            questions,\n",
    "            notebookism,\n",
    "            similarities\n",
    "        ))))"
   ]
  },
  {
   "cell_type": "code",
   "execution_count": null,
   "metadata": {},
   "outputs": [],
   "source": []
  }
 ],
 "metadata": {
  "kernelspec": {
   "display_name": "Python 3",
   "language": "python",
   "name": "python3"
  },
  "language_info": {
   "codemirror_mode": {
    "name": "ipython",
    "version": 3
   },
   "file_extension": ".py",
   "mimetype": "text/x-python",
   "name": "python",
   "nbconvert_exporter": "python",
   "pygments_lexer": "ipython3",
   "version": "3.6.6"
  }
 },
 "nbformat": 4,
 "nbformat_minor": 2
}
