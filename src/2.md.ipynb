{
 "cells": [
  {
   "cell_type": "markdown",
   "metadata": {},
   "source": [
    "# Literate computing places focus on human readable computing documents.\n",
    "\n",
    "In this section, we discuss notebooks as data and documents."
   ]
  },
  {
   "cell_type": "code",
   "execution_count": 1,
   "metadata": {},
   "outputs": [],
   "source": [
    "%reload_ext pidgin.shell\n",
    "%reload_ext pidgin.display"
   ]
  },
  {
   "cell_type": "code",
   "execution_count": 128,
   "metadata": {},
   "outputs": [],
   "source": [
    "    import IPython"
   ]
  },
  {
   "cell_type": "markdown",
   "metadata": {},
   "source": [
    "# Notebooks present an new challenge in `composition`.\n",
    "\n",
    "What are best practices for intermingling code and narrative.  There are `diagrams` to complement the slide.\n",
    "\n",
    "(Text+Figures+Tables)+Code"
   ]
  },
  {
   "cell_type": "markdown",
   "metadata": {},
   "source": [
    "## The `composition` of notebooks \n",
    "\n",
    "Notebooks are [computational essays](http://blog.stephenwolfram.com/2017/11/what-is-a-computational-essay/) created by \n",
    "the act of [literate computing](http://blog.fperez.org/2013/04/literate-computing-and-computational.html).  Both concepts\n",
    "overlap with `literateprogramming`."
   ]
  },
  {
   "cell_type": "code",
   "execution_count": 164,
   "metadata": {},
   "outputs": [],
   "source": [
    "    \n",
    "    class diagrams:\n",
    "---\n",
    ">\n",
    "  Literate computing is the act of creating a computational essays.  The {{\"graph {text input output }\"}} are the remnants from literate computing.\n",
    "---\n",
    "- >\n",
    "    digraph {\n",
    "        layout=neato edge[len=2]\n",
    "        subgraph cluster_essay {label=\"Computational Essays\" text->input->output->text } \n",
    "        subgraph cluster_computing {label=\"Literate Computing\" science->computing->data->science } \n",
    "        science->text[style=dotted] input->computing[style=dotted] output->data[style=dotted]\n",
    "    }\n",
    "- - >\n",
    "    digraph {\n",
    "        layout=neato edge[len=2]\n",
    "        subgraph cluster_essay {label=\"Computational Essays\" labelloc=b text input output} \n",
    "        subgraph cluster_computing {label=\"Literate Computing\" labelloc=b labeljust=r science computing data } \n",
    "        science->text->computing computing->input->data data->output->science\n",
    "        text->input->output->text\n",
    "    }\n",
    "  - \"### Literate computing + Computational Essays\"\n",
    "---\n",
    "\n",
    "    \n",
    "    class composition:\n",
    "---\n",
    "- http://blog.stephenwolfram.com/2017/11/what-is-a-computational-essay/\n",
    "- http://blog.fperez.org/2013/04/literate-computing-and-computational.html\n",
    "---\n",
    "- - > \n",
    "    # Computational Essays\n",
    "    \n",
    "    * **[Stephen Wolfram](http://blog.stephenwolfram.com)** - _creator of [Mathematica]()_\n",
    "  \n",
    "    > There are basically three kinds of things here. First, ordinary text (here in English). Second, computer input. And third, computer output. And the crucial point is that these all work together to express what’s being communicated.\"\n",
    "\n",
    "- - >\n",
    "    # Literate Computing\n",
    "    \n",
    "    ```\n",
    "    get_ipython()\n",
    "    ```\n",
    "    \n",
    "    * **[Fernando Perez](http://blog.fperez.org)** - _creator of [IPython](https://ipython.readthedocs.io)_\n",
    "    \n",
    "    > Our job with IPython is to think deeply about questions regarding the intersection of computing, data and science, but it's clear to me at this point that we can contribute in contexts beyond pure scientific research. I hope we'll be able to provide folks who have a direct intersection with the public, such as journalists, with tools that help a more informed and productive debate.\"\n",
    "---\n",
    "- \"[![](https://upload.wikimedia.org/wikipedia/commons/4/48/Data_driven_journalism_process.jpg)](https://en.wikipedia.org/wiki/Data-driven_journalism)\"\n",
    "- >\n",
    "    ## Data Science Venn Diagram\n",
    "    \n",
    "    * [__Drew Conway__](http://drewconway.com/)\n",
    "    \n",
    "    [![](https://static1.squarespace.com/static/5150aec6e4b0e340ec52710a/t/51525c33e4b0b3e0d10f77ab/1364352052403/Data_Science_VD.png)](http://drewconway.com/zia/2013/3/26/the-data-science-venn-diagram)\"\n",
    "---\n",
    ">\n",
    "  {{diagrams}}\n",
    "---\n",
    "\n",
    "    composition;"
   ]
  },
  {
   "cell_type": "markdown",
   "metadata": {},
   "source": [
    "## `literateprogramming` is computing for humans.\n",
    "\n",
    "Literate programs combine __imperative__ and __declarative__ styles of control flow in a natural ways that to convey human logic."
   ]
  },
  {
   "cell_type": "code",
   "execution_count": 165,
   "metadata": {},
   "outputs": [],
   "source": [
    "\n",
    "    class literateprogramming:\n",
    "---\n",
    "- \"> The practitioner of __literate programming__ can be regarded\n",
    "as an essayist, whose main concern is with exposition\n",
    "and excellence of style. ... He or she\n",
    "strives for a program that is comprehensible because its\n",
    "concepts have been introduced in an order that is best\n",
    "for human understanding, using a mixture of formal\n",
    "and informal methods that reinforce each other.\"\n",
    "- http://www.literateprogramming.com/knuthweb.pdf\n",
    "---\n",
    "- '> By coining the phrase “__literate\n",
    "programming__,” I am imposing a moral commitment\n",
    "on everyone who hears the term; surely nobody wants\n",
    "to admit writing an illiterate program.'\n",
    "---\n",
    "    \n",
    "        class WEB:\n",
    "> The main point is that WEB\n",
    "is __inherently bilingual__, and that such a combination of\n",
    "languages proves to be much more powerful than either\n",
    "single language by itself. _WEB does not make the other\n",
    "languages obsolete; on the contrary, it enhances them._\n",
    "\n",
    "    literateprogramming;"
   ]
  },
  {
   "cell_type": "markdown",
   "metadata": {},
   "source": [
    "## Introduce the different `inputs` types of the notebooks"
   ]
  },
  {
   "cell_type": "code",
   "execution_count": 243,
   "metadata": {},
   "outputs": [],
   "source": [
    "    \n",
    "    class inputs:\n",
    "---\n",
    "\"## The structure of the notebook\n",
    "\n",
    "The are few text inputs for notebook cells.\n",
    "\n",
    "strings\n",
    "\"\n",
    "---\n",
    "- graph {Code--{Input Output} Markdown Raw}\n",
    "- \"[![](https://cdn-images-1.medium.com/max/800/1*_jDTWlZNUySwrRBgVNqoNw.png)](https://blog.jupyter.org/jupyterlab-is-ready-for-users-5a6f039b8906)\"\n",
    "---\n",
    "- https://nbconvert.readthedocs.io/en/latest/customizing.html#Template-structure\n",
    "---\n",
    "\"# Markdown and the Python <del>Kernel language</del> are primary languages.\"\n",
    "---\n",
    "\"`nbformat.v4.new_notebook` means that these cells may be combined programmatically `nbformat.v4.new_code_cell`, `nbformat.v4.new_markdown_cell`, `nbformat.v4.new_raw_cell`\"\n",
    "---\n",
    "    inputs;"
   ]
  },
  {
   "cell_type": "markdown",
   "metadata": {},
   "source": [
    "### Notebooks and literate programs are similar because they are multilingual."
   ]
  },
  {
   "cell_type": "code",
   "execution_count": 244,
   "metadata": {},
   "outputs": [],
   "source": [
    "    \n",
    "    class bilingual:\n",
    "---\n",
    "\"## WEB is an implementation of literate programming.\"\n",
    "---\n",
    "- \"{{literateprogramming.WEB}}\"\n",
    "---\n",
    "- graph {rankdir=LR science--computing--data--science}\n",
    "- \"> Increasingly, collaborative science is evolving computing as a scientific language; and open source\n",
    "is leading the charge.\"\n"
   ]
  },
  {
   "cell_type": "markdown",
   "metadata": {},
   "source": [
    "## `outputs` discusses the `json` data format of notebooks.\n",
    "\n",
    "[`nbformat`]() is the native package to use notebook data.\n",
    "\n",
    "The compute `outputs` are logged as `json` data."
   ]
  },
  {
   "cell_type": "code",
   "execution_count": 245,
   "metadata": {},
   "outputs": [],
   "source": [
    "    \n",
    "    class json_viewer:\n",
    "        __doc__ = IPython.display.JSON(__notebook__)\n",
    "        \n",
    "    class outputs:\n",
    "# The Notebook is data \n",
    "\n",
    "> [Demo](demos.ipynb)\n",
    "\n",
    "```\n",
    "import nbformat, json```\n",
    "\n",
    "The notebook is `json`.\n",
    "\n",
    "    with open('../readme.ipynb') as f: \n",
    "        __notebook__ = json.load(f)    \n",
    "\n",
    "---\n",
    "### The __notebook__ has a schema that can be validated with the core library `nbformat`.\n",
    "\n",
    "    assert nbformat.validate(__notebook__) is None\n",
    "If `nbformat.validate` returns `None`, the notebook is valid.\n",
    "\n",
    "---\n",
    "Each time the notebook format matures its schema is versioned: `nbformat.v4`, `nbformat.v3`, `nbformat.v2`, `nbformat.v1`\n",
    "\n",
    "---\n",
    "The `IPython.display.JSON` explorer below is generated from this `__notebook__` being used right now in this demostration. \n",
    "> This display view has search abilities!\n",
    "---\n",
    "{{IPython.display.display(json_viewer)}}"
   ]
  },
  {
   "cell_type": "markdown",
   "metadata": {},
   "source": [
    "## The `nbformat` is reusable by other `interfaces`."
   ]
  },
  {
   "cell_type": "code",
   "execution_count": 3,
   "metadata": {},
   "outputs": [],
   "source": [
    "    \n",
    "    class interfaces:\n",
    "---\n",
    "\"## The `nbformat` is reusable by other interfaces.\n",
    "\n",
    "![](https://jupyter.readthedocs.io/en/latest/_images/repos_map.png)\"\n",
    "---\n",
    "- - '## Notebook'\n",
    "  - https://jupyter.readthedocs.io/en/latest/_images/notebook_components.png\n",
    "- - '## nbconvert'\n",
    "  - https://jupyter.readthedocs.io/en/latest/_images/nbconvert.png\n",
    "---\n",
    "- - \"https://nbconvert.readthedocs.io\"\n",
    "  - graph {nbformat--{HTML LaTeX PDF Markdown RST py ipynb}}\n",
    "- \"https://nbconvert.readthedocs.io/en/latest/api/exporters.html#specialized-exporter-classes\"\n",
    "---\n",
    "- https://blog.github.com/2015-05-07-github-jupyter-notebooks-3/\n",
    "- colab\n",
    "- https://cocalc.com\n",
    "---\n",
    "- http://nbviewer.jupyter.org\n",
    "- https://mybinder.org\n",
    "---\n",
    "\n",
    "    interfaces;"
   ]
  },
  {
   "cell_type": "markdown",
   "metadata": {},
   "source": [
    "## Reusing notebooks is `testing`."
   ]
  },
  {
   "cell_type": "code",
   "execution_count": 4,
   "metadata": {},
   "outputs": [],
   "source": [
    "    \n",
    "    class testing:\n",
    "---\n",
    "- >\n",
    "  An idea in a notebook can be reused and tested.\n",
    "    \n",
    "  ```\n",
    "  if __name__ == '__main__':\n",
    "      !jupyter nbconvert --execute ../readme.ipynb\n",
    "  ```\n",
    "- \"https://nbconvert.readthedocs.io/en/latest/execute_api.html#executing-notebooks-from-the-command-line\"\n",
    "---\n",
    "---\n",
    "- http://nbviewer.jupyter.org/github/deathbeds/importnb/blob/master/readme.ipynb\n",
    "- https://papermill.readthedocs.io/en/latest/\n",
    "- https://nbval.readthedocs.io/en/latest/\n",
    "---\n",
    "\n",
    "    testing;"
   ]
  },
  {
   "cell_type": "markdown",
   "metadata": {},
   "source": [
    "## Jupyter provides rich `displays`"
   ]
  },
  {
   "cell_type": "code",
   "execution_count": 5,
   "metadata": {},
   "outputs": [
    {
     "ename": "NameError",
     "evalue": "name 'IPython' is not defined",
     "output_type": "error",
     "traceback": [
      "\u001b[1;31m---------------------------------------------------------------------------\u001b[0m",
      "\u001b[1;31mNameError\u001b[0m                                 Traceback (most recent call last)",
      "\u001b[1;32m<ipython-input-5-889af6fd0945>\u001b[0m in \u001b[0;36m<module>\u001b[1;34m\u001b[0m\n\u001b[0;32m      1\u001b[0m \u001b[1;33m\u001b[0m\u001b[0m\n\u001b[1;32m----> 2\u001b[1;33m \u001b[0mdisplay_names\u001b[0m \u001b[1;33m=\u001b[0m \u001b[1;34m'&nbsp;&nbsp; '\u001b[0m\u001b[1;33m.\u001b[0m\u001b[0mjoin\u001b[0m\u001b[1;33m(\u001b[0m\u001b[1;34mf\"[`{str}`](#IPython.{str})\"\u001b[0m \u001b[1;32mfor\u001b[0m \u001b[0mstr\u001b[0m \u001b[1;32min\u001b[0m \u001b[0mdir\u001b[0m\u001b[1;33m(\u001b[0m\u001b[0mIPython\u001b[0m\u001b[1;33m.\u001b[0m\u001b[0mdisplay\u001b[0m\u001b[1;33m)\u001b[0m \u001b[1;32mif\u001b[0m \u001b[0mstr\u001b[0m\u001b[1;33m[\u001b[0m\u001b[1;36m0\u001b[0m\u001b[1;33m]\u001b[0m\u001b[1;33m.\u001b[0m\u001b[0misupper\u001b[0m\u001b[1;33m(\u001b[0m\u001b[1;33m)\u001b[0m\u001b[1;33m)\u001b[0m\u001b[1;33m\u001b[0m\u001b[0m\n\u001b[0m\u001b[0;32m      3\u001b[0m \u001b[1;32mclass\u001b[0m \u001b[0mdisplays\u001b[0m\u001b[1;33m:\u001b[0m\u001b[1;33m\u001b[0m\u001b[0m\n\u001b[0;32m      4\u001b[0m     \"\"\"---\n\u001b[0;32m      5\u001b[0m \u001b[1;34m\"## There are few `inputs`, but many `outputs`.\"\u001b[0m\u001b[1;33m\u001b[0m\u001b[0m\n",
      "\u001b[1;31mNameError\u001b[0m: name 'IPython' is not defined"
     ]
    }
   ],
   "source": [
    "    \n",
    "    display_names = '&nbsp;&nbsp; '.join(f\"[`{str}`](#IPython.{str})\" for str in dir(IPython.display) if str[0].isupper())\n",
    "    class displays:\n",
    "---\n",
    "\"## There are few `inputs`, but many `outputs`.\"\n",
    "---\n",
    "- - http://jeffskinnerbox.me/notebooks/ipython's-rich-display-system.html\n",
    "  - \"{{display_names}}\"\n",
    "- https://nbviewer.jupyter.org/github/jupyterlab/jupyter-renderers/tree/master/notebooks\n",
    "---\n",
    "\"# Displays are customizable.\"\n",
    "---\n",
    "https://ipython.readthedocs.io/en/stable/config/integrating.html\n",
    "---\n",
    "Projects like `pandas`, `sympy`, and `graphviz` customize the IPython display attributes.\n",
    "    \n",
    "    output;"
   ]
  },
  {
   "cell_type": "markdown",
   "metadata": {},
   "source": [
    "### `widgets` are interactive displays\n"
   ]
  },
  {
   "cell_type": "code",
   "execution_count": 6,
   "metadata": {},
   "outputs": [],
   "source": [
    "    \n",
    "    class widgets:\n",
    "---\n",
    "- https://ipywidgets.readthedocs.io/en/stable/examples/Widget%20List.html\n",
    "- https://ipywidgets.readthedocs.io/en/stable/examples/Using%20Interact.html\n",
    "---\n",
    "\"[demos.ipynb](demos.ipynb)\"\n",
    "\n",
    "    widgets;"
   ]
  },
  {
   "cell_type": "markdown",
   "metadata": {},
   "source": [
    "## `kernels` are interfaces to other languages, grammars, or syntaxes."
   ]
  },
  {
   "cell_type": "code",
   "execution_count": 287,
   "metadata": {},
   "outputs": [],
   "source": [
    "    \n",
    "    class kernels:\n",
    "---\n",
    "http://nbviewer.jupyter.org/gist/fperez/5b49246af4e340c37549265a90894ce6/polyglot-ds.ipynb\n",
    "---\n",
    "Breakfast Torus.\n",
    "---\n",
    ">\n",
    "  ### Literate programs & computational essays are multilingual\n",
    "\n",
    "  There are __{{len(kernels.kernel_list)}}__ kernels(languages).\n",
    "\n",
    "  {{', '.join(kernel_list.Name.apply(\"`{}`\".format))}}\n",
    "    \n",
    "        kernel_list = __import__('pandas').read_html(\"https://github.com/jupyter/jupyter/wiki/Jupyter-kernels\")[0]"
   ]
  },
  {
   "cell_type": "markdown",
   "metadata": {},
   "source": [
    "### There are two `architecture`s for `kernels`"
   ]
  },
  {
   "cell_type": "code",
   "execution_count": 289,
   "metadata": {},
   "outputs": [],
   "source": [
    "    \n",
    "    class architecture:\n",
    "---\n",
    "- https://jupyter.readthedocs.io/en/latest/_images/ipy_kernel_and_terminal.png\n",
    "- https://jupyter.readthedocs.io/en/latest/_images/other_kernels.png\n",
    "---\n",
    "    \n",
    "    architecture;"
   ]
  },
  {
   "cell_type": "markdown",
   "metadata": {},
   "source": [
    "## A summary of this section"
   ]
  },
  {
   "cell_type": "code",
   "execution_count": 291,
   "metadata": {},
   "outputs": [],
   "source": [
    "    \n",
    "    class summary:\n",
    "Real data is becoming part of a document.  Jupyter provides a natural interface to tangle and weave computational essays with literate computing practices.\n",
    "\n",
    "Your future self is a collaborator.\n",
    "\n",
    "A lot of notebooks is a lot of data."
   ]
  },
  {
   "cell_type": "code",
   "execution_count": null,
   "metadata": {},
   "outputs": [],
   "source": [
    "    IPython.display.display(\n",
    "        *__import__('itertools').chain(*((IPython.display.Markdown(\"---\\n\"*15), object) for object in (\n",
    "            composition,\n",
    "            literateprogramming,\n",
    "            inputs,\n",
    "            bilingual,\n",
    "            outputs,\n",
    "            interfaces,\n",
    "            testing,\n",
    "            displays,\n",
    "            widgets,\n",
    "            kernels,\n",
    "            architecture,\n",
    "            summary\n",
    "        ))))"
   ]
  },
  {
   "cell_type": "code",
   "execution_count": null,
   "metadata": {},
   "outputs": [],
   "source": []
  }
 ],
 "metadata": {
  "kernelspec": {
   "display_name": "Python 3",
   "language": "python",
   "name": "python3"
  },
  "language_info": {
   "codemirror_mode": {
    "name": "ipython",
    "version": 3
   },
   "file_extension": ".py",
   "mimetype": "text/x-python",
   "name": "python",
   "nbconvert_exporter": "python",
   "pygments_lexer": "ipython3",
   "version": "3.6.6"
  }
 },
 "nbformat": 4,
 "nbformat_minor": 2
}
