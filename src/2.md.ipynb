{
 "cells": [
  {
   "cell_type": "markdown",
   "metadata": {},
   "source": [
    "# Literate computing places focus on human readable computing documents.\n",
    "\n",
    "In this section, we discuss fundamental aspects of notebooks as data and documents.  We introduce literate computing, computational essays, and literate programming.  We discuss so core tools to create derived documents and shared from notebooks."
   ]
  },
  {
   "cell_type": "code",
   "execution_count": 1,
   "metadata": {},
   "outputs": [],
   "source": [
    "%reload_ext pidgin.shell\n",
    "%reload_ext pidgin.display"
   ]
  },
  {
   "cell_type": "code",
   "execution_count": 2,
   "metadata": {},
   "outputs": [],
   "source": [
    "    import IPython"
   ]
  },
  {
   "cell_type": "markdown",
   "metadata": {},
   "source": [
    "# Notebooks present an new challenge in `composition`.\n",
    "\n",
    "What are best practices for intermingling code, narrative, and live data.  There are `diagrams` to complement the slide.\n",
    "\n",
    "(Text+Figures+Tables)(Code, Data)"
   ]
  },
  {
   "cell_type": "markdown",
   "metadata": {},
   "source": [
    "## The `composition` of notebooks \n",
    "\n",
    "Notebooks are [computational essays](http://blog.stephenwolfram.com/2017/11/what-is-a-computational-essay/) created by \n",
    "the act of [literate computing](http://blog.fperez.org/2013/04/literate-computing-and-computational.html).  Both concepts\n",
    "overlap with `literateprogramming`."
   ]
  },
  {
   "cell_type": "code",
   "execution_count": 3,
   "metadata": {},
   "outputs": [],
   "source": [
    "    \n",
    "    class diagrams:\n",
    "---\n",
    ">\n",
    "  Literate computing is the act of creating a computational essays.  The {{\"graph {text input output }\"}} are the remnants from literate computing.\n",
    "---\n",
    "- >\n",
    "    digraph {\n",
    "        layout=neato edge[len=2]\n",
    "        subgraph cluster_essay {label=\"Computational Essays\" text->input->output->text } \n",
    "        subgraph cluster_computing {label=\"Literate Computing\" science->computing->data->science } \n",
    "        science->text[style=dotted] input->computing[style=dotted] output->data[style=dotted]\n",
    "    }\n",
    "- - >\n",
    "    digraph {\n",
    "        layout=neato edge[len=2]\n",
    "        subgraph cluster_essay {label=\"Computational Essays\" labelloc=b text input output} \n",
    "        subgraph cluster_computing {label=\"Literate Computing\" labelloc=b labeljust=r science computing data } \n",
    "        science->text->computing computing->input->data data->output->science\n",
    "        text->input->output->text\n",
    "    }\n",
    "  - \"### Literate computing + Computational Essays\"\n",
    "---\n",
    "\n",
    "    \n",
    "    class composition:\n",
    "---\n",
    "\"# Notebooks are computational essays that express human logic\"\n",
    "---\n",
    "- http://blog.stephenwolfram.com/2017/11/what-is-a-computational-essay/\n",
    "- http://blog.fperez.org/2013/04/literate-computing-and-computational.html\n",
    "---\n",
    "- - > \n",
    "    # Computational Essays\n",
    "    \n",
    "    * **[Stephen Wolfram](http://blog.stephenwolfram.com)** - _creator of [Mathematica]()_\n",
    "  \n",
    "    > There are basically three kinds of things here. First, __ordinary text__ (here in English). Second, computer __input__. And third, computer __output__. And the crucial point is that these _all work together_ to express what’s being communicated.\"\n",
    "\n",
    "- - >\n",
    "    # Literate Computing\n",
    "    \n",
    "    ```\n",
    "    get_ipython()\n",
    "    ```\n",
    "    \n",
    "    * **[Fernando Perez](http://blog.fperez.org)** - _creator of [IPython](https://ipython.readthedocs.io)_\n",
    "    \n",
    "    > Our job with IPython is to think deeply about questions regarding the intersection of __computing__, __data__ and __science__, but it's clear to me at this point that we can contribute in contexts beyond pure scientific research. I hope we'll be able to provide _folks who have a direct intersection with the public_, such as journalists, with tools that help a more informed and productive debate.\"\n",
    "---\n",
    "- \"[![](https://upload.wikimedia.org/wikipedia/commons/4/48/Data_driven_journalism_process.jpg)](https://en.wikipedia.org/wiki/Data-driven_journalism)\"\n",
    "- >\n",
    "    ## Data Science Venn Diagram\n",
    "    \n",
    "    * [__Drew Conway__](http://drewconway.com/)\n",
    "    \n",
    "    [![](https://static1.squarespace.com/static/5150aec6e4b0e340ec52710a/t/51525c33e4b0b3e0d10f77ab/1364352052403/Data_Science_VD.png)](http://drewconway.com/zia/2013/3/26/the-data-science-venn-diagram)\n",
    "---\n",
    ">\n",
    "  {{diagrams}}\n",
    "---\n",
    "\n",
    "    composition;"
   ]
  },
  {
   "cell_type": "markdown",
   "metadata": {},
   "source": [
    "## `literateprogramming` is computing for humans.\n",
    "\n",
    "Literate programs combine __imperative__ and __declarative__ styles of control flow in a natural ways that to convey human logic."
   ]
  },
  {
   "cell_type": "code",
   "execution_count": 4,
   "metadata": {},
   "outputs": [],
   "source": [
    "\n",
    "    class literateprogramming:\n",
    "---\n",
    "- \"> The practitioner of __literate programming__ can be regarded\n",
    "as an essayist, whose main concern is with exposition\n",
    "and excellence of style. ... He or she\n",
    "strives for a program that is comprehensible because its\n",
    "concepts have been introduced in an order that is best\n",
    "for human understanding, using a mixture of formal\n",
    "and informal methods that reinforce each other.\"\n",
    "- http://www.literateprogramming.com/knuthweb.pdf\n",
    "---\n",
    "- '> By coining the phrase “__literate\n",
    "programming__,” I am imposing a moral commitment\n",
    "on everyone who hears the term; surely nobody wants\n",
    "to admit writing an illiterate program.'\n",
    "---\n",
    "https://yakshav.es/the-patron-saint-of-yakshaves/\n",
    "---\n",
    "    \n",
    "        class WEB:\n",
    "> The main point is that WEB\n",
    "is __inherently bilingual__, and that such a combination of\n",
    "languages proves to be much more powerful than either\n",
    "single language by itself. _WEB does not make the other\n",
    "languages obsolete; on the contrary, it enhances them._\n",
    "\n",
    "    literateprogramming;"
   ]
  },
  {
   "cell_type": "markdown",
   "metadata": {},
   "source": [
    "## Introduce the different `inputs` types"
   ]
  },
  {
   "cell_type": "code",
   "execution_count": 5,
   "metadata": {},
   "outputs": [
    {
     "data": {
      "text/html": [
       "<div style=\"display: flex; flex-direction: column\"><div style=\"flex: 1\"><blockquote>\n",
       "<ol start=\"34\">\n",
       "<li>The string is a stark data structure and everywhere it is passed there is much duplication of process. It is a perfect vehicle for hiding information.</li>\n",
       "</ol>\n",
       "<blockquote>\n",
       "<p><a href=\"http://www.cs.yale.edu/homes/perlis-alan/quotes.html\">Perlisisms</a></p>\n",
       "</blockquote>\n",
       "</blockquote>\n",
       "</div><div style=\"flex: 1\"><h2>The notebook <code>inputs</code></h2>\n",
       "<p>The are few text inputs for notebook cells.</p>\n",
       "<ul>\n",
       "<li>Notebook cells allow <strong>bash</strong>, <strong>shell</strong>, and <strong>magic</strong> commands.</li>\n",
       "</ul>\n",
       "</div><div style=\"flex: 1\"><div style=\"display: flex; flex-direction: row\"><div style=\"flex: 1\"><?xml version=\"1.0\" encoding=\"UTF-8\" standalone=\"no\"?><!DOCTYPE svg PUBLIC \"-//W3C//DTD SVG 1.1//EN\" \"http://www.w3.org/Graphics/SVG/1.1/DTD/svg11.dtd\"><!-- Generated by graphviz version 2.38.0 (20140413.2041) --><!-- Title: %3 Pages: 1 --><svg width=\"301pt\" height=\"116pt\" viewBox=\"0.00 0.00 301.19 116.00\" xmlns=\"http://www.w3.org/2000/svg\" xmlns:xlink=\"http://www.w3.org/1999/xlink\"><g id=\"graph0\" class=\"graph\" transform=\"scale(1 1) rotate(0) translate(4 112)\"><title>%3</title><polygon fill=\"white\" stroke=\"none\" points=\"-4,4 -4,-112 297.195,-112 297.195,4 -4,4\"/><!-- Code --><g id=\"node1\" class=\"node\"><title>Code</title><ellipse fill=\"none\" stroke=\"black\" cx=\"71.8973\" cy=\"-90\" rx=\"30.5947\" ry=\"18\"/><text text-anchor=\"middle\" x=\"71.8973\" y=\"-86.3\" font-family=\"Times New Roman,serif\" font-size=\"14.00\">Code</text></g><!-- Input --><g id=\"node2\" class=\"node\"><title>Input</title><ellipse fill=\"none\" stroke=\"black\" cx=\"29.8973\" cy=\"-18\" rx=\"29.795\" ry=\"18\"/><text text-anchor=\"middle\" x=\"29.8973\" y=\"-14.3\" font-family=\"Times New Roman,serif\" font-size=\"14.00\">Input</text></g><!-- Code&#45;&#45;Input --><g id=\"edge1\" class=\"edge\"><title>Code&#45;&#45;Input</title><path fill=\"none\" stroke=\"black\" d=\"M62.1561,-72.7646C55.3709,-61.456 46.3593,-46.4367 39.5857,-35.1473\"/></g><!-- Output --><g id=\"node3\" class=\"node\"><title>Output</title><ellipse fill=\"none\" stroke=\"black\" cx=\"113.897\" cy=\"-18\" rx=\"36.2938\" ry=\"18\"/><text text-anchor=\"middle\" x=\"113.897\" y=\"-14.3\" font-family=\"Times New Roman,serif\" font-size=\"14.00\">Output</text></g><!-- Code&#45;&#45;Output --><g id=\"edge2\" class=\"edge\"><title>Code&#45;&#45;Output</title><path fill=\"none\" stroke=\"black\" d=\"M81.6386,-72.7646C88.3268,-61.6175 97.1783,-46.865 103.917,-35.6334\"/></g><!-- Markdown --><g id=\"node4\" class=\"node\"><title>Markdown</title><ellipse fill=\"none\" stroke=\"black\" cx=\"170.897\" cy=\"-90\" rx=\"50.0912\" ry=\"18\"/><text text-anchor=\"middle\" x=\"170.897\" y=\"-86.3\" font-family=\"Times New Roman,serif\" font-size=\"14.00\">Markdown</text></g><!-- Raw --><g id=\"node5\" class=\"node\"><title>Raw</title><ellipse fill=\"none\" stroke=\"black\" cx=\"265.897\" cy=\"-90\" rx=\"27.0966\" ry=\"18\"/><text text-anchor=\"middle\" x=\"265.897\" y=\"-86.3\" font-family=\"Times New Roman,serif\" font-size=\"14.00\">Raw</text></g></g></svg>\n",
       "</div><div style=\"flex: 1\"><p><a href=\"https://blog.jupyter.org/jupyterlab-is-ready-for-users-5a6f039b8906\"><img src=\"https://cdn-images-1.medium.com/max/800/1*_jDTWlZNUySwrRBgVNqoNw.png\" alt=\"\" /></a></p>\n",
       "</div></div></div><div style=\"flex: 1\"><div style=\"display: flex; flex-direction: row\"><div style=\"flex: 1\"><iframe style=\"height: 400px; width: 100%\" src=\"https://nbconvert.readthedocs.io/en/latest/customizing.html#Template-structure\"></iframe></div></div></div><div style=\"flex: 1\"><h1>Markdown and the Python <del>Kernel language</del> are primary languages.</h1>\n",
       "</div><div style=\"flex: 1\"><p><code>nbformat.v4.new_notebook</code> means that these cells may be combined programmatically <code>nbformat.v4.new_code_cell</code>, <code>nbformat.v4.new_markdown_cell</code>, <code>nbformat.v4.new_raw_cell</code></p>\n",
       "</div></div>"
      ],
      "text/plain": [
       "__main__.inputs"
      ]
     },
     "execution_count": 5,
     "metadata": {},
     "output_type": "execute_result"
    }
   ],
   "source": [
    "    \n",
    "    class inputs:\n",
    "---\n",
    "\"> 34. The string is a stark data structure and everywhere it is passed there is much duplication of process. It is a perfect vehicle for hiding information.\n",
    "\n",
    "> > [Perlisisms](http://www.cs.yale.edu/homes/perlis-alan/quotes.html)\n",
    "\"\n",
    "---\n",
    "\"## The notebook `inputs`\n",
    "\n",
    "The are few text inputs for notebook cells.\n",
    "\n",
    "* Notebook cells allow __bash__, __shell__, and __magic__ commands.\n",
    "\"\n",
    "---\n",
    "- graph {Code--{Input Output} Markdown Raw}\n",
    "- \"[![](https://cdn-images-1.medium.com/max/800/1*_jDTWlZNUySwrRBgVNqoNw.png)](https://blog.jupyter.org/jupyterlab-is-ready-for-users-5a6f039b8906)\"\n",
    "---\n",
    "- https://nbconvert.readthedocs.io/en/latest/customizing.html#Template-structure\n",
    "---\n",
    "\"# Markdown and the Python <del>Kernel language</del> are primary languages.\"\n",
    "---\n",
    "\"`nbformat.v4.new_notebook` means that these cells may be combined programmatically `nbformat.v4.new_code_cell`, `nbformat.v4.new_markdown_cell`, `nbformat.v4.new_raw_cell`\"\n",
    "---\n",
    "    \n",
    "    inputs"
   ]
  },
  {
   "cell_type": "markdown",
   "metadata": {},
   "source": [
    "### Notebooks and literate programs are similar because they are multilingual."
   ]
  },
  {
   "cell_type": "code",
   "execution_count": 6,
   "metadata": {},
   "outputs": [],
   "source": [
    "    \n",
    "    class bilingual:\n",
    "---\n",
    "\"## WEB is an implementation of literate programming.\"\n",
    "---\n",
    "- \"{{literateprogramming.WEB}}\"\n",
    "---\n",
    "- graph {rankdir=LR science--computing--data--science}\n",
    "- \"> Increasingly, collaborative science is evolving computing as a scientific language; and open source\n",
    "is leading the charge.\"\n"
   ]
  },
  {
   "cell_type": "markdown",
   "metadata": {},
   "source": [
    "## `outputs` discusses the `json` data format of notebooks.\n",
    "\n",
    "[`nbformat`]() is the native package to use notebook data.\n",
    "\n",
    "The compute `outputs` are logged as `json` data."
   ]
  },
  {
   "cell_type": "code",
   "execution_count": 8,
   "metadata": {},
   "outputs": [],
   "source": [
    "    import nbformat, json\n",
    "    with open('../readme.ipynb') as f: __notebook__ = json.load(f)\n",
    "    assert nbformat.validate(__notebook__) is None"
   ]
  },
  {
   "cell_type": "code",
   "execution_count": 9,
   "metadata": {},
   "outputs": [],
   "source": [
    "    \n",
    "    class json_viewer:\n",
    "        __doc__ = IPython.display.JSON(__notebook__)\n",
    "        \n",
    "    class outputs:\n",
    "# The Notebook is data \n",
    "\n",
    "> [Demo](demos.ipynb)\n",
    "\n",
    "```\n",
    "import nbformat, json```\n",
    "\n",
    "The notebook is `json`.\n",
    "\n",
    "    with open('../readme.ipynb') as f: \n",
    "        __notebook__ = json.load(f)    \n",
    "\n",
    "---\n",
    "### The __notebook__ has a schema that can be validated with the core library `nbformat`.\n",
    "\n",
    "    assert nbformat.validate(__notebook__) is None\n",
    "If `nbformat.validate` returns `None`, the notebook is valid.\n",
    "\n",
    "---\n",
    "Each time the notebook format matures its schema is versioned: `nbformat.v4`, `nbformat.v3`, `nbformat.v2`, `nbformat.v1`\n",
    "\n",
    "---\n",
    "The `IPython.display.JSON` explorer below is generated from this `__notebook__` being used right now in this demostration. \n",
    "> This display view has search abilities!\n",
    "---\n",
    "{{IPython.display.display(json_viewer)}}"
   ]
  },
  {
   "cell_type": "markdown",
   "metadata": {},
   "source": [
    "## The `nbformat` is reusable by other `interfaces`."
   ]
  },
  {
   "cell_type": "code",
   "execution_count": 10,
   "metadata": {},
   "outputs": [],
   "source": [
    "    \n",
    "    class interfaces:\n",
    "---\n",
    "\"## The `nbformat` is reusable by other interfaces.\n",
    "\n",
    "![](https://jupyter.readthedocs.io/en/latest/_images/repos_map.png)\"\n",
    "---\n",
    "- - '## Notebook'\n",
    "  - https://jupyter.readthedocs.io/en/latest/_images/notebook_components.png\n",
    "- - '## nbconvert'\n",
    "  - https://jupyter.readthedocs.io/en/latest/_images/nbconvert.png\n",
    "---\n",
    "- - \"https://nbconvert.readthedocs.io\"\n",
    "  - graph {nbformat--{HTML LaTeX PDF Markdown RST py ipynb}}\n",
    "- \"https://nbconvert.readthedocs.io/en/latest/api/exporters.html#specialized-exporter-classes\"\n",
    "---\n",
    "- https://blog.github.com/2015-05-07-github-jupyter-notebooks-3/\n",
    "- colab\n",
    "- https://cocalc.com\n",
    "---\n",
    "- http://nbviewer.jupyter.org\n",
    "- https://mybinder.org\n",
    "---\n",
    "\n",
    "    interfaces;"
   ]
  },
  {
   "cell_type": "markdown",
   "metadata": {},
   "source": [
    "## `templating` and live data\n",
    "\n",
    "`templating` allows data to become a display string."
   ]
  },
  {
   "cell_type": "code",
   "execution_count": 11,
   "metadata": {},
   "outputs": [],
   "source": [
    "    \n",
    "    class templating:\n",
    "---\n",
    "\"## Templating allows live data to be placed into strings and displays.\"\n",
    "---\n",
    "- https://jekyllrb.com/docs/liquid/\n",
    "- http://jinja.pocoo.org\n",
    "- https://cito.github.io/blog/f-strings/\n",
    "---\n",
    "    \n",
    "    templating;"
   ]
  },
  {
   "cell_type": "markdown",
   "metadata": {},
   "source": [
    "## Reusing notebooks is `testing`."
   ]
  },
  {
   "cell_type": "code",
   "execution_count": 12,
   "metadata": {},
   "outputs": [],
   "source": [
    "    \n",
    "    class testing:\n",
    "---\n",
    "- >\n",
    "  An idea in a notebook can be reused and tested.\n",
    "    \n",
    "  ```\n",
    "  if __name__ == '__main__':\n",
    "      !jupyter nbconvert --execute ../readme.ipynb\n",
    "  ```\n",
    "- \"https://nbconvert.readthedocs.io/en/latest/execute_api.html#executing-notebooks-from-the-command-line\"\n",
    "---\n",
    "---\n",
    "- http://nbviewer.jupyter.org/github/deathbeds/importnb/blob/master/readme.ipynb\n",
    "- https://papermill.readthedocs.io/en/latest/\n",
    "- https://nbval.readthedocs.io/en/latest/\n",
    "---\n",
    "## Valid code requires that it can be read and understood from top to bottom, just like text.\n",
    "---\n",
    "\n",
    "    testing;"
   ]
  },
  {
   "cell_type": "markdown",
   "metadata": {},
   "source": [
    "## Jupyter provides rich `displays`"
   ]
  },
  {
   "cell_type": "code",
   "execution_count": 13,
   "metadata": {},
   "outputs": [],
   "source": [
    "    \n",
    "    display_names = '&nbsp;&nbsp; '.join(f\"[`{str}`](#IPython.{str})\" for str in dir(IPython.display) if str[0].isupper())\n",
    "    class displays:\n",
    "---\n",
    "\"## There are many `outputs`.\"\n",
    "---\n",
    "- - http://jeffskinnerbox.me/notebooks/ipython's-rich-display-system.html\n",
    "  - \"{{display_names}}\"\n",
    "- https://nbviewer.jupyter.org/github/jupyterlab/jupyter-renderers/tree/master/notebooks\n",
    "---\n",
    "\"# Displays are customizable.\"\n",
    "---\n",
    "https://ipython.readthedocs.io/en/stable/config/integrating.html\n",
    "---\n",
    "Projects like `pandas`, `sympy`, and `graphviz` customize the IPython display attributes.\n",
    "---\n",
    "\"[Demo](demos.ipynb)\"\n",
    "---\n",
    "    \n",
    "    displays;"
   ]
  },
  {
   "cell_type": "markdown",
   "metadata": {},
   "source": [
    "### `widgets` are interactive displays\n"
   ]
  },
  {
   "cell_type": "code",
   "execution_count": 14,
   "metadata": {},
   "outputs": [],
   "source": [
    "    \n",
    "    class widgets:\n",
    "---\n",
    "- https://ipywidgets.readthedocs.io/en/stable/examples/Widget%20List.html\n",
    "- https://ipywidgets.readthedocs.io/en/stable/examples/Using%20Interact.html\n",
    "---\n",
    "\"[demos.ipynb](demos.ipynb)\"\n",
    "\n",
    "    widgets;"
   ]
  },
  {
   "cell_type": "markdown",
   "metadata": {},
   "source": [
    "## `kernels` are interfaces to other languages, grammars, or syntaxes."
   ]
  },
  {
   "cell_type": "code",
   "execution_count": 15,
   "metadata": {},
   "outputs": [],
   "source": [
    "    \n",
    "    class colors:\n",
    "# <span style=\"color:darkorange;\">JUPY</span>TE<span style=\"color:darkorange;\">R</span>\n",
    "\n",
    "    class combination:\n",
    "---\n",
    "- '{{colors}}'\n",
    "- - '### <span style=\"color:darkorange;\">Ju</span>lia'\n",
    "  - '### <span style=\"color:darkorange;\">Py</span>thon'\n",
    "  - '### I<span style=\"color:darkorange;\">Py</span>thon'\n",
    "  - '### <span style=\"color:darkorange;\">R</span>'\n",
    "---\n",
    "\n",
    "    class main_kernels:\n",
    "---\n",
    "\"{{combination}}\"\n",
    "---\n",
    "- \"[![](https://raw.githubusercontent.com/JuliaLang/IJulia.jl/master/deps/ijulialogo.png)](https://github.com/JuliaLang/IJulia.jl)\"\n",
    "- http://ipython.readthedocs.io/\n",
    "- https://irkernel.github.io/\n",
    "---\n",
    "- https://xeus.readthedocs.io/en/latest/\n",
    "- https://www.rdocumentation.org/packages/JuniperKernel/versions/1.2.3.0"
   ]
  },
  {
   "cell_type": "code",
   "execution_count": 16,
   "metadata": {},
   "outputs": [],
   "source": [
    "    \n",
    "    class kernels:\n",
    "---\n",
    "http://nbviewer.jupyter.org/gist/fperez/5b49246af4e340c37549265a90894ce6/polyglot-ds.ipynb\n",
    "---\n",
    "\"{{main_kernels}}\"\n",
    "---\n",
    ">\n",
    "  ### Literate programs & computational essays are multilingual\n",
    "\n",
    "  There are __{{len(kernels.kernel_list)}}__ kernels(languages).\n",
    "\n",
    "  {{', '.join(kernels.kernel_list.Name.apply(\"`{}`\".format))}}\n",
    "    \n",
    "        kernel_list = __import__('pandas').read_html(\"https://github.com/jupyter/jupyter/wiki/Jupyter-kernels\")[0]\n",
    "\n",
    "    kernels;"
   ]
  },
  {
   "cell_type": "markdown",
   "metadata": {},
   "source": [
    "### `architecture` illustrates the different types of kernels."
   ]
  },
  {
   "cell_type": "code",
   "execution_count": 17,
   "metadata": {},
   "outputs": [],
   "source": [
    "    \n",
    "    class architecture:\n",
    "---\n",
    "- https://jupyter.readthedocs.io/en/latest/_images/ipy_kernel_and_terminal.png\n",
    "- https://jupyter.readthedocs.io/en/latest/_images/other_kernels.png\n",
    "---\n",
    "    \n",
    "    architecture;"
   ]
  },
  {
   "cell_type": "markdown",
   "metadata": {},
   "source": [
    "## A summary of this section"
   ]
  },
  {
   "cell_type": "code",
   "execution_count": 18,
   "metadata": {},
   "outputs": [],
   "source": [
    "    \n",
    "    class summary:\n",
    "* Literate programming focuses on human logic, and can capture domain knowledge.\n",
    "* Real data is becoming part of a document and `templating` is necessary for formatting data into documents.\n",
    "* Jupyter provides a natural interface to tangle and weave computational essays with literate computing practices.\n",
    "* Your future self is a collaborator.\n",
    "* A lot of notebooks is a lot of data.\n",
    "* Style evolves over time.\n",
    "* Notebooks are readable and reusable."
   ]
  },
  {
   "cell_type": "code",
   "execution_count": null,
   "metadata": {},
   "outputs": [
    {
     "data": {
      "text/markdown": [
       "---\n",
       "---\n",
       "---\n",
       "---\n",
       "---\n",
       "---\n",
       "---\n",
       "---\n",
       "---\n",
       "---\n",
       "---\n",
       "---\n",
       "---\n",
       "---\n",
       "---\n"
      ],
      "text/plain": [
       "<IPython.core.display.Markdown object>"
      ]
     },
     "metadata": {},
     "output_type": "display_data"
    },
    {
     "data": {
      "text/html": [
       "<div style=\"display: flex; flex-direction: column\"><div style=\"flex: 1\"><h1>Notebooks are computational essays that express human logic</h1>\n",
       "</div><div style=\"flex: 1\"><div style=\"display: flex; flex-direction: row\"><div style=\"flex: 1\"><iframe style=\"height: 400px; width: 100%\" src=\"http://blog.stephenwolfram.com/2017/11/what-is-a-computational-essay/\"></iframe></div><div style=\"flex: 1\"><iframe style=\"height: 400px; width: 100%\" src=\"http://blog.fperez.org/2013/04/literate-computing-and-computational.html\"></iframe></div></div></div><div style=\"flex: 1\"><div style=\"display: flex; flex-direction: row\"><div style=\"flex: 1\"><div style=\"display: flex; flex-direction: column\"><div style=\"flex: 1\"><h1>Computational Essays</h1>\n",
       "<ul>\n",
       "<li><strong><a href=\"http://blog.stephenwolfram.com\">Stephen Wolfram</a></strong> - <em>creator of <a href=\"\">Mathematica</a></em></li>\n",
       "</ul>\n",
       "<blockquote>\n",
       "<p>There are basically three kinds of things here. First, <strong>ordinary text</strong> (here in English). Second, computer <strong>input</strong>. And third, computer <strong>output</strong>. And the crucial point is that these <em>all work together</em> to express what’s being communicated.&quot;</p>\n",
       "</blockquote>\n",
       "</div></div></div><div style=\"flex: 1\"><div style=\"display: flex; flex-direction: column\"><div style=\"flex: 1\"><h1>Literate Computing</h1>\n",
       "<p><code>get_ipython()</code></p>\n",
       "<ul>\n",
       "<li><strong><a href=\"http://blog.fperez.org\">Fernando Perez</a></strong> - <em>creator of <a href=\"https://ipython.readthedocs.io\">IPython</a></em></li>\n",
       "</ul>\n",
       "<blockquote>\n",
       "<p>Our job with IPython is to think deeply about questions regarding the intersection of <strong>computing</strong>, <strong>data</strong> and <strong>science</strong>, but it's clear to me at this point that we can contribute in contexts beyond pure scientific research. I hope we'll be able to provide <em>folks who have a direct intersection with the public</em>, such as journalists, with tools that help a more informed and productive debate.&quot;</p>\n",
       "</blockquote>\n",
       "</div></div></div></div></div><div style=\"flex: 1\"><div style=\"display: flex; flex-direction: row\"><div style=\"flex: 1\"><p><a href=\"https://en.wikipedia.org/wiki/Data-driven_journalism\"><img src=\"https://upload.wikimedia.org/wikipedia/commons/4/48/Data_driven_journalism_process.jpg\" alt=\"\" /></a></p>\n",
       "</div><div style=\"flex: 1\"><h2>Data Science Venn Diagram</h2>\n",
       "<ul>\n",
       "<li><a href=\"http://drewconway.com/\"><strong>Drew Conway</strong></a>\n",
       "<a href=\"http://drewconway.com/zia/2013/3/26/the-data-science-venn-diagram\"><img src=\"https://static1.squarespace.com/static/5150aec6e4b0e340ec52710a/t/51525c33e4b0b3e0d10f77ab/1364352052403/Data_Science_VD.png\" alt=\"\" /></a></li>\n",
       "</ul>\n",
       "</div></div></div><div style=\"flex: 1\"><div style=\"display: flex; flex-direction: column\"><div style=\"flex: 1\"><p>Literate computing is the act of creating a computational essays.  The <?xml version=\"1.0\" encoding=\"UTF-8\" standalone=\"no\"?><!DOCTYPE svg PUBLIC \"-//W3C//DTD SVG 1.1//EN\" \"http://www.w3.org/Graphics/SVG/1.1/DTD/svg11.dtd\"><!-- Generated by graphviz version 2.38.0 (20140413.2041) --><!-- Title: %3 Pages: 1 --><svg width=\"224pt\" height=\"44pt\" viewBox=\"0.00 0.00 224.45 44.00\" xmlns=\"http://www.w3.org/2000/svg\" xmlns:xlink=\"http://www.w3.org/1999/xlink\"><g id=\"graph0\" class=\"graph\" transform=\"scale(1 1) rotate(0) translate(4 40)\"><title>%3</title><polygon fill=\"white\" stroke=\"none\" points=\"-4,4 -4,-40 220.447,-40 220.447,4 -4,4\"/><!-- text --><g id=\"node1\" class=\"node\"><title>text</title><ellipse fill=\"none\" stroke=\"black\" cx=\"27\" cy=\"-18\" rx=\"27\" ry=\"18\"/><text text-anchor=\"middle\" x=\"27\" y=\"-14.3\" font-family=\"Times New Roman,serif\" font-size=\"14.00\">text</text></g><!-- input --><g id=\"node2\" class=\"node\"><title>input</title><ellipse fill=\"none\" stroke=\"black\" cx=\"101\" cy=\"-18\" rx=\"28.6953\" ry=\"18\"/><text text-anchor=\"middle\" x=\"101\" y=\"-14.3\" font-family=\"Times New Roman,serif\" font-size=\"14.00\">input</text></g><!-- output --><g id=\"node3\" class=\"node\"><title>output</title><ellipse fill=\"none\" stroke=\"black\" cx=\"182\" cy=\"-18\" rx=\"34.394\" ry=\"18\"/><text text-anchor=\"middle\" x=\"182\" y=\"-14.3\" font-family=\"Times New Roman,serif\" font-size=\"14.00\">output</text></g></g></svg> are the remnants from literate computing.</p>\n",
       "</div><div style=\"flex: 1\"><div style=\"display: flex; flex-direction: row\"><div style=\"flex: 1\"><?xml version=\"1.0\" encoding=\"UTF-8\" standalone=\"no\"?><!DOCTYPE svg PUBLIC \"-//W3C//DTD SVG 1.1//EN\" \"http://www.w3.org/Graphics/SVG/1.1/DTD/svg11.dtd\"><!-- Generated by graphviz version 2.38.0 (20140413.2041) --><!-- Title: %3 Pages: 1 --><svg width=\"305pt\" height=\"318pt\" viewBox=\"0.00 0.00 304.98 318.05\" xmlns=\"http://www.w3.org/2000/svg\" xmlns:xlink=\"http://www.w3.org/1999/xlink\"><g id=\"graph0\" class=\"graph\" transform=\"scale(1 1) rotate(0) translate(137.562 157.371)\"><title>%3</title><polygon fill=\"white\" stroke=\"none\" points=\"-137.562,160.679 -137.562,-157.371 167.417,-157.371 167.417,160.679 -137.562,160.679\"/><g id=\"clust1\" class=\"cluster\"><title>cluster_essay</title><polygon fill=\"none\" stroke=\"black\" points=\"-133.562,156.679 -133.562,4.98716 104.35,4.98716 104.35,156.679 -133.562,156.679\"/><text text-anchor=\"middle\" x=\"-14.606\" y=\"20.1872\" font-family=\"Times New Roman,serif\" font-size=\"14.00\">Computational Essays</text></g><g id=\"clust2\" class=\"cluster\"><title>cluster_computing</title><polygon fill=\"none\" stroke=\"black\" points=\"-82.8592,-3.80539 -82.8592,-153.371 163.417,-153.371 163.417,-3.80539 -82.8592,-3.80539\"/><text text-anchor=\"middle\" x=\"40.279\" y=\"-138.171\" font-family=\"Times New Roman,serif\" font-size=\"14.00\">Literate Computing</text></g><!-- text --><g id=\"node1\" class=\"node\"><title>text</title><ellipse fill=\"none\" stroke=\"black\" cx=\"-106.562\" cy=\"22.9872\" rx=\"27\" ry=\"18\"/><text text-anchor=\"middle\" x=\"-106.562\" y=\"26.6872\" font-family=\"Times New Roman,serif\" font-size=\"14.00\">text</text></g><!-- input --><g id=\"node2\" class=\"node\"><title>input</title><ellipse fill=\"none\" stroke=\"black\" cx=\"75.7524\" cy=\"79.605\" rx=\"28.6953\" ry=\"18\"/><text text-anchor=\"middle\" x=\"75.7524\" y=\"83.305\" font-family=\"Times New Roman,serif\" font-size=\"14.00\">input</text></g><!-- text&#45;&gt;input --><g id=\"edge1\" class=\"edge\"><title>text&#45;&gt;input</title><path fill=\"none\" stroke=\"black\" d=\"M-81.9741,30.6229C-50.435,40.4174 4.48064,57.4715 40.4737,68.6491\"/><polygon fill=\"black\" stroke=\"black\" points=\"41.5766,65.3267 50.0886,71.6351 39.5005,72.0117 41.5766,65.3267\"/></g><!-- output --><g id=\"node3\" class=\"node\"><title>output</title><ellipse fill=\"none\" stroke=\"black\" cx=\"-42.6819\" cy=\"138.679\" rx=\"34.394\" ry=\"18\"/><text text-anchor=\"middle\" x=\"-42.6819\" y=\"142.379\" font-family=\"Times New Roman,serif\" font-size=\"14.00\">output</text></g><!-- input&#45;&gt;output --><g id=\"edge2\" class=\"edge\"><title>input&#45;&gt;output</title><path fill=\"none\" stroke=\"black\" d=\"M53.197,90.8555C35.6995,99.5831 11.1615,111.823 -8.71014,121.734\"/><polygon fill=\"black\" stroke=\"black\" points=\"-7.24295,124.914 -17.7538,126.245 -10.3674,118.65 -7.24295,124.914\"/></g><!-- computing --><g id=\"node5\" class=\"node\"><title>computing</title><ellipse fill=\"none\" stroke=\"black\" cx=\"114.022\" cy=\"-84.0956\" rx=\"49.2915\" ry=\"18\"/><text text-anchor=\"middle\" x=\"114.022\" y=\"-80.3956\" font-family=\"Times New Roman,serif\" font-size=\"14.00\">computing</text></g><!-- input&#45;&gt;computing --><g id=\"edge8\" class=\"edge\"><title>input&#45;&gt;computing</title><path fill=\"none\" stroke=\"black\" stroke-dasharray=\"1,5\" d=\"M79.9207,61.7745C86.5283,33.5099 99.4661,-21.8331 107.368,-55.6323\"/><polygon fill=\"black\" stroke=\"black\" points=\"104.057,-56.8467 109.742,-65.7874 110.873,-55.2532 104.057,-56.8467\"/></g><!-- output&#45;&gt;text --><g id=\"edge3\" class=\"edge\"><title>output&#45;&gt;text</title><path fill=\"none\" stroke=\"black\" d=\"M-52.2454,121.359C-62.8436,102.165 -80.0475,71.0071 -92.2513,48.9049\"/><polygon fill=\"black\" stroke=\"black\" points=\"-95.3718,50.4942 -97.1415,40.0482 -89.2438,47.1106 -95.3718,50.4942\"/></g><!-- data --><g id=\"node6\" class=\"node\"><title>data</title><ellipse fill=\"none\" stroke=\"black\" cx=\"4.63233\" cy=\"-21.8054\" rx=\"27\" ry=\"18\"/><text text-anchor=\"middle\" x=\"4.63233\" y=\"-18.1054\" font-family=\"Times New Roman,serif\" font-size=\"14.00\">data</text></g><!-- output&#45;&gt;data --><g id=\"edge9\" class=\"edge\"><title>output&#45;&gt;data</title><path fill=\"none\" stroke=\"black\" stroke-dasharray=\"1,5\" d=\"M-37.3463,120.582C-29.1031,92.6215 -13.2127,38.7231 -3.52235,5.85443\"/><polygon fill=\"black\" stroke=\"black\" points=\"-6.79662,4.58332 -0.611539,-4.01873 -0.0823355,6.56288 -6.79662,4.58332\"/></g><!-- science --><g id=\"node4\" class=\"node\"><title>science</title><ellipse fill=\"none\" stroke=\"black\" cx=\"-45.1626\" cy=\"-135.371\" rx=\"37.8943\" ry=\"18\"/><text text-anchor=\"middle\" x=\"-45.1626\" y=\"-131.671\" font-family=\"Times New Roman,serif\" font-size=\"14.00\">science</text></g><!-- science&#45;&gt;text --><g id=\"edge7\" class=\"edge\"><title>science&#45;&gt;text</title><path fill=\"none\" stroke=\"black\" stroke-dasharray=\"1,5\" d=\"M-52.0865,-117.513C-62.7837,-89.923 -83.4045,-36.739 -95.9796,-4.30604\"/><polygon fill=\"black\" stroke=\"black\" points=\"-92.8785,-2.62218 -99.7569,5.43625 -99.4051,-5.15275 -92.8785,-2.62218\"/></g><!-- science&#45;&gt;computing --><g id=\"edge4\" class=\"edge\"><title>science&#45;&gt;computing</title><path fill=\"none\" stroke=\"black\" d=\"M-13.7129,-125.24C9.34571,-117.813 41.0395,-107.604 67.0874,-99.2136\"/><polygon fill=\"black\" stroke=\"black\" points=\"68.3191,-102.494 76.7644,-96.0966 66.1729,-95.8312 68.3191,-102.494\"/></g><!-- computing&#45;&gt;data --><g id=\"edge5\" class=\"edge\"><title>computing&#45;&gt;data</title><path fill=\"none\" stroke=\"black\" d=\"M87.262,-68.8577C71.1448,-59.68 50.6038,-47.9832 34.0343,-38.548\"/><polygon fill=\"black\" stroke=\"black\" points=\"35.7128,-35.4761 25.291,-33.5692 32.2489,-41.559 35.7128,-35.4761\"/></g><!-- data&#45;&gt;science --><g id=\"edge6\" class=\"edge\"><title>data&#45;&gt;science</title><path fill=\"none\" stroke=\"black\" d=\"M-3.14812,-39.5499C-11.2605,-58.0514 -24.0719,-87.27 -33.4165,-108.582\"/><polygon fill=\"black\" stroke=\"black\" points=\"-36.6264,-107.187 -37.4367,-117.751 -30.2156,-109.998 -36.6264,-107.187\"/></g></g></svg>\n",
       "</div><div style=\"flex: 1\"><div style=\"display: flex; flex-direction: column\"><div style=\"flex: 1\"><?xml version=\"1.0\" encoding=\"UTF-8\" standalone=\"no\"?><!DOCTYPE svg PUBLIC \"-//W3C//DTD SVG 1.1//EN\" \"http://www.w3.org/Graphics/SVG/1.1/DTD/svg11.dtd\"><!-- Generated by graphviz version 2.38.0 (20140413.2041) --><!-- Title: %3 Pages: 1 --><svg width=\"366pt\" height=\"308pt\" viewBox=\"0.00 0.00 366.30 307.92\" xmlns=\"http://www.w3.org/2000/svg\" xmlns:xlink=\"http://www.w3.org/1999/xlink\"><g id=\"graph0\" class=\"graph\" transform=\"scale(1 1) rotate(0) translate(183.531 116.477)\"><title>%3</title><polygon fill=\"white\" stroke=\"none\" points=\"-183.531,191.442 -183.531,-116.477 182.771,-116.477 182.771,191.442 -183.531,191.442\"/><g id=\"clust1\" class=\"cluster\"><title>cluster_essay</title><polygon fill=\"none\" stroke=\"black\" points=\"-99.9948,65.9549 -99.9948,-103.644 103.877,-103.644 103.877,65.9549 -99.9948,65.9549\"/><text text-anchor=\"middle\" x=\"1.94107\" y=\"58.1549\" font-family=\"Times New Roman,serif\" font-size=\"14.00\">Computational Essays</text></g><g id=\"clust2\" class=\"cluster\"><title>cluster_computing</title><polygon fill=\"none\" stroke=\"black\" points=\"-179.531,187.442 -179.531,-112.477 178.771,-112.477 178.771,187.442 -179.531,187.442\"/><text text-anchor=\"middle\" x=\"116.771\" y=\"179.642\" font-family=\"Times New Roman,serif\" font-size=\"14.00\">Literate Computing</text></g><!-- text --><g id=\"node1\" class=\"node\"><title>text</title><ellipse fill=\"none\" stroke=\"black\" cx=\"76.8769\" cy=\"37.6725\" rx=\"27\" ry=\"18\"/><text text-anchor=\"middle\" x=\"76.8769\" y=\"41.3725\" font-family=\"Times New Roman,serif\" font-size=\"14.00\">text</text></g><!-- input --><g id=\"node2\" class=\"node\"><title>input</title><ellipse fill=\"none\" stroke=\"black\" cx=\"-71.3973\" cy=\"47.9549\" rx=\"28.6953\" ry=\"18\"/><text text-anchor=\"middle\" x=\"-71.3973\" y=\"51.6549\" font-family=\"Times New Roman,serif\" font-size=\"14.00\">input</text></g><!-- text&#45;&gt;input --><g id=\"edge7\" class=\"edge\"><title>text&#45;&gt;input</title><path fill=\"none\" stroke=\"black\" d=\"M49.6811,39.5584C26.6082,41.1585 -6.76931,43.4731 -32.6392,45.2671\"/><polygon fill=\"black\" stroke=\"black\" points=\"-32.6397,48.7755 -42.8579,45.9758 -33.124,41.7922 -32.6397,48.7755\"/></g><!-- computing --><g id=\"node5\" class=\"node\"><title>computing</title><ellipse fill=\"none\" stroke=\"black\" cx=\"11.8629\" cy=\"169.442\" rx=\"49.2915\" ry=\"18\"/><text text-anchor=\"middle\" x=\"11.8629\" y=\"173.142\" font-family=\"Times New Roman,serif\" font-size=\"14.00\">computing</text></g><!-- text&#45;&gt;computing --><g id=\"edge2\" class=\"edge\"><title>text&#45;&gt;computing</title><path fill=\"none\" stroke=\"black\" d=\"M68.3774,54.899C57.403,77.1419 38.1803,116.102 25.2383,142.333\"/><polygon fill=\"black\" stroke=\"black\" points=\"28.3448,143.947 20.7813,151.366 22.0673,140.85 28.3448,143.947\"/></g><!-- output --><g id=\"node3\" class=\"node\"><title>output</title><ellipse fill=\"none\" stroke=\"black\" cx=\"-5.88573\" cy=\"-85.6444\" rx=\"34.394\" ry=\"18\"/><text text-anchor=\"middle\" x=\"-5.88573\" y=\"-81.9444\" font-family=\"Times New Roman,serif\" font-size=\"14.00\">output</text></g><!-- input&#45;&gt;output --><g id=\"edge8\" class=\"edge\"><title>input&#45;&gt;output</title><path fill=\"none\" stroke=\"black\" d=\"M-62.8328,30.4891C-51.6508,7.68536 -31.9706,-32.4488 -18.9288,-59.0453\"/><polygon fill=\"black\" stroke=\"black\" points=\"-21.9977,-60.7367 -14.4523,-68.1743 -15.7126,-57.6547 -21.9977,-60.7367\"/></g><!-- data --><g id=\"node6\" class=\"node\"><title>data</title><ellipse fill=\"none\" stroke=\"black\" cx=\"-152.531\" cy=\"-74.9474\" rx=\"27\" ry=\"18\"/><text text-anchor=\"middle\" x=\"-152.531\" y=\"-71.2474\" font-family=\"Times New Roman,serif\" font-size=\"14.00\">data</text></g><!-- input&#45;&gt;data --><g id=\"edge4\" class=\"edge\"><title>input&#45;&gt;data</title><path fill=\"none\" stroke=\"black\" d=\"M-82.5084,31.1235C-96.2853,10.2541 -119.896,-25.5118 -135.85,-49.6798\"/><polygon fill=\"black\" stroke=\"black\" points=\"-138.965,-48.0455 -141.554,-58.3193 -133.124,-51.902 -138.965,-48.0455\"/></g><!-- output&#45;&gt;text --><g id=\"edge9\" class=\"edge\"><title>output&#45;&gt;text</title><path fill=\"none\" stroke=\"black\" d=\"M5.62206,-68.4977C19.7838,-47.3967 43.9404,-11.4031 60.1515,12.7515\"/><polygon fill=\"black\" stroke=\"black\" points=\"63.0647,10.8116 65.7313,21.0654 57.2524,14.7125 63.0647,10.8116\"/></g><!-- science --><g id=\"node4\" class=\"node\"><title>science</title><ellipse fill=\"none\" stroke=\"black\" cx=\"141.074\" cy=\"-94.4774\" rx=\"37.8943\" ry=\"18\"/><text text-anchor=\"middle\" x=\"141.074\" y=\"-90.7774\" font-family=\"Times New Roman,serif\" font-size=\"14.00\">science</text></g><!-- output&#45;&gt;science --><g id=\"edge6\" class=\"edge\"><title>output&#45;&gt;science</title><path fill=\"none\" stroke=\"black\" d=\"M28.5698,-87.7154C47.8903,-88.8766 72.2815,-90.3427 93.4102,-91.6126\"/><polygon fill=\"black\" stroke=\"black\" points=\"93.2918,-95.1117 103.484,-92.2181 93.7119,-88.1243 93.2918,-95.1117\"/></g><!-- science&#45;&gt;text --><g id=\"edge1\" class=\"edge\"><title>science&#45;&gt;text</title><path fill=\"none\" stroke=\"black\" d=\"M132.549,-76.929C121.601,-54.3922 102.498,-15.0695 89.7692,11.1335\"/><polygon fill=\"black\" stroke=\"black\" points=\"92.7508,13.0059 85.233,20.4714 86.4545,9.94719 92.7508,13.0059\"/></g><!-- computing&#45;&gt;input --><g id=\"edge3\" class=\"edge\"><title>computing&#45;&gt;input</title><path fill=\"none\" stroke=\"black\" d=\"M-0.243886,151.777C-14.4012,131.119 -37.9438,96.7678 -54.0424,73.2778\"/><polygon fill=\"black\" stroke=\"black\" points=\"-57.0466,75.0855 -59.8128,64.8581 -51.2725,71.1282 -57.0466,75.0855\"/></g><!-- data&#45;&gt;output --><g id=\"edge5\" class=\"edge\"><title>data&#45;&gt;output</title><path fill=\"none\" stroke=\"black\" d=\"M-125.634,-76.9094C-104.58,-78.4452 -74.8505,-80.6138 -50.2816,-82.4059\"/><polygon fill=\"black\" stroke=\"black\" points=\"-50.3366,-85.9112 -40.1084,-83.148 -49.8272,-78.9297 -50.3366,-85.9112\"/></g></g></svg>\n",
       "</div><div style=\"flex: 1\"><h3>Literate computing + Computational Essays</h3>\n",
       "</div></div></div></div></div></div>\n",
       "</div></div>"
      ],
      "text/plain": [
       "__main__.composition"
      ]
     },
     "metadata": {},
     "output_type": "display_data"
    },
    {
     "data": {
      "text/markdown": [
       "---\n",
       "---\n",
       "---\n",
       "---\n",
       "---\n",
       "---\n",
       "---\n",
       "---\n",
       "---\n",
       "---\n",
       "---\n",
       "---\n",
       "---\n",
       "---\n",
       "---\n"
      ],
      "text/plain": [
       "<IPython.core.display.Markdown object>"
      ]
     },
     "metadata": {},
     "output_type": "display_data"
    },
    {
     "data": {
      "text/html": [
       "<div style=\"display: flex; flex-direction: column\"><div style=\"flex: 1\"><div style=\"display: flex; flex-direction: row\"><div style=\"flex: 1\"><blockquote>\n",
       "<p>The practitioner of <strong>literate programming</strong> can be regarded as an essayist, whose main concern is with exposition and excellence of style. ... He or she strives for a program that is comprehensible because its concepts have been introduced in an order that is best for human understanding, using a mixture of formal and informal methods that reinforce each other.</p>\n",
       "</blockquote>\n",
       "</div><div style=\"flex: 1\"><iframe style=\"height: 400px; width: 100%\" src=\"http://www.literateprogramming.com/knuthweb.pdf\"></iframe></div></div></div><div style=\"flex: 1\"><div style=\"display: flex; flex-direction: row\"><div style=\"flex: 1\"><blockquote>\n",
       "<p>By coining the phrase “<strong>literate programming</strong>,” I am imposing a moral commitment on everyone who hears the term; surely nobody wants to admit writing an illiterate program.</p>\n",
       "</blockquote>\n",
       "</div></div></div><div style=\"flex: 1\"><iframe style=\"height: 400px; width: 100%\" src=\"https://yakshav.es/the-patron-saint-of-yakshaves/\"></iframe></div></div>"
      ],
      "text/plain": [
       "__main__.literateprogramming"
      ]
     },
     "metadata": {},
     "output_type": "display_data"
    },
    {
     "data": {
      "text/markdown": [
       "---\n",
       "---\n",
       "---\n",
       "---\n",
       "---\n",
       "---\n",
       "---\n",
       "---\n",
       "---\n",
       "---\n",
       "---\n",
       "---\n",
       "---\n",
       "---\n",
       "---\n"
      ],
      "text/plain": [
       "<IPython.core.display.Markdown object>"
      ]
     },
     "metadata": {},
     "output_type": "display_data"
    },
    {
     "data": {
      "text/html": [
       "<div style=\"display: flex; flex-direction: column\"><div style=\"flex: 1\"><blockquote>\n",
       "<ol start=\"34\">\n",
       "<li>The string is a stark data structure and everywhere it is passed there is much duplication of process. It is a perfect vehicle for hiding information.</li>\n",
       "</ol>\n",
       "<blockquote>\n",
       "<p><a href=\"http://www.cs.yale.edu/homes/perlis-alan/quotes.html\">Perlisisms</a></p>\n",
       "</blockquote>\n",
       "</blockquote>\n",
       "</div><div style=\"flex: 1\"><h2>The notebook <code>inputs</code></h2>\n",
       "<p>The are few text inputs for notebook cells.</p>\n",
       "<ul>\n",
       "<li>Notebook cells allow <strong>bash</strong>, <strong>shell</strong>, and <strong>magic</strong> commands.</li>\n",
       "</ul>\n",
       "</div><div style=\"flex: 1\"><div style=\"display: flex; flex-direction: row\"><div style=\"flex: 1\"><?xml version=\"1.0\" encoding=\"UTF-8\" standalone=\"no\"?><!DOCTYPE svg PUBLIC \"-//W3C//DTD SVG 1.1//EN\" \"http://www.w3.org/Graphics/SVG/1.1/DTD/svg11.dtd\"><!-- Generated by graphviz version 2.38.0 (20140413.2041) --><!-- Title: %3 Pages: 1 --><svg width=\"301pt\" height=\"116pt\" viewBox=\"0.00 0.00 301.19 116.00\" xmlns=\"http://www.w3.org/2000/svg\" xmlns:xlink=\"http://www.w3.org/1999/xlink\"><g id=\"graph0\" class=\"graph\" transform=\"scale(1 1) rotate(0) translate(4 112)\"><title>%3</title><polygon fill=\"white\" stroke=\"none\" points=\"-4,4 -4,-112 297.195,-112 297.195,4 -4,4\"/><!-- Code --><g id=\"node1\" class=\"node\"><title>Code</title><ellipse fill=\"none\" stroke=\"black\" cx=\"71.8973\" cy=\"-90\" rx=\"30.5947\" ry=\"18\"/><text text-anchor=\"middle\" x=\"71.8973\" y=\"-86.3\" font-family=\"Times New Roman,serif\" font-size=\"14.00\">Code</text></g><!-- Input --><g id=\"node2\" class=\"node\"><title>Input</title><ellipse fill=\"none\" stroke=\"black\" cx=\"29.8973\" cy=\"-18\" rx=\"29.795\" ry=\"18\"/><text text-anchor=\"middle\" x=\"29.8973\" y=\"-14.3\" font-family=\"Times New Roman,serif\" font-size=\"14.00\">Input</text></g><!-- Code&#45;&#45;Input --><g id=\"edge1\" class=\"edge\"><title>Code&#45;&#45;Input</title><path fill=\"none\" stroke=\"black\" d=\"M62.1561,-72.7646C55.3709,-61.456 46.3593,-46.4367 39.5857,-35.1473\"/></g><!-- Output --><g id=\"node3\" class=\"node\"><title>Output</title><ellipse fill=\"none\" stroke=\"black\" cx=\"113.897\" cy=\"-18\" rx=\"36.2938\" ry=\"18\"/><text text-anchor=\"middle\" x=\"113.897\" y=\"-14.3\" font-family=\"Times New Roman,serif\" font-size=\"14.00\">Output</text></g><!-- Code&#45;&#45;Output --><g id=\"edge2\" class=\"edge\"><title>Code&#45;&#45;Output</title><path fill=\"none\" stroke=\"black\" d=\"M81.6386,-72.7646C88.3268,-61.6175 97.1783,-46.865 103.917,-35.6334\"/></g><!-- Markdown --><g id=\"node4\" class=\"node\"><title>Markdown</title><ellipse fill=\"none\" stroke=\"black\" cx=\"170.897\" cy=\"-90\" rx=\"50.0912\" ry=\"18\"/><text text-anchor=\"middle\" x=\"170.897\" y=\"-86.3\" font-family=\"Times New Roman,serif\" font-size=\"14.00\">Markdown</text></g><!-- Raw --><g id=\"node5\" class=\"node\"><title>Raw</title><ellipse fill=\"none\" stroke=\"black\" cx=\"265.897\" cy=\"-90\" rx=\"27.0966\" ry=\"18\"/><text text-anchor=\"middle\" x=\"265.897\" y=\"-86.3\" font-family=\"Times New Roman,serif\" font-size=\"14.00\">Raw</text></g></g></svg>\n",
       "</div><div style=\"flex: 1\"><p><a href=\"https://blog.jupyter.org/jupyterlab-is-ready-for-users-5a6f039b8906\"><img src=\"https://cdn-images-1.medium.com/max/800/1*_jDTWlZNUySwrRBgVNqoNw.png\" alt=\"\" /></a></p>\n",
       "</div></div></div><div style=\"flex: 1\"><div style=\"display: flex; flex-direction: row\"><div style=\"flex: 1\"><iframe style=\"height: 400px; width: 100%\" src=\"https://nbconvert.readthedocs.io/en/latest/customizing.html#Template-structure\"></iframe></div></div></div><div style=\"flex: 1\"><h1>Markdown and the Python <del>Kernel language</del> are primary languages.</h1>\n",
       "</div><div style=\"flex: 1\"><p><code>nbformat.v4.new_notebook</code> means that these cells may be combined programmatically <code>nbformat.v4.new_code_cell</code>, <code>nbformat.v4.new_markdown_cell</code>, <code>nbformat.v4.new_raw_cell</code></p>\n",
       "</div></div>"
      ],
      "text/plain": [
       "__main__.inputs"
      ]
     },
     "metadata": {},
     "output_type": "display_data"
    },
    {
     "data": {
      "text/markdown": [
       "---\n",
       "---\n",
       "---\n",
       "---\n",
       "---\n",
       "---\n",
       "---\n",
       "---\n",
       "---\n",
       "---\n",
       "---\n",
       "---\n",
       "---\n",
       "---\n",
       "---\n"
      ],
      "text/plain": [
       "<IPython.core.display.Markdown object>"
      ]
     },
     "metadata": {},
     "output_type": "display_data"
    },
    {
     "data": {
      "text/html": [
       "<div style=\"display: flex; flex-direction: column\"><div style=\"flex: 1\"><h2>WEB is an implementation of literate programming.</h2>\n",
       "</div><div style=\"flex: 1\"><div style=\"display: flex; flex-direction: row\"><div style=\"flex: 1\"><blockquote>\n",
       "<p>The main point is that WEB\n",
       "is <strong>inherently bilingual</strong>, and that such a combination of\n",
       "languages proves to be much more powerful than either\n",
       "single language by itself. <em>WEB does not make the other\n",
       "languages obsolete; on the contrary, it enhances them.</em></p>\n",
       "</blockquote>\n",
       "</div></div></div><div style=\"flex: 1\"><div style=\"display: flex; flex-direction: row\"><div style=\"flex: 1\"><?xml version=\"1.0\" encoding=\"UTF-8\" standalone=\"no\"?><!DOCTYPE svg PUBLIC \"-//W3C//DTD SVG 1.1//EN\" \"http://www.w3.org/Graphics/SVG/1.1/DTD/svg11.dtd\"><!-- Generated by graphviz version 2.38.0 (20140413.2041) --><!-- Title: %3 Pages: 1 --><svg width=\"308pt\" height=\"67pt\" viewBox=\"0.00 0.00 308.18 67.00\" xmlns=\"http://www.w3.org/2000/svg\" xmlns:xlink=\"http://www.w3.org/1999/xlink\"><g id=\"graph0\" class=\"graph\" transform=\"scale(1 1) rotate(0) translate(4 63)\"><title>%3</title><polygon fill=\"white\" stroke=\"none\" points=\"-4,4 -4,-63 304.185,-63 304.185,4 -4,4\"/><!-- science --><g id=\"node1\" class=\"node\"><title>science</title><ellipse fill=\"none\" stroke=\"black\" cx=\"37.6967\" cy=\"-18\" rx=\"37.8943\" ry=\"18\"/><text text-anchor=\"middle\" x=\"37.6967\" y=\"-14.3\" font-family=\"Times New Roman,serif\" font-size=\"14.00\">science</text></g><!-- computing --><g id=\"node2\" class=\"node\"><title>computing</title><ellipse fill=\"none\" stroke=\"black\" cx=\"160.789\" cy=\"-41\" rx=\"49.2915\" ry=\"18\"/><text text-anchor=\"middle\" x=\"160.789\" y=\"-37.3\" font-family=\"Times New Roman,serif\" font-size=\"14.00\">computing</text></g><!-- science&#45;&#45;computing --><g id=\"edge1\" class=\"edge\"><title>science&#45;&#45;computing</title><path fill=\"none\" stroke=\"black\" d=\"M73.0729,-24.5294C86.6378,-27.1058 102.373,-30.0945 116.686,-32.8131\"/></g><!-- data --><g id=\"node3\" class=\"node\"><title>data</title><ellipse fill=\"none\" stroke=\"black\" cx=\"273.185\" cy=\"-18\" rx=\"27\" ry=\"18\"/><text text-anchor=\"middle\" x=\"273.185\" y=\"-14.3\" font-family=\"Times New Roman,serif\" font-size=\"14.00\">data</text></g><!-- computing&#45;&#45;data --><g id=\"edge2\" class=\"edge\"><title>computing&#45;&#45;data</title><path fill=\"none\" stroke=\"black\" d=\"M204.155,-32.1734C218.627,-29.1583 234.344,-25.8838 247.022,-23.2424\"/></g><!-- data&#45;&#45;science --><g id=\"edge3\" class=\"edge\"><title>data&#45;&#45;science</title><path fill=\"none\" stroke=\"black\" d=\"M246.26,-15.9538C235.158,-15.1744 222.043,-14.3821 210.185,-14 166.3,-12.5858 155.284,-12.7934 111.393,-14 99.6425,-14.323 86.8354,-14.9393 75.2902,-15.593\"/></g></g></svg>\n",
       "</div><div style=\"flex: 1\"><blockquote>\n",
       "<p>Increasingly, collaborative science is evolving computing as a scientific language; and open source is leading the charge.</p>\n",
       "</blockquote>\n",
       "</div></div></div></div>"
      ],
      "text/plain": [
       "__main__.bilingual"
      ]
     },
     "metadata": {},
     "output_type": "display_data"
    },
    {
     "data": {
      "text/markdown": [
       "---\n",
       "---\n",
       "---\n",
       "---\n",
       "---\n",
       "---\n",
       "---\n",
       "---\n",
       "---\n",
       "---\n",
       "---\n",
       "---\n",
       "---\n",
       "---\n",
       "---\n"
      ],
      "text/plain": [
       "<IPython.core.display.Markdown object>"
      ]
     },
     "metadata": {},
     "output_type": "display_data"
    },
    {
     "data": {
      "application/json": {
       "cells": [
        {
         "cell_type": "markdown",
         "metadata": {},
         "source": [
          "[![Gitter chat](https://badges.gitter.im/gitterHQ/gitter.png)](https://gitter.im/gitterHQ/gitter)[![Binder](https://mybinder.org/badge.svg)](https://mybinder.org/v2/gh/tonyfast/gvu/master)[__nbviewer__](http://nbviewer.jupyter.org/github/tonyfast/gvu/blob/master/readme.ipynb)[__github__](https://github.com/tonyfast/gvu)"
         ]
        },
        {
         "cell_type": "markdown",
         "metadata": {},
         "source": [
          "#  [Project Jupyter and the rise of literate computing](https://www.cc.gatech.edu/hg/item/613206)\n",
          "\n",
          "* By: Tony Fast [@docfast](https://twitter.com/DocFast)\n",
          "* Thursday, November 1, 2018\n",
          "* 11:30 am - 1:00 pm\n",
          "* Location: Technology Square Research Building, 1st Floor Ballroom, Atlanta, Ga\n",
          "* URL: Technology Square Research Building, 1st Floor Ballroom, Atlanta, Ga\n",
          "\n",
          "Project Jupyter is a growing ecosystem of free, open source scientific software for literate and interactive computing.  Jupyter's Notebook, and related experiences, are becoming standard interfaces for scientists and engineers in physical and social sciences.  The notebook interface is impacting the broader landscapes of research, computing, and teaching where communicating data and code are essential; the stakeholders span industry, academia, and philanthropy.  \n",
          "\n",
          "This talk will review the history of Project Jupyter as scientific software born from the Scientific Python (SciPy) community.  Since its inception, the community has extended Jupyter to work with over 50 different languages and provided new options for interactive development, research and presentation, including JupyterLab, the next generation of the Notebook.  In the broader open source community we find Jupyter tools for grading, batch processing, app development, documentation, tests, and even source code.\n",
          "\n",
          "Notebook interfaces compose literate documents that provide the ability to share human and machine readable knowledge within organizations across diverse disciplines.  This talk will highlight recent case studies in Jupyter transforming classroom education, massive collaboration in physics, data-driven journalism, and the entire multimedia experience of learning.\n",
          "\n",
          "## [Section 1](src/0.md.ipynb)\n",
          "## [Section 2](src/2.md.ipynb)\n",
          "## [Section 3](src/3.md.ipynb)"
         ]
        },
        {
         "cell_type": "markdown",
         "metadata": {},
         "source": [
          "# Today we are going to talk about:\n",
          "\n",
          "* Project Jupyter.\n",
          "* Adapting to open source software.\n",
          "* Computational essays for people and computers.\n",
          "* Sharing notebooks.\n",
          "    [![Binder](https://mybinder.org/badge.svg)](https://mybinder.org/v2/gh/tonyfast/gvu/master)[__nbviewer__](http://nbviewer.jupyter.org/github/tonyfast/gvu/blob/master/readme.ipynb)[__github__](https://github.com/tonyfast/gvu)\n",
          "* How word processing is evolving to include code and data.\n",
          "    * Visualization is a subset of the document."
         ]
        },
        {
         "cell_type": "markdown",
         "metadata": {},
         "source": [
          "# About the presentation:\n",
          "\n",
          "* This presentation is written in notebooks.\n",
          "* The presentation in given in [__JupyterLab__](https://jupyterlab.readthedocs.io).\n",
          "* All of the notebook can be read on [__nbviewer__](http://nbviewer.jupyter.org/github/tonyfast/gvu/blob/master/readme.ipynb) or [__github__](https://github.com/tonyfast/gvu).\n",
          "* You can run these notebooks on [__MyBinder__](https://mybinder.org) [![Binder](https://mybinder.org/badge.svg)](https://mybinder.org/v2/gh/tonyfast/gvu/master)\n",
          "* Please feel free if you have an questions about the implementation of the presentation.  The  notebooks in this project can be viewed on nbviewer and binder."
         ]
        },
        {
         "cell_type": "code",
         "execution_count": 8,
         "metadata": {},
         "outputs": [
          {
           "name": "stderr",
           "output_type": "stream",
           "text": [
            "[NbConvertApp] Converting notebook readme.ipynb to markdown\n",
            "[NbConvertApp] Writing 3513 bytes to readme.md\n"
           ]
          }
         ],
         "source": [
          "    if __name__ == '__main__':\n",
          "        !jupyter nbconvert --to markdown readme.ipynb"
         ]
        },
        {
         "cell_type": "code",
         "execution_count": null,
         "metadata": {},
         "outputs": [],
         "source": []
        }
       ],
       "metadata": {
        "kernelspec": {
         "display_name": "Python 3",
         "language": "python",
         "name": "python3"
        },
        "language_info": {
         "codemirror_mode": {
          "name": "ipython",
          "version": 3
         },
         "file_extension": ".py",
         "mimetype": "text/x-python",
         "name": "python",
         "nbconvert_exporter": "python",
         "pygments_lexer": "ipython3",
         "version": "3.6.6"
        }
       },
       "nbformat": 4,
       "nbformat_minor": 2
      },
      "text/plain": [
       "__main__.json_viewer"
      ]
     },
     "metadata": {
      "application/json": {
       "expanded": false,
       "root": "root"
      }
     },
     "output_type": "display_data"
    },
    {
     "data": {
      "text/markdown": [
       "# The Notebook is data \n",
       "\n",
       "> [Demo](demos.ipynb)\n",
       "\n",
       "```\n",
       "import nbformat, json```\n",
       "\n",
       "The notebook is `json`.\n",
       "\n",
       "    with open('../readme.ipynb') as f: \n",
       "        __notebook__ = json.load(f)    \n",
       "\n",
       "---\n",
       "### The __notebook__ has a schema that can be validated with the core library `nbformat`.\n",
       "\n",
       "    assert nbformat.validate(__notebook__) is None\n",
       "If `nbformat.validate` returns `None`, the notebook is valid.\n",
       "\n",
       "---\n",
       "Each time the notebook format matures its schema is versioned: `nbformat.v4`, `nbformat.v3`, `nbformat.v2`, `nbformat.v1`\n",
       "\n",
       "---\n",
       "The `IPython.display.JSON` explorer below is generated from this `__notebook__` being used right now in this demostration. \n",
       "> This display view has search abilities!\n",
       "---\n",
       "None"
      ],
      "text/plain": [
       "__main__.outputs"
      ]
     },
     "metadata": {},
     "output_type": "display_data"
    },
    {
     "data": {
      "text/markdown": [
       "---\n",
       "---\n",
       "---\n",
       "---\n",
       "---\n",
       "---\n",
       "---\n",
       "---\n",
       "---\n",
       "---\n",
       "---\n",
       "---\n",
       "---\n",
       "---\n",
       "---\n"
      ],
      "text/plain": [
       "<IPython.core.display.Markdown object>"
      ]
     },
     "metadata": {},
     "output_type": "display_data"
    },
    {
     "data": {
      "text/html": [
       "<div style=\"display: flex; flex-direction: column\"><div style=\"flex: 1\"><h2>The <code>nbformat</code> is reusable by other interfaces.</h2>\n",
       "<p><img src=\"https://jupyter.readthedocs.io/en/latest/_images/repos_map.png\" alt=\"\" /></p>\n",
       "</div><div style=\"flex: 1\"><div style=\"display: flex; flex-direction: row\"><div style=\"flex: 1\"><div style=\"display: flex; flex-direction: column\"><div style=\"flex: 1\"><h2>Notebook</h2>\n",
       "</div><div style=\"flex: 1\"><img src=\"https://jupyter.readthedocs.io/en/latest/_images/notebook_components.png\"></img></div></div></div><div style=\"flex: 1\"><div style=\"display: flex; flex-direction: column\"><div style=\"flex: 1\"><h2>nbconvert</h2>\n",
       "</div><div style=\"flex: 1\"><img src=\"https://jupyter.readthedocs.io/en/latest/_images/nbconvert.png\"></img></div></div></div></div></div><div style=\"flex: 1\"><div style=\"display: flex; flex-direction: row\"><div style=\"flex: 1\"><div style=\"display: flex; flex-direction: column\"><div style=\"flex: 1\"><iframe style=\"height: 400px; width: 100%\" src=\"https://nbconvert.readthedocs.io\"></iframe></div><div style=\"flex: 1\"><?xml version=\"1.0\" encoding=\"UTF-8\" standalone=\"no\"?><!DOCTYPE svg PUBLIC \"-//W3C//DTD SVG 1.1//EN\" \"http://www.w3.org/Graphics/SVG/1.1/DTD/svg11.dtd\"><!-- Generated by graphviz version 2.38.0 (20140413.2041) --><!-- Title: %3 Pages: 1 --><svg width=\"592pt\" height=\"116pt\" viewBox=\"0.00 0.00 591.59 116.00\" xmlns=\"http://www.w3.org/2000/svg\" xmlns:xlink=\"http://www.w3.org/1999/xlink\"><g id=\"graph0\" class=\"graph\" transform=\"scale(1 1) rotate(0) translate(4 112)\"><title>%3</title><polygon fill=\"white\" stroke=\"none\" points=\"-4,4 -4,-112 587.594,-112 587.594,4 -4,4\"/><!-- nbformat --><g id=\"node1\" class=\"node\"><title>nbformat</title><ellipse fill=\"none\" stroke=\"black\" cx=\"305.397\" cy=\"-90\" rx=\"44.393\" ry=\"18\"/><text text-anchor=\"middle\" x=\"305.397\" y=\"-86.3\" font-family=\"Times New Roman,serif\" font-size=\"14.00\">nbformat</text></g><!-- HTML --><g id=\"node2\" class=\"node\"><title>HTML</title><ellipse fill=\"none\" stroke=\"black\" cx=\"36.3968\" cy=\"-18\" rx=\"36.2938\" ry=\"18\"/><text text-anchor=\"middle\" x=\"36.3968\" y=\"-14.3\" font-family=\"Times New Roman,serif\" font-size=\"14.00\">HTML</text></g><!-- nbformat&#45;&#45;HTML --><g id=\"edge1\" class=\"edge\"><title>nbformat&#45;&#45;HTML</title><path fill=\"none\" stroke=\"black\" d=\"M266.344,-81.2116C221.524,-71.9297 146.007,-55.2366 82.3968,-36 76.3661,-34.1763 69.9783,-31.9864 63.9437,-29.7945\"/></g><!-- LaTeX --><g id=\"node3\" class=\"node\"><title>LaTeX</title><ellipse fill=\"none\" stroke=\"black\" cx=\"127.397\" cy=\"-18\" rx=\"36.2938\" ry=\"18\"/><text text-anchor=\"middle\" x=\"127.397\" y=\"-14.3\" font-family=\"Times New Roman,serif\" font-size=\"14.00\">LaTeX</text></g><!-- nbformat&#45;&#45;LaTeX --><g id=\"edge2\" class=\"edge\"><title>nbformat&#45;&#45;LaTeX</title><path fill=\"none\" stroke=\"black\" d=\"M274.797,-76.9666C241.101,-63.7151 187.407,-42.5996 154.969,-29.843\"/></g><!-- PDF --><g id=\"node4\" class=\"node\"><title>PDF</title><ellipse fill=\"none\" stroke=\"black\" cx=\"209.397\" cy=\"-18\" rx=\"27.8951\" ry=\"18\"/><text text-anchor=\"middle\" x=\"209.397\" y=\"-14.3\" font-family=\"Times New Roman,serif\" font-size=\"14.00\">PDF</text></g><!-- nbformat&#45;&#45;PDF --><g id=\"edge3\" class=\"edge\"><title>nbformat&#45;&#45;PDF</title><path fill=\"none\" stroke=\"black\" d=\"M284.566,-73.811C267.471,-61.3459 243.521,-43.882 227.283,-32.0421\"/></g><!-- Markdown --><g id=\"node5\" class=\"node\"><title>Markdown</title><ellipse fill=\"none\" stroke=\"black\" cx=\"305.397\" cy=\"-18\" rx=\"50.0912\" ry=\"18\"/><text text-anchor=\"middle\" x=\"305.397\" y=\"-14.3\" font-family=\"Times New Roman,serif\" font-size=\"14.00\">Markdown</text></g><!-- nbformat&#45;&#45;Markdown --><g id=\"edge4\" class=\"edge\"><title>nbformat&#45;&#45;Markdown</title><path fill=\"none\" stroke=\"black\" d=\"M305.397,-71.6966C305.397,-60.8463 305.397,-46.9167 305.397,-36.1043\"/></g><!-- RST --><g id=\"node6\" class=\"node\"><title>RST</title><ellipse fill=\"none\" stroke=\"black\" cx=\"402.397\" cy=\"-18\" rx=\"28.6953\" ry=\"18\"/><text text-anchor=\"middle\" x=\"402.397\" y=\"-14.3\" font-family=\"Times New Roman,serif\" font-size=\"14.00\">RST</text></g><!-- nbformat&#45;&#45;RST --><g id=\"edge5\" class=\"edge\"><title>nbformat&#45;&#45;RST</title><path fill=\"none\" stroke=\"black\" d=\"M326.444,-73.811C343.717,-61.3459 367.917,-43.882 384.324,-32.0421\"/></g><!-- py --><g id=\"node7\" class=\"node\"><title>py</title><ellipse fill=\"none\" stroke=\"black\" cx=\"476.397\" cy=\"-18\" rx=\"27\" ry=\"18\"/><text text-anchor=\"middle\" x=\"476.397\" y=\"-14.3\" font-family=\"Times New Roman,serif\" font-size=\"14.00\">py</text></g><!-- nbformat&#45;&#45;py --><g id=\"edge6\" class=\"edge\"><title>nbformat&#45;&#45;py</title><path fill=\"none\" stroke=\"black\" d=\"M337.01,-77.2756C364.526,-66.9083 405.376,-51.1229 440.397,-36 445.219,-33.9175 450.351,-31.5732 455.184,-29.306\"/></g><!-- ipynb --><g id=\"node8\" class=\"node\"><title>ipynb</title><ellipse fill=\"none\" stroke=\"black\" cx=\"552.397\" cy=\"-18\" rx=\"31.3957\" ry=\"18\"/><text text-anchor=\"middle\" x=\"552.397\" y=\"-14.3\" font-family=\"Times New Roman,serif\" font-size=\"14.00\">ipynb</text></g><!-- nbformat&#45;&#45;ipynb --><g id=\"edge7\" class=\"edge\"><title>nbformat&#45;&#45;ipynb</title><path fill=\"none\" stroke=\"black\" d=\"M344.055,-80.9399C386.023,-71.7662 454.768,-55.4991 512.397,-36 517.686,-34.2104 523.26,-32.0349 528.511,-29.8462\"/></g></g></svg>\n",
       "</div></div></div><div style=\"flex: 1\"><iframe style=\"height: 400px; width: 100%\" src=\"https://nbconvert.readthedocs.io/en/latest/api/exporters.html#specialized-exporter-classes\"></iframe></div></div></div><div style=\"flex: 1\"><div style=\"display: flex; flex-direction: row\"><div style=\"flex: 1\"><iframe style=\"height: 400px; width: 100%\" src=\"https://blog.github.com/2015-05-07-github-jupyter-notebooks-3/\"></iframe></div><div style=\"flex: 1\"><p>colab</p>\n",
       "</div><div style=\"flex: 1\"><iframe style=\"height: 400px; width: 100%\" src=\"https://cocalc.com\"></iframe></div></div></div><div style=\"flex: 1\"><div style=\"display: flex; flex-direction: row\"><div style=\"flex: 1\"><iframe style=\"height: 400px; width: 100%\" src=\"http://nbviewer.jupyter.org\"></iframe></div><div style=\"flex: 1\"><iframe style=\"height: 400px; width: 100%\" src=\"https://mybinder.org\"></iframe></div></div></div></div>"
      ],
      "text/plain": [
       "__main__.interfaces"
      ]
     },
     "metadata": {},
     "output_type": "display_data"
    },
    {
     "data": {
      "text/markdown": [
       "---\n",
       "---\n",
       "---\n",
       "---\n",
       "---\n",
       "---\n",
       "---\n",
       "---\n",
       "---\n",
       "---\n",
       "---\n",
       "---\n",
       "---\n",
       "---\n",
       "---\n"
      ],
      "text/plain": [
       "<IPython.core.display.Markdown object>"
      ]
     },
     "metadata": {},
     "output_type": "display_data"
    },
    {
     "data": {
      "text/html": [
       "<div style=\"display: flex; flex-direction: column\"><div style=\"flex: 1\"><div style=\"display: flex; flex-direction: row\"><div style=\"flex: 1\"><p>An idea in a notebook can be reused and tested.</p>\n",
       "<pre><code class=\"language-if\">    !jupyter nbconvert --execute ../readme.ipynb\n",
       "</code></pre>\n",
       "</div><div style=\"flex: 1\"><iframe style=\"height: 400px; width: 100%\" src=\"https://nbconvert.readthedocs.io/en/latest/execute_api.html#executing-notebooks-from-the-command-line\"></iframe></div></div></div><div style=\"flex: 1\"><div style=\"display: flex; flex-direction: row\"><div style=\"flex: 1\"><iframe style=\"height: 400px; width: 100%\" src=\"http://nbviewer.jupyter.org/github/deathbeds/importnb/blob/master/readme.ipynb\"></iframe></div><div style=\"flex: 1\"><iframe style=\"height: 400px; width: 100%\" src=\"https://papermill.readthedocs.io/en/latest/\"></iframe></div><div style=\"flex: 1\"><iframe style=\"height: 400px; width: 100%\" src=\"https://nbval.readthedocs.io/en/latest/\"></iframe></div></div></div><div style=\"flex: 1\">None</div></div>"
      ],
      "text/plain": [
       "__main__.testing"
      ]
     },
     "metadata": {},
     "output_type": "display_data"
    },
    {
     "data": {
      "text/markdown": [
       "---\n",
       "---\n",
       "---\n",
       "---\n",
       "---\n",
       "---\n",
       "---\n",
       "---\n",
       "---\n",
       "---\n",
       "---\n",
       "---\n",
       "---\n",
       "---\n",
       "---\n"
      ],
      "text/plain": [
       "<IPython.core.display.Markdown object>"
      ]
     },
     "metadata": {},
     "output_type": "display_data"
    },
    {
     "data": {
      "text/html": [
       "<div style=\"display: flex; flex-direction: column\"><div style=\"flex: 1\"><h2>There are many <code>outputs</code>.</h2>\n",
       "</div><div style=\"flex: 1\"><div style=\"display: flex; flex-direction: row\"><div style=\"flex: 1\"><div style=\"display: flex; flex-direction: column\"><div style=\"flex: 1\"><iframe style=\"height: 400px; width: 100%\" src=\"http://jeffskinnerbox.me/notebooks/ipython&#x27;s-rich-display-system.html\"></iframe></div><div style=\"flex: 1\"><p><a href=\"#IPython.Audio\"><code>Audio</code></a>   <a href=\"#IPython.Code\"><code>Code</code></a>   <a href=\"#IPython.DisplayHandle\"><code>DisplayHandle</code></a>   <a href=\"#IPython.DisplayObject\"><code>DisplayObject</code></a>   <a href=\"#IPython.FileLink\"><code>FileLink</code></a>   <a href=\"#IPython.FileLinks\"><code>FileLinks</code></a>   <a href=\"#IPython.GeoJSON\"><code>GeoJSON</code></a>   <a href=\"#IPython.HTML\"><code>HTML</code></a>   <a href=\"#IPython.IFrame\"><code>IFrame</code></a>   <a href=\"#IPython.Image\"><code>Image</code></a>   <a href=\"#IPython.JSON\"><code>JSON</code></a>   <a href=\"#IPython.Javascript\"><code>Javascript</code></a>   <a href=\"#IPython.Latex\"><code>Latex</code></a>   <a href=\"#IPython.Markdown\"><code>Markdown</code></a>   <a href=\"#IPython.Math\"><code>Math</code></a>   <a href=\"#IPython.Pretty\"><code>Pretty</code></a>   <a href=\"#IPython.ProgressBar\"><code>ProgressBar</code></a>   <a href=\"#IPython.SVG\"><code>SVG</code></a>   <a href=\"#IPython.ScribdDocument\"><code>ScribdDocument</code></a>   <a href=\"#IPython.TextDisplayObject\"><code>TextDisplayObject</code></a>   <a href=\"#IPython.Video\"><code>Video</code></a>   <a href=\"#IPython.VimeoVideo\"><code>VimeoVideo</code></a>   <a href=\"#IPython.YouTubeVideo\"><code>YouTubeVideo</code></a></p>\n",
       "</div></div></div><div style=\"flex: 1\"><iframe style=\"height: 400px; width: 100%\" src=\"https://nbviewer.jupyter.org/github/jupyterlab/jupyter-renderers/tree/master/notebooks\"></iframe></div></div></div><div style=\"flex: 1\"><h1>Displays are customizable.</h1>\n",
       "</div><div style=\"flex: 1\"><iframe style=\"height: 400px; width: 100%\" src=\"https://ipython.readthedocs.io/en/stable/config/integrating.html\"></iframe></div><div style=\"flex: 1\"><p>Projects like <code>pandas</code>, <code>sympy</code>, and <code>graphviz</code> customize the IPython display attributes.</p>\n",
       "</div><div style=\"flex: 1\"><p><a href=\"demos.ipynb\">Demo</a></p>\n",
       "</div></div>"
      ],
      "text/plain": [
       "__main__.displays"
      ]
     },
     "metadata": {},
     "output_type": "display_data"
    },
    {
     "data": {
      "text/markdown": [
       "---\n",
       "---\n",
       "---\n",
       "---\n",
       "---\n",
       "---\n",
       "---\n",
       "---\n",
       "---\n",
       "---\n",
       "---\n",
       "---\n",
       "---\n",
       "---\n",
       "---\n"
      ],
      "text/plain": [
       "<IPython.core.display.Markdown object>"
      ]
     },
     "metadata": {},
     "output_type": "display_data"
    },
    {
     "data": {
      "text/html": [
       "<div style=\"display: flex; flex-direction: column\"><div style=\"flex: 1\"><div style=\"display: flex; flex-direction: row\"><div style=\"flex: 1\"><iframe style=\"height: 400px; width: 100%\" src=\"https://ipywidgets.readthedocs.io/en/stable/examples/Widget%20List.html\"></iframe></div><div style=\"flex: 1\"><iframe style=\"height: 400px; width: 100%\" src=\"https://ipywidgets.readthedocs.io/en/stable/examples/Using%20Interact.html\"></iframe></div></div></div><div style=\"flex: 1\"><p><a href=\"demos.ipynb\">demos.ipynb</a></p>\n",
       "</div></div>"
      ],
      "text/plain": [
       "__main__.widgets"
      ]
     },
     "metadata": {},
     "output_type": "display_data"
    },
    {
     "data": {
      "text/markdown": [
       "---\n",
       "---\n",
       "---\n",
       "---\n",
       "---\n",
       "---\n",
       "---\n",
       "---\n",
       "---\n",
       "---\n",
       "---\n",
       "---\n",
       "---\n",
       "---\n",
       "---\n"
      ],
      "text/plain": [
       "<IPython.core.display.Markdown object>"
      ]
     },
     "metadata": {},
     "output_type": "display_data"
    }
   ],
   "source": [
    "    IPython.display.display(\n",
    "        *__import__('itertools').chain(*((IPython.display.Markdown(\"---\\n\"*15), object) for object in (\n",
    "            composition,\n",
    "            literateprogramming,\n",
    "            inputs,\n",
    "            bilingual,\n",
    "            outputs,\n",
    "            interfaces,\n",
    "            testing,\n",
    "            displays,\n",
    "            widgets,\n",
    "            kernels,\n",
    "            architecture,\n",
    "            summary\n",
    "        ))))"
   ]
  },
  {
   "cell_type": "code",
   "execution_count": null,
   "metadata": {},
   "outputs": [],
   "source": []
  }
 ],
 "metadata": {
  "kernelspec": {
   "display_name": "Python 3",
   "language": "python",
   "name": "python3"
  },
  "language_info": {
   "codemirror_mode": {
    "name": "ipython",
    "version": 3
   },
   "file_extension": ".py",
   "mimetype": "text/x-python",
   "name": "python",
   "nbconvert_exporter": "python",
   "pygments_lexer": "ipython3",
   "version": "3.6.6"
  }
 },
 "nbformat": 4,
 "nbformat_minor": 2
}
