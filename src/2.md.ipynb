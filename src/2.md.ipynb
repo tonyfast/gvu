{
 "cells": [
  {
   "cell_type": "markdown",
   "metadata": {},
   "source": [
    "# Literate computing places focus on human readable computing documents.\n",
    "\n",
    "In this section, we discuss fundamental aspects of notebooks as data and documents.  We introduce literate computing, computational essays, and literate programming.  We discuss so core tools to create derived documents and shared from notebooks."
   ]
  },
  {
   "cell_type": "code",
   "execution_count": 1,
   "metadata": {},
   "outputs": [],
   "source": [
    "%reload_ext pidgin.shell\n",
    "%reload_ext pidgin.display"
   ]
  },
  {
   "cell_type": "code",
   "execution_count": 2,
   "metadata": {},
   "outputs": [],
   "source": [
    "    import IPython"
   ]
  },
  {
   "cell_type": "markdown",
   "metadata": {},
   "source": [
    "# Notebooks present an new challenge in `composition`.\n",
    "\n",
    "What are best practices for intermingling code, narrative, and live data.  There are `diagrams` to complement the slide.\n",
    "\n",
    "(Text+Figures+Tables)(Code, Data)"
   ]
  },
  {
   "cell_type": "markdown",
   "metadata": {},
   "source": [
    "## The `composition` of notebooks \n",
    "\n",
    "Notebooks are [computational essays](http://blog.stephenwolfram.com/2017/11/what-is-a-computational-essay/) created by \n",
    "the act of [literate computing](http://blog.fperez.org/2013/04/literate-computing-and-computational.html).  Both concepts\n",
    "overlap with `literateprogramming`."
   ]
  },
  {
   "cell_type": "code",
   "execution_count": 3,
   "metadata": {},
   "outputs": [],
   "source": [
    "    \n",
    "    class diagrams:\n",
    "---\n",
    ">\n",
    "  Literate computing is the act of creating a computational essays.  The {{\"graph {text input output }\"}} are the remnants from literate computing.\n",
    "---\n",
    "- >\n",
    "    digraph {\n",
    "        layout=neato edge[len=2]\n",
    "        subgraph cluster_essay {label=\"Computational Essays\" text->input->output->text } \n",
    "        subgraph cluster_computing {label=\"Literate Computing\" science->computing->data->science } \n",
    "        science->text[style=dotted] input->computing[style=dotted] output->data[style=dotted]\n",
    "    }\n",
    "- - >\n",
    "    digraph {\n",
    "        layout=neato edge[len=2]\n",
    "        subgraph cluster_essay {label=\"Computational Essays\" labelloc=b text input output} \n",
    "        subgraph cluster_computing {label=\"Literate Computing\" labelloc=b labeljust=r science computing data } \n",
    "        science->text->computing computing->input->data data->output->science\n",
    "        text->input->output->text\n",
    "    }\n",
    "  - \"### Literate computing + Computational Essays\"\n",
    "---\n",
    "\n",
    "    \n",
    "    class composition:\n",
    "---\n",
    "\"# Notebooks are computational essays that express human logic\"\n",
    "---\n",
    "- http://blog.stephenwolfram.com/2017/11/what-is-a-computational-essay/\n",
    "- http://blog.fperez.org/2013/04/literate-computing-and-computational.html\n",
    "---\n",
    "- - > \n",
    "    # Computational Essays\n",
    "    \n",
    "    * **[Stephen Wolfram](http://blog.stephenwolfram.com)** - _creator of [Mathematica]()_\n",
    "  \n",
    "    > There are basically three kinds of things here. First, __ordinary text__ (here in English). Second, computer __input__. And third, computer __output__. And the crucial point is that these _all work together_ to express what’s being communicated.\"\n",
    "\n",
    "- - >\n",
    "    # Literate Computing\n",
    "    \n",
    "    ```\n",
    "    get_ipython()\n",
    "    ```\n",
    "    \n",
    "    * **[Fernando Perez](http://blog.fperez.org)** - _creator of [IPython](https://ipython.readthedocs.io)_\n",
    "    \n",
    "    > Our job with IPython is to think deeply about questions regarding the intersection of __computing__, __data__ and __science__, but it's clear to me at this point that we can contribute in contexts beyond pure scientific research. I hope we'll be able to provide _folks who have a direct intersection with the public_, such as journalists, with tools that help a more informed and productive debate.\"\n",
    "---\n",
    "- \"[![](https://upload.wikimedia.org/wikipedia/commons/4/48/Data_driven_journalism_process.jpg)](https://en.wikipedia.org/wiki/Data-driven_journalism)\"\n",
    "- >\n",
    "    ## Data Science Venn Diagram\n",
    "    \n",
    "    * [__Drew Conway__](http://drewconway.com/)\n",
    "    \n",
    "    [![](https://static1.squarespace.com/static/5150aec6e4b0e340ec52710a/t/51525c33e4b0b3e0d10f77ab/1364352052403/Data_Science_VD.png)](http://drewconway.com/zia/2013/3/26/the-data-science-venn-diagram)\n",
    "---\n",
    ">\n",
    "  {{diagrams}}\n",
    "---\n",
    "\n",
    "    composition;"
   ]
  },
  {
   "cell_type": "markdown",
   "metadata": {},
   "source": [
    "## `literateprogramming` is computing for humans.\n",
    "\n",
    "Literate programs combine __imperative__ and __declarative__ styles of control flow in a natural ways that to convey human logic."
   ]
  },
  {
   "cell_type": "code",
   "execution_count": 4,
   "metadata": {},
   "outputs": [],
   "source": [
    "\n",
    "    class literateprogramming:\n",
    "---\n",
    "- \"> The practitioner of __literate programming__ can be regarded\n",
    "as an essayist, whose main concern is with exposition\n",
    "and excellence of style. ... He or she\n",
    "strives for a program that is comprehensible because its\n",
    "concepts have been introduced in an order that is best\n",
    "for human understanding, using a mixture of formal\n",
    "and informal methods that reinforce each other.\"\n",
    "- http://www.literateprogramming.com/knuthweb.pdf\n",
    "---\n",
    "- '> By coining the phrase “__literate\n",
    "programming__,” I am imposing a moral commitment\n",
    "on everyone who hears the term; surely nobody wants\n",
    "to admit writing an illiterate program.'\n",
    "---\n",
    "https://yakshav.es/the-patron-saint-of-yakshaves/\n",
    "---\n",
    "    \n",
    "        class WEB:\n",
    "> The main point is that WEB\n",
    "is __inherently bilingual__, and that such a combination of\n",
    "languages proves to be much more powerful than either\n",
    "single language by itself. _WEB does not make the other\n",
    "languages obsolete; on the contrary, it enhances them._\n",
    "\n",
    "    literateprogramming;"
   ]
  },
  {
   "cell_type": "markdown",
   "metadata": {},
   "source": [
    "## Introduce the different `inputs` types"
   ]
  },
  {
   "cell_type": "code",
   "execution_count": 21,
   "metadata": {},
   "outputs": [
    {
     "data": {
      "text/html": [
       "<div style=\"display: flex; flex-direction: column\"><div style=\"flex: 1\"><blockquote>\n",
       "<ol start=\"34\">\n",
       "<li>The string is a stark data structure and everywhere it is passed there is much duplication of process. It is a perfect vehicle for hiding information.</li>\n",
       "</ol>\n",
       "<blockquote>\n",
       "<p><a href=\"http://www.cs.yale.edu/homes/perlis-alan/quotes.html\">Perlisisms</a></p>\n",
       "</blockquote>\n",
       "</blockquote>\n",
       "</div><div style=\"flex: 1\"><h2>The notebook <code>inputs</code></h2>\n",
       "<p>The are few text inputs for notebook cells.</p>\n",
       "<ul>\n",
       "<li>Notebook cells allow <strong>bash</strong>, <strong>shell</strong>, and <strong>magic</strong> commands.</li>\n",
       "</ul>\n",
       "</div><div style=\"flex: 1\"><div style=\"display: flex; flex-direction: row\"><div style=\"flex: 1\"><?xml version=\"1.0\" encoding=\"UTF-8\" standalone=\"no\"?><!DOCTYPE svg PUBLIC \"-//W3C//DTD SVG 1.1//EN\" \"http://www.w3.org/Graphics/SVG/1.1/DTD/svg11.dtd\"><!-- Generated by graphviz version 2.38.0 (20140413.2041) --><!-- Title: %3 Pages: 1 --><svg width=\"301pt\" height=\"116pt\" viewBox=\"0.00 0.00 301.19 116.00\" xmlns=\"http://www.w3.org/2000/svg\" xmlns:xlink=\"http://www.w3.org/1999/xlink\"><g id=\"graph0\" class=\"graph\" transform=\"scale(1 1) rotate(0) translate(4 112)\"><title>%3</title><polygon fill=\"white\" stroke=\"none\" points=\"-4,4 -4,-112 297.195,-112 297.195,4 -4,4\"/><!-- Code --><g id=\"node1\" class=\"node\"><title>Code</title><ellipse fill=\"none\" stroke=\"black\" cx=\"71.8973\" cy=\"-90\" rx=\"30.5947\" ry=\"18\"/><text text-anchor=\"middle\" x=\"71.8973\" y=\"-86.3\" font-family=\"Times New Roman,serif\" font-size=\"14.00\">Code</text></g><!-- Input --><g id=\"node2\" class=\"node\"><title>Input</title><ellipse fill=\"none\" stroke=\"black\" cx=\"29.8973\" cy=\"-18\" rx=\"29.795\" ry=\"18\"/><text text-anchor=\"middle\" x=\"29.8973\" y=\"-14.3\" font-family=\"Times New Roman,serif\" font-size=\"14.00\">Input</text></g><!-- Code&#45;&#45;Input --><g id=\"edge1\" class=\"edge\"><title>Code&#45;&#45;Input</title><path fill=\"none\" stroke=\"black\" d=\"M62.1561,-72.7646C55.3709,-61.456 46.3593,-46.4367 39.5857,-35.1473\"/></g><!-- Output --><g id=\"node3\" class=\"node\"><title>Output</title><ellipse fill=\"none\" stroke=\"black\" cx=\"113.897\" cy=\"-18\" rx=\"36.2938\" ry=\"18\"/><text text-anchor=\"middle\" x=\"113.897\" y=\"-14.3\" font-family=\"Times New Roman,serif\" font-size=\"14.00\">Output</text></g><!-- Code&#45;&#45;Output --><g id=\"edge2\" class=\"edge\"><title>Code&#45;&#45;Output</title><path fill=\"none\" stroke=\"black\" d=\"M81.6386,-72.7646C88.3268,-61.6175 97.1783,-46.865 103.917,-35.6334\"/></g><!-- Markdown --><g id=\"node4\" class=\"node\"><title>Markdown</title><ellipse fill=\"none\" stroke=\"black\" cx=\"170.897\" cy=\"-90\" rx=\"50.0912\" ry=\"18\"/><text text-anchor=\"middle\" x=\"170.897\" y=\"-86.3\" font-family=\"Times New Roman,serif\" font-size=\"14.00\">Markdown</text></g><!-- Raw --><g id=\"node5\" class=\"node\"><title>Raw</title><ellipse fill=\"none\" stroke=\"black\" cx=\"265.897\" cy=\"-90\" rx=\"27.0966\" ry=\"18\"/><text text-anchor=\"middle\" x=\"265.897\" y=\"-86.3\" font-family=\"Times New Roman,serif\" font-size=\"14.00\">Raw</text></g></g></svg>\n",
       "</div><div style=\"flex: 1\"><p><a href=\"https://blog.jupyter.org/jupyterlab-is-ready-for-users-5a6f039b8906\"><img src=\"https://cdn-images-1.medium.com/max/800/1*_jDTWlZNUySwrRBgVNqoNw.png\" alt=\"\" /></a></p>\n",
       "</div></div></div><div style=\"flex: 1\"><div style=\"display: flex; flex-direction: row\"><div style=\"flex: 1\"><iframe style=\"height: 400px; width: 100%\" src=\"https://nbconvert.readthedocs.io/en/latest/customizing.html#Template-structure\"></iframe></div></div></div><div style=\"flex: 1\"><h1>Markdown and the Python <del>Kernel language</del> are primary languages.</h1>\n",
       "</div><div style=\"flex: 1\"><p><code>nbformat.v4.new_notebook</code> means that these cells may be combined programmatically <code>nbformat.v4.new_code_cell</code>, <code>nbformat.v4.new_markdown_cell</code>, <code>nbformat.v4.new_raw_cell</code></p>\n",
       "</div><div style=\"flex: 1\"><iframe style=\"height: 400px; width: 100%\" src=\"http://nbviewer.jupyter.org/github/deathbeds/deathbeds.github.io/blob/master/deathbeds/2018-08-03-A-case-for-indented-code.ipynb\"></iframe></div></div>"
      ],
      "text/plain": [
       "__main__.inputs"
      ]
     },
     "execution_count": 21,
     "metadata": {},
     "output_type": "execute_result"
    }
   ],
   "source": [
    "    \n",
    "    class inputs:\n",
    "---\n",
    "\"> 34. The string is a stark data structure and everywhere it is passed there is much duplication of process. It is a perfect vehicle for hiding information.\n",
    "\n",
    "> > [Perlisisms](http://www.cs.yale.edu/homes/perlis-alan/quotes.html)\n",
    "\"\n",
    "---\n",
    "\"## The notebook `inputs`\n",
    "\n",
    "The are few text inputs for notebook cells.\n",
    "\n",
    "* Notebook cells allow __bash__, __shell__, and __magic__ commands.\n",
    "\"\n",
    "---\n",
    "- graph {Code--{Input Output} Markdown Raw}\n",
    "- \"[![](https://cdn-images-1.medium.com/max/800/1*_jDTWlZNUySwrRBgVNqoNw.png)](https://blog.jupyter.org/jupyterlab-is-ready-for-users-5a6f039b8906)\"\n",
    "---\n",
    "- https://nbconvert.readthedocs.io/en/latest/customizing.html#Template-structure\n",
    "---\n",
    "\"# Markdown and the Python <del>Kernel language</del> are primary languages.\"\n",
    "---\n",
    "\"`nbformat.v4.new_notebook` means that these cells may be combined programmatically `nbformat.v4.new_code_cell`, `nbformat.v4.new_markdown_cell`, `nbformat.v4.new_raw_cell`\"\n",
    "---\n",
    "http://nbviewer.jupyter.org/github/deathbeds/deathbeds.github.io/blob/master/deathbeds/2018-08-03-A-case-for-indented-code.ipynb\n",
    "---\n",
    "    \n",
    "    inputs"
   ]
  },
  {
   "cell_type": "markdown",
   "metadata": {},
   "source": [
    "### Notebooks and literate programs are similar because they are multilingual."
   ]
  },
  {
   "cell_type": "code",
   "execution_count": 6,
   "metadata": {},
   "outputs": [],
   "source": [
    "    \n",
    "    class bilingual:\n",
    "---\n",
    "\"## WEB is an implementation of literate programming.\"\n",
    "---\n",
    "- \"{{literateprogramming.WEB}}\"\n",
    "---\n",
    "- graph {rankdir=LR science--computing--data--science}\n",
    "- \"> Increasingly, collaborative science is evolving computing as a scientific language; and open source\n",
    "is leading the charge.\"\n"
   ]
  },
  {
   "cell_type": "markdown",
   "metadata": {},
   "source": [
    "## `outputs` discusses the `json` data format of notebooks.\n",
    "\n",
    "[`nbformat`]() is the native package to use notebook data.\n",
    "\n",
    "The compute `outputs` are logged as `json` data."
   ]
  },
  {
   "cell_type": "code",
   "execution_count": 8,
   "metadata": {},
   "outputs": [],
   "source": [
    "    import nbformat, json\n",
    "    with open('../readme.ipynb') as f: __notebook__ = json.load(f)\n",
    "    assert nbformat.validate(__notebook__) is None"
   ]
  },
  {
   "cell_type": "code",
   "execution_count": 9,
   "metadata": {},
   "outputs": [],
   "source": [
    "    \n",
    "    class json_viewer:\n",
    "        __doc__ = IPython.display.JSON(__notebook__)\n",
    "        \n",
    "    class outputs:\n",
    "# The Notebook is data \n",
    "\n",
    "> [Demo](demos.ipynb)\n",
    "\n",
    "```\n",
    "import nbformat, json```\n",
    "\n",
    "The notebook is `json`.\n",
    "\n",
    "    with open('../readme.ipynb') as f: \n",
    "        __notebook__ = json.load(f)    \n",
    "\n",
    "---\n",
    "### The __notebook__ has a schema that can be validated with the core library `nbformat`.\n",
    "\n",
    "    assert nbformat.validate(__notebook__) is None\n",
    "If `nbformat.validate` returns `None`, the notebook is valid.\n",
    "\n",
    "---\n",
    "Each time the notebook format matures its schema is versioned: `nbformat.v4`, `nbformat.v3`, `nbformat.v2`, `nbformat.v1`\n",
    "\n",
    "---\n",
    "The `IPython.display.JSON` explorer below is generated from this `__notebook__` being used right now in this demostration. \n",
    "> This display view has search abilities!\n",
    "---\n",
    "{{IPython.display.display(json_viewer)}}"
   ]
  },
  {
   "cell_type": "markdown",
   "metadata": {},
   "source": [
    "## The `nbformat` is reusable by other `interfaces`."
   ]
  },
  {
   "cell_type": "code",
   "execution_count": 10,
   "metadata": {},
   "outputs": [],
   "source": [
    "    \n",
    "    class interfaces:\n",
    "---\n",
    "\"## The `nbformat` is reusable by other interfaces.\n",
    "\n",
    "![](https://jupyter.readthedocs.io/en/latest/_images/repos_map.png)\"\n",
    "---\n",
    "- - '## Notebook'\n",
    "  - https://jupyter.readthedocs.io/en/latest/_images/notebook_components.png\n",
    "- - '## nbconvert'\n",
    "  - https://jupyter.readthedocs.io/en/latest/_images/nbconvert.png\n",
    "---\n",
    "- - \"https://nbconvert.readthedocs.io\"\n",
    "  - graph {nbformat--{HTML LaTeX PDF Markdown RST py ipynb}}\n",
    "- \"https://nbconvert.readthedocs.io/en/latest/api/exporters.html#specialized-exporter-classes\"\n",
    "---\n",
    "- https://blog.github.com/2015-05-07-github-jupyter-notebooks-3/\n",
    "- colab\n",
    "- https://cocalc.com\n",
    "---\n",
    "- http://nbviewer.jupyter.org\n",
    "- https://mybinder.org\n",
    "---\n",
    "\n",
    "    interfaces;"
   ]
  },
  {
   "cell_type": "markdown",
   "metadata": {},
   "source": [
    "## `templating` and live data\n",
    "\n",
    "`templating` allows data to become a display string."
   ]
  },
  {
   "cell_type": "code",
   "execution_count": 11,
   "metadata": {},
   "outputs": [],
   "source": [
    "    \n",
    "    class templating:\n",
    "---\n",
    "\"## Templating allows live data to be placed into strings and displays.\"\n",
    "---\n",
    "- https://jekyllrb.com/docs/liquid/\n",
    "- http://jinja.pocoo.org\n",
    "- https://cito.github.io/blog/f-strings/\n",
    "---\n",
    "    \n",
    "    templating;"
   ]
  },
  {
   "cell_type": "markdown",
   "metadata": {},
   "source": [
    "## Reusing notebooks is `testing`."
   ]
  },
  {
   "cell_type": "code",
   "execution_count": 12,
   "metadata": {},
   "outputs": [],
   "source": [
    "    \n",
    "    class testing:\n",
    "---\n",
    "- >\n",
    "  An idea in a notebook can be reused and tested.\n",
    "    \n",
    "  ```\n",
    "  if __name__ == '__main__':\n",
    "      !jupyter nbconvert --execute ../readme.ipynb\n",
    "  ```\n",
    "- \"https://nbconvert.readthedocs.io/en/latest/execute_api.html#executing-notebooks-from-the-command-line\"\n",
    "---\n",
    "---\n",
    "- http://nbviewer.jupyter.org/github/deathbeds/importnb/blob/master/readme.ipynb\n",
    "- https://papermill.readthedocs.io/en/latest/\n",
    "- https://nbval.readthedocs.io/en/latest/\n",
    "---\n",
    "## Valid code requires that it can be read and understood from top to bottom, just like text.\n",
    "---\n",
    "\n",
    "    testing;"
   ]
  },
  {
   "cell_type": "markdown",
   "metadata": {},
   "source": [
    "## Jupyter provides rich `displays`"
   ]
  },
  {
   "cell_type": "code",
   "execution_count": 13,
   "metadata": {},
   "outputs": [],
   "source": [
    "    \n",
    "    display_names = '&nbsp;&nbsp; '.join(f\"[`{str}`](#IPython.{str})\" for str in dir(IPython.display) if str[0].isupper())\n",
    "    class displays:\n",
    "---\n",
    "\"## There are many `outputs`.\"\n",
    "---\n",
    "- - http://jeffskinnerbox.me/notebooks/ipython's-rich-display-system.html\n",
    "  - \"{{display_names}}\"\n",
    "- https://nbviewer.jupyter.org/github/jupyterlab/jupyter-renderers/tree/master/notebooks\n",
    "---\n",
    "\"# Displays are customizable.\"\n",
    "---\n",
    "https://ipython.readthedocs.io/en/stable/config/integrating.html\n",
    "---\n",
    "Projects like `pandas`, `sympy`, and `graphviz` customize the IPython display attributes.\n",
    "---\n",
    "\"[Demo](demos.ipynb)\"\n",
    "---\n",
    "    \n",
    "    displays;"
   ]
  },
  {
   "cell_type": "markdown",
   "metadata": {},
   "source": [
    "### `widgets` are interactive displays\n"
   ]
  },
  {
   "cell_type": "code",
   "execution_count": 14,
   "metadata": {},
   "outputs": [],
   "source": [
    "    \n",
    "    class widgets:\n",
    "---\n",
    "- https://ipywidgets.readthedocs.io/en/stable/examples/Widget%20List.html\n",
    "- https://ipywidgets.readthedocs.io/en/stable/examples/Using%20Interact.html\n",
    "---\n",
    "\"[demos.ipynb](demos.ipynb)\"\n",
    "\n",
    "    widgets;"
   ]
  },
  {
   "cell_type": "markdown",
   "metadata": {},
   "source": [
    "## `kernels` are interfaces to other languages, grammars, or syntaxes."
   ]
  },
  {
   "cell_type": "code",
   "execution_count": 15,
   "metadata": {},
   "outputs": [],
   "source": [
    "    \n",
    "    class colors:\n",
    "# <span style=\"color:darkorange;\">JUPY</span>TE<span style=\"color:darkorange;\">R</span>\n",
    "\n",
    "    class combination:\n",
    "---\n",
    "- '{{colors}}'\n",
    "- - '### <span style=\"color:darkorange;\">Ju</span>lia'\n",
    "  - '### <span style=\"color:darkorange;\">Py</span>thon'\n",
    "  - '### I<span style=\"color:darkorange;\">Py</span>thon'\n",
    "  - '### <span style=\"color:darkorange;\">R</span>'\n",
    "---\n",
    "\n",
    "    class main_kernels:\n",
    "---\n",
    "\"{{combination}}\"\n",
    "---\n",
    "- \"[![](https://raw.githubusercontent.com/JuliaLang/IJulia.jl/master/deps/ijulialogo.png)](https://github.com/JuliaLang/IJulia.jl)\"\n",
    "- http://ipython.readthedocs.io/\n",
    "- https://irkernel.github.io/\n",
    "---\n",
    "- https://xeus.readthedocs.io/en/latest/\n",
    "- https://www.rdocumentation.org/packages/JuniperKernel/versions/1.2.3.0"
   ]
  },
  {
   "cell_type": "code",
   "execution_count": 16,
   "metadata": {},
   "outputs": [],
   "source": [
    "    \n",
    "    class kernels:\n",
    "---\n",
    "http://nbviewer.jupyter.org/gist/fperez/5b49246af4e340c37549265a90894ce6/polyglot-ds.ipynb\n",
    "---\n",
    "\"{{main_kernels}}\"\n",
    "---\n",
    ">\n",
    "  ### Literate programs & computational essays are multilingual\n",
    "\n",
    "  There are __{{len(kernels.kernel_list)}}__ kernels(languages).\n",
    "\n",
    "  {{', '.join(kernels.kernel_list.Name.apply(\"`{}`\".format))}}\n",
    "    \n",
    "        kernel_list = __import__('pandas').read_html(\"https://github.com/jupyter/jupyter/wiki/Jupyter-kernels\")[0]\n",
    "\n",
    "    kernels;"
   ]
  },
  {
   "cell_type": "markdown",
   "metadata": {},
   "source": [
    "### `architecture` illustrates the different types of kernels."
   ]
  },
  {
   "cell_type": "code",
   "execution_count": 17,
   "metadata": {},
   "outputs": [],
   "source": [
    "    \n",
    "    class architecture:\n",
    "---\n",
    "- https://jupyter.readthedocs.io/en/latest/_images/ipy_kernel_and_terminal.png\n",
    "- https://jupyter.readthedocs.io/en/latest/_images/other_kernels.png\n",
    "---\n",
    "    \n",
    "    architecture;"
   ]
  },
  {
   "cell_type": "markdown",
   "metadata": {},
   "source": [
    "## A summary of this section"
   ]
  },
  {
   "cell_type": "code",
   "execution_count": 18,
   "metadata": {},
   "outputs": [],
   "source": [
    "    \n",
    "    class summary:\n",
    "* Literate programming focuses on human logic, and can capture domain knowledge.\n",
    "* Real data is becoming part of a document and `templating` is necessary for formatting data into documents.\n",
    "* Jupyter provides a natural interface to tangle and weave computational essays with literate computing practices.\n",
    "* Your future self is a collaborator.\n",
    "* A lot of notebooks is a lot of data.\n",
    "* Style evolves over time.\n",
    "* Notebooks are readable and reusable."
   ]
  },
  {
   "cell_type": "markdown",
   "metadata": {},
   "source": [
    "    IPython.display.display(\n",
    "        *__import__('itertools').chain(*((IPython.display.Markdown(\"---\\n\"*15), object) for object in (\n",
    "            composition,\n",
    "            literateprogramming,\n",
    "            inputs,\n",
    "            bilingual,\n",
    "            outputs,\n",
    "            interfaces,\n",
    "            testing,\n",
    "            displays,\n",
    "            widgets,\n",
    "            kernels,\n",
    "            architecture,\n",
    "            summary\n",
    "        ))))"
   ]
  },
  {
   "cell_type": "code",
   "execution_count": null,
   "metadata": {},
   "outputs": [],
   "source": []
  }
 ],
 "metadata": {
  "kernelspec": {
   "display_name": "Python 3",
   "language": "python",
   "name": "python3"
  },
  "language_info": {
   "codemirror_mode": {
    "name": "ipython",
    "version": 3
   },
   "file_extension": ".py",
   "mimetype": "text/x-python",
   "name": "python",
   "nbconvert_exporter": "python",
   "pygments_lexer": "ipython3",
   "version": "3.6.6"
  }
 },
 "nbformat": 4,
 "nbformat_minor": 2
}
