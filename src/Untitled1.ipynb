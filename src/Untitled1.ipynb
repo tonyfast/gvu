{
 "cells": [
  {
   "cell_type": "code",
   "execution_count": 1,
   "metadata": {},
   "outputs": [],
   "source": [
    "%reload_ext pidgin.shell\n",
    "%reload_ext pidgin.display"
   ]
  },
  {
   "cell_type": "code",
   "execution_count": 32,
   "metadata": {},
   "outputs": [],
   "source": [
    "    \n",
    "    class colors:\n",
    "# <span style=\"color:darkorange;\">JUPY</span>TE<span style=\"color:darkorange;\">R</span>\n",
    "\n",
    "    class combination:\n",
    "---\n",
    "- '{{colors}}'\n",
    "- - '### <span style=\"color:darkorange;\">Ju</span>lia'\n",
    "  - '### <span style=\"color:darkorange;\">Py</span>thon'\n",
    "  - '### I<span style=\"color:darkorange;\">Py</span>thon'\n",
    "  - '### <span style=\"color:darkorange;\">R</span>'\n",
    "---\n",
    "\n",
    "    class kernels:\n",
    "---\n",
    "\"{{combination}}\"\n",
    "---\n",
    "- \"[![](https://raw.githubusercontent.com/JuliaLang/IJulia.jl/master/deps/ijulialogo.png)](https://github.com/JuliaLang/IJulia.jl)\"\n",
    "- http://ipython.readthedocs.io/\n",
    "- https://irkernel.github.io/\n",
    "---\n",
    "- https://xeus.readthedocs.io/en/latest/\n",
    "- https://www.rdocumentation.org/packages/JuniperKernel/versions/1.2.3.0"
   ]
  },
  {
   "cell_type": "code",
   "execution_count": 33,
   "metadata": {},
   "outputs": [
    {
     "data": {
      "text/html": [
       "<div style=\"display: flex; flex-direction: column\"><div style=\"flex: 1\"><div style=\"display: flex; flex-direction: column\"><div style=\"flex: 1\"><div style=\"display: flex; flex-direction: row\"><div style=\"flex: 1\"><h1><span style=\"color:darkorange;\">JUPY</span>TE<span style=\"color:darkorange;\">R</span></h1>\n",
       "</div><div style=\"flex: 1\"><div style=\"display: flex; flex-direction: column\"><div style=\"flex: 1\"><h3><span style=\"color:darkorange;\">Ju</span>lia</h3>\n",
       "</div><div style=\"flex: 1\"><h3><span style=\"color:darkorange;\">Py</span>thon</h3>\n",
       "</div><div style=\"flex: 1\"><h3>I<span style=\"color:darkorange;\">Py</span>thon</h3>\n",
       "</div><div style=\"flex: 1\"><h3><span style=\"color:darkorange;\">R</span></h3>\n",
       "</div></div></div></div></div></div>\n",
       "</div><div style=\"flex: 1\"><div style=\"display: flex; flex-direction: row\"><div style=\"flex: 1\"><p><a href=\"https://github.com/JuliaLang/IJulia.jl\"><img src=\"https://raw.githubusercontent.com/JuliaLang/IJulia.jl/master/deps/ijulialogo.png\" alt=\"\" /></a></p>\n",
       "</div><div style=\"flex: 1\"><iframe style=\"height: 400px; width: 100%\" src=\"http://ipython.readthedocs.io/\"></iframe></div><div style=\"flex: 1\"><iframe style=\"height: 400px; width: 100%\" src=\"https://irkernel.github.io/\"></iframe></div></div></div><div style=\"flex: 1\"><div style=\"display: flex; flex-direction: row\"><div style=\"flex: 1\"><iframe style=\"height: 400px; width: 100%\" src=\"https://xeus.readthedocs.io/en/latest/\"></iframe></div><div style=\"flex: 1\"><iframe style=\"height: 400px; width: 100%\" src=\"https://www.rdocumentation.org/packages/JuniperKernel/versions/1.2.3.0\"></iframe></div></div></div></div>"
      ],
      "text/plain": [
       "__main__.kernels"
      ]
     },
     "execution_count": 33,
     "metadata": {},
     "output_type": "execute_result"
    }
   ],
   "source": [
    "    kernels"
   ]
  },
  {
   "cell_type": "code",
   "execution_count": null,
   "metadata": {},
   "outputs": [],
   "source": []
  }
 ],
 "metadata": {
  "kernelspec": {
   "display_name": "Python 3",
   "language": "python",
   "name": "python3"
  },
  "language_info": {
   "codemirror_mode": {
    "name": "ipython",
    "version": 3
   },
   "file_extension": ".py",
   "mimetype": "text/x-python",
   "name": "python",
   "nbconvert_exporter": "python",
   "pygments_lexer": "ipython3",
   "version": "3.6.6"
  }
 },
 "nbformat": 4,
 "nbformat_minor": 2
}
