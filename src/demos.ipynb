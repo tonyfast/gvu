{
 "cells": [
  {
   "cell_type": "code",
   "execution_count": null,
   "metadata": {},
   "outputs": [],
   "source": [
    "    import ipywidgets, math, matplotlib\n",
    "    @ipywidgets.interact\n",
    "    def interactive_function(x=(-1.0, 1.0)):\n",
    "        sin = math.sin(x)\n",
    "        return IPython.display.Markdown(interactive_function.__doc__.format(**locals()))"
   ]
  },
  {
   "cell_type": "code",
   "execution_count": null,
   "metadata": {},
   "outputs": [],
   "source": [
    "    import nbformat, json\n",
    "    with open('../readme.ipynb') as f: __notebook__ = json.load(f)\n",
    "    assert nbformat.validate(__notebook__) is None"
   ]
  },
  {
   "cell_type": "code",
   "execution_count": 1,
   "metadata": {},
   "outputs": [
    {
     "name": "stdout",
     "output_type": "stream",
     "text": [
      "**********************************************************************\n",
      "File \"__main__\", line 2, in __main__.f\n",
      "Failed example:\n",
      "    assert False\n",
      "Exception raised:\n",
      "    Traceback (most recent call last):\n",
      "      File \"C:\\Anaconda3\\lib\\doctest.py\", line 1330, in __run\n",
      "        compileflags, 1), test.globs)\n",
      "      File \"<doctest __main__.f[0]>\", line 1, in <module>\n",
      "        assert False\n",
      "    AssertionError\n",
      "**********************************************************************\n",
      "1 items had failures:\n",
      "   1 of   1 in __main__.f\n",
      "***Test Failed*** 1 failures.\n",
      "**********************************************************************\n",
      "File \"__main__\", line 10, in __main__.a_function_with_doctest\n",
      "Failed example:\n",
      "    assert False, \"True is True\"\n",
      "Exception raised:\n",
      "    Traceback (most recent call last):\n",
      "      File \"C:\\Anaconda3\\lib\\doctest.py\", line 1330, in __run\n",
      "        compileflags, 1), test.globs)\n",
      "      File \"<doctest __main__.a_function_with_doctest[0]>\", line 1, in <module>\n",
      "        assert False, \"True is True\"\n",
      "    AssertionError: True is True\n",
      "**********************************************************************\n",
      "File \"__main__\", line 2, in __main__.f\n",
      "Failed example:\n",
      "    assert False\n",
      "Exception raised:\n",
      "    Traceback (most recent call last):\n",
      "      File \"C:\\Anaconda3\\lib\\doctest.py\", line 1330, in __run\n",
      "        compileflags, 1), test.globs)\n",
      "      File \"<doctest __main__.f[0]>\", line 1, in <module>\n",
      "        assert False\n",
      "    AssertionError\n",
      "**********************************************************************\n",
      "2 items had failures:\n",
      "   1 of   1 in __main__.a_function_with_doctest\n",
      "   1 of   1 in __main__.f\n",
      "***Test Failed*** 2 failures.\n"
     ]
    },
    {
     "data": {
      "text/plain": [
       "TestResults(failed=2, attempted=2)"
      ]
     },
     "execution_count": 1,
     "metadata": {},
     "output_type": "execute_result"
    }
   ],
   "source": [
    "    def f():\n",
    "        \"\"\">>> assert False\n",
    "        \"\"\"\n",
    "    \n",
    "    \n",
    "    def a_function_with_doctest():\n",
    "        \"\"\"Doctests start with `>>>` and are continued with `...`\n",
    "\n",
    "        >>> assert False, \"True is True\"\n",
    "        \"\"\"\n",
    "    import doctest\n",
    "    doctest.testmod()"
   ]
  },
  {
   "cell_type": "code",
   "execution_count": null,
   "metadata": {},
   "outputs": [],
   "source": []
  }
 ],
 "metadata": {
  "kernelspec": {
   "display_name": "Python 3",
   "language": "python",
   "name": "python3"
  },
  "language_info": {
   "codemirror_mode": {
    "name": "ipython",
    "version": 3
   },
   "file_extension": ".py",
   "mimetype": "text/x-python",
   "name": "python",
   "nbconvert_exporter": "python",
   "pygments_lexer": "ipython3",
   "version": "3.6.6"
  }
 },
 "nbformat": 4,
 "nbformat_minor": 2
}
