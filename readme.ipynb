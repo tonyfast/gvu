{
 "cells": [
  {
   "cell_type": "markdown",
   "metadata": {},
   "source": [
    "#  Project Jupyter and the rise of literate computing"
   ]
  },
  {
   "cell_type": "markdown",
   "metadata": {},
   "source": [
    "# Today we are going to talk about:\n",
    "\n",
    "* Project Jupyter\n",
    "* Open source software\n",
    "* **Readable**, reusable, and reproducible literate computational essays.\n",
    "* Future scientific computing ecosystems.\n",
    "* Learn to share computable documents better."
   ]
  },
  {
   "cell_type": "markdown",
   "metadata": {},
   "source": [
    "## About the presentation:\n",
    "\n",
    "This demonstration is given from live running notebooks.  Please feel free if you have an questions about the implementation of the presentation.  The  notebooks in this project can be viewed on nbviewer and binder."
   ]
  },
  {
   "cell_type": "markdown",
   "metadata": {},
   "source": [
    "* https://en.wikipedia.org/wiki/Interactive_computing\n",
    "* http://literateprogramming.com/knuthweb.pdf\n",
    "* http://blog.fperez.org/2013/04/literate-computing-and-computational.html\n",
    "* https://qz.com/1417145/economics-nobel-laureate-paul-romer-is-a-python-programming-convert/\n",
    "* https://www.economist.com/news/2018/07/11/the-big-mac-index\n",
    "* https://github.com/fivethirtyeight/data\n",
    "* https://github.com/jstray/lede-algorithms\n",
    "* http://ledeprogram.com/\n",
    "* https://github.com/BuzzFeedNews\n",
    "\n",
    "* https://www.theatlantic.com/science/archive/2018/04/the-scientific-paper-is-obsolete/556676/"
   ]
  },
  {
   "cell_type": "markdown",
   "metadata": {},
   "source": [
    "* http://data8.org/\n",
    "* https://medium.com/netflix-techblog/notebook-innovation-591ee3221233\n",
    "* https://www.forbes.com/sites/janakirammsv/2018/10/01/the-key-factor-that-influences-the-adoption-of-cloud-based-machine-learning-platforms/#2d0ca9de61ad\n",
    "* https://research.google.com/colaboratory/faq.html\n",
    "* https://jupyter.readthedocs.io/en/latest/architecture/how_jupyter_ipython_work.html\n",
    "* https://github.com/jupyterday-atlanta-2016/oriole_jupyterday_atl"
   ]
  },
  {
   "cell_type": "code",
   "execution_count": null,
   "metadata": {},
   "outputs": [],
   "source": [
    "https://github.com/JuniperKernel/JuniperKernel\n",
    "https://github.com/QuantStack/xeus\n",
    "    https://github.com/JuliaLang/IJulia.jl"
   ]
  }
 ],
 "metadata": {
  "kernelspec": {
   "display_name": "Python 3",
   "language": "python",
   "name": "python3"
  },
  "language_info": {
   "codemirror_mode": {
    "name": "ipython",
    "version": 3
   },
   "file_extension": ".py",
   "mimetype": "text/x-python",
   "name": "python",
   "nbconvert_exporter": "python",
   "pygments_lexer": "ipython3",
   "version": "3.6.6"
  }
 },
 "nbformat": 4,
 "nbformat_minor": 2
}
