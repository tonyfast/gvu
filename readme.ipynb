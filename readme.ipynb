{
 "cells": [
  {
   "cell_type": "markdown",
   "metadata": {},
   "source": [
    "[![Gitter chat](https://badges.gitter.im/gitterHQ/gitter.png)](https://gitter.im/gitterHQ/gitter)[![Binder](https://mybinder.org/badge.svg)](https://mybinder.org/v2/gh/tonyfast/gvu/master)[__nbviewer__](http://nbviewer.jupyter.org/github/tonyfast/gvu/blob/master/readme.ipynb)[__github__](https://github.com/tonyfast/gvu)"
   ]
  },
  {
   "cell_type": "markdown",
   "metadata": {},
   "source": [
    "#  [https://www.cc.gatech.edu/hg/item/613206](Project Jupyter and the rise of literate computing)\n",
    "\n",
    "* By: Tony Fast [@docfast](https://twitter.com/DocFast)\n",
    "* Thursday, November 1, 2018\n",
    "* 11:30 am - 1:00 pm\n",
    "* Location: Technology Square Research Building, 1st Floor Ballroom, Atlanta, Ga\n",
    "* URL: Technology Square Research Building, 1st Floor Ballroom, Atlanta, Ga\n",
    "\n",
    "Project Jupyter is a growing ecosystem of free, open source scientific software for literate and interactive computing.  Jupyter's Notebook, and related experiences, are becoming standard interfaces for scientists and engineers in physical and social sciences.  The notebook interface is impacting the broader landscapes of research, computing, and teaching where communicating data and code are essential; the stakeholders span industry, academia, and philanthropy.  \n",
    "\n",
    "This talk will review the history of Project Jupyter as scientific software born from the Scientific Python (SciPy) community.  Since its inception, the community has extended Jupyter to work with over 50 different languages and provided new options for interactive development, research and presentation, including JupyterLab, the next generation of the Notebook.  In the broader open source community we find Jupyter tools for grading, batch processing, app development, documentation, tests, and even source code.\n",
    "\n",
    "Notebook interfaces compose literate documents that provide the ability to share human and machine readable knowledge within organizations across diverse disciplines.  This talk will highlight recent case studies in Jupyter transforming classroom education, massive collaboration in physics, data-driven journalism, and the entire multimedia experience of learning.\n",
    "\n",
    "## [Section 1](src/0.md.ipynb)\n",
    "## [Section 2](src/2.md.ipynb)\n",
    "## [Section 3](src/3.md.ipynb)"
   ]
  },
  {
   "cell_type": "markdown",
   "metadata": {},
   "source": [
    "# Today we are going to talk about:\n",
    "\n",
    "* Project Jupyter.\n",
    "* Adapting to open source software.\n",
    "* Computational essays for people and computers.\n",
    "* Sharing notebooks.\n",
    "    [![Binder](https://mybinder.org/badge.svg)](https://mybinder.org/v2/gh/tonyfast/gvu/master)[__nbviewer__](http://nbviewer.jupyter.org/github/tonyfast/gvu/blob/master/readme.ipynb)[__github__](https://github.com/tonyfast/gvu)\n",
    "* How word processing is evolving to include code and data.\n",
    "    * Visualization is a subset of the document."
   ]
  },
  {
   "cell_type": "markdown",
   "metadata": {},
   "source": [
    "# About the presentation:\n",
    "\n",
    "* This presentation is written in notebooks.\n",
    "* The presentation in given in [__JupyterLab__](https://jupyterlab.readthedocs.io).\n",
    "* All of the notebook can be read on [__nbviewer__](http://nbviewer.jupyter.org/github/tonyfast/gvu/blob/master/readme.ipynb) or [__github__](https://github.com/tonyfast/gvu).\n",
    "* You can run these notebooks on [__MyBinder__](https://mybinder.org) [![Binder](https://mybinder.org/badge.svg)](https://mybinder.org/v2/gh/tonyfast/gvu/master)\n",
    "* Please feel free if you have an questions about the implementation of the presentation.  The  notebooks in this project can be viewed on nbviewer and binder."
   ]
  },
  {
   "cell_type": "code",
   "execution_count": null,
   "metadata": {},
   "outputs": [],
   "source": [
    "    if __name__ == '__main__':\n",
    "        !jupyter nbconvert --to markdown readme.ipynb"
   ]
  },
  {
   "cell_type": "code",
   "execution_count": null,
   "metadata": {},
   "outputs": [],
   "source": []
  }
 ],
 "metadata": {
  "kernelspec": {
   "display_name": "Python 3",
   "language": "python",
   "name": "python3"
  },
  "language_info": {
   "codemirror_mode": {
    "name": "ipython",
    "version": 3
   },
   "file_extension": ".py",
   "mimetype": "text/x-python",
   "name": "python",
   "nbconvert_exporter": "python",
   "pygments_lexer": "ipython3",
   "version": "3.6.6"
  }
 },
 "nbformat": 4,
 "nbformat_minor": 2
}
