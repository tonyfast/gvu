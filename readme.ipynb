{
 "cells": [
  {
   "cell_type": "markdown",
   "metadata": {},
   "source": [
    "#  Project Jupyter and the rise of literate computing"
   ]
  },
  {
   "cell_type": "markdown",
   "metadata": {},
   "source": [
    "[![Gitter chat](https://badges.gitter.im/gitterHQ/gitter.png)](https://gitter.im/gitterHQ/gitter)"
   ]
  },
  {
   "cell_type": "markdown",
   "metadata": {},
   "source": [
    "# Today we are going to talk about:\n",
    "\n",
    "* Project Jupyter\n",
    "* Open source software\n",
    "* How to create documents from notebooks."
   ]
  },
  {
   "cell_type": "code",
   "execution_count": null,
   "metadata": {},
   "outputs": [],
   "source": [
    "    if __name__ == '__main__':\n",
    "        !jupyter nbconvert --to markdown readme.ipynb"
   ]
  },
  {
   "cell_type": "markdown",
   "metadata": {},
   "source": [
    "* Share notebooks.\n",
    "\n",
    "    [![Binder](https://mybinder.org/badge.svg)](https://mybinder.org/v2/gh/tonyfast/gvu/master)\n",
    "\n",
    "* **Readable**, reusable, and reproducible literate computational essays.\n",
    "* Future scientific computing ecosystems.\n",
    "* Learn to share computable documents better.\n",
    "* How word processing documents are evolving to include code and data.\n",
    "    * Visualization is a subset of the document."
   ]
  },
  {
   "cell_type": "markdown",
   "metadata": {},
   "source": [
    "## About the presentation:\n",
    "\n",
    "This demonstration is given from live running notebooks.  Please feel free if you have an questions about the implementation of the presentation.  The  notebooks in this project can be viewed on nbviewer and binder."
   ]
  }
 ],
 "metadata": {
  "kernelspec": {
   "display_name": "Python 3",
   "language": "python",
   "name": "python3"
  },
  "language_info": {
   "codemirror_mode": {
    "name": "ipython",
    "version": 3
   },
   "file_extension": ".py",
   "mimetype": "text/x-python",
   "name": "python",
   "nbconvert_exporter": "python",
   "pygments_lexer": "ipython3",
   "version": "3.6.6"
  }
 },
 "nbformat": 4,
 "nbformat_minor": 2
}
